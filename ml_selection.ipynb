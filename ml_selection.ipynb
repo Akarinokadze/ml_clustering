{
 "cells": [
  {
   "cell_type": "markdown",
   "id": "d923833c",
   "metadata": {},
   "source": [
    "## Обзор базовых моделей ML"
   ]
  },
  {
   "cell_type": "markdown",
   "id": "90edf7c3",
   "metadata": {},
   "source": [
    "### Цель\n",
    "\n",
    "    Осмотреть базовые алгоритмы машинного обучения в задаче мультиклассовой классификации.\n",
    "    Посмотреть на эффективность данных моделей.\n",
    "    Сравнить методы векторизации BoW и TF-IDF.\n",
    "\n",
    "### Данные\n",
    "\n",
    "Набор данных представлен записями сделанными пользователями с Толоки.\n",
    "\n",
    "    entry - запись о трате сделанная пользователем\n",
    "    category - одна из базовых категорий, определены пользователями\n",
    "    confidence - уверенность в ответе пользователей после агрегации по методу Дэвида-Скина\n",
    "    \n",
    "### Базовые категории\n",
    "\n",
    "Housing:\n",
    "\n",
    "    Rent or mortgage payments, property taxes, HOA dues, and home repair & maintenance costs.\n",
    "\n",
    "Transportation:\n",
    "\n",
    "    Car payments, registration and DMV fees, gas, maintenance, parking, tolls, and public transit.\n",
    "\n",
    "Groceries & Dining:\n",
    "\n",
    "    Groceries,  dining out, work lunches, food delivery, baby food, pet food etc.\n",
    "\n",
    "Utilities & Phone:\n",
    "\n",
    "    Water, electricity, gas and sewage bills. Cell phone, cable, and internet expenses. Streaming services and subscriptions.\n",
    "\n",
    "Medical & Healthcare:\n",
    "\n",
    "    Out-of-pocket costs for primary care, specialty care (dermatologists, psychologists, etc.), dental care, urgent care, prescriptions etc.\n",
    "\n",
    "Recreation & Entertainment:\n",
    "\n",
    "    Concert & sporting tickets, family activities & vacations, gifts.\n",
    "\n",
    "Personal:\n",
    "\n",
    "    Gym memberships, clothes and shoes, beauty treatments, hobbies.\n",
    "\n",
    "Saving & Debt:\n",
    "\n",
    "    Credit card bills, personal loans, or student loans. Investing and saving of all kind.\n",
    "\n",
    "Miscellaneous:\n",
    "\n",
    "    All that is clearly some expense but doesn't fit into main categories.\n",
    "\n",
    "Entry is incomprehensible (категория `nonsense`):\n",
    "\n",
    "    Please mark this option if an expense note is not understandable."
   ]
  },
  {
   "cell_type": "markdown",
   "id": "642a4ef5",
   "metadata": {},
   "source": [
    "## EDA"
   ]
  },
  {
   "cell_type": "markdown",
   "id": "ea9697c6",
   "metadata": {},
   "source": [
    "Установим дополнительную библиотеку pandas_profiling для EDA и библиотеку LightGBM."
   ]
  },
  {
   "cell_type": "code",
   "execution_count": 1,
   "id": "17ed7a1f",
   "metadata": {},
   "outputs": [],
   "source": [
    "!pip install pandas_profiling -q"
   ]
  },
  {
   "cell_type": "code",
   "execution_count": 2,
   "id": "cca3bb93",
   "metadata": {},
   "outputs": [],
   "source": [
    "!pip install lightgbm -q"
   ]
  },
  {
   "cell_type": "markdown",
   "id": "90b03321",
   "metadata": {},
   "source": [
    "Загрузка необходимых модулей."
   ]
  },
  {
   "cell_type": "code",
   "execution_count": 3,
   "id": "6c2a2e9e",
   "metadata": {},
   "outputs": [],
   "source": [
    "import pandas as pd\n",
    "import numpy as np\n",
    "import pandas_profiling\n",
    "import seaborn as sns\n",
    "import matplotlib.pyplot as plt\n",
    "\n",
    "import nltk\n",
    "import re\n",
    "from nltk.corpus import stopwords\n",
    "\n",
    "#nltk.download(\"stopwords\") # поддерживает удаление стоп-слов\n",
    "#nltk.download('punkt') # делит текст на список предложений\n",
    "#nltk.download('wordnet') # проводит лемматизацию\n",
    "\n",
    "from sklearn.feature_extraction.text import CountVectorizer\n",
    "from sklearn.feature_extraction.text import TfidfVectorizer\n",
    "\n",
    "from sklearn import preprocessing\n",
    "from sklearn.model_selection import train_test_split\n",
    "\n",
    "from sklearn.metrics import confusion_matrix, ConfusionMatrixDisplay, classification_report\n",
    "\n",
    "from sklearn.naive_bayes import GaussianNB\n",
    "from sklearn.linear_model import LogisticRegression\n",
    "from sklearn.svm import LinearSVC\n",
    "\n",
    "import lightgbm as lgb\n",
    "\n",
    "from keras import models\n",
    "from keras import layers\n",
    "from tensorflow.keras.models import Sequential\n",
    "from tensorflow.keras.layers import Dense\n",
    "import tensorflow as tf\n",
    "from keras import optimizers"
   ]
  },
  {
   "cell_type": "markdown",
   "id": "3eb38645",
   "metadata": {},
   "source": [
    "Зададим глобальные переменные."
   ]
  },
  {
   "cell_type": "code",
   "execution_count": 4,
   "id": "1b86ef8c",
   "metadata": {},
   "outputs": [],
   "source": [
    "SEED = 31416"
   ]
  },
  {
   "cell_type": "markdown",
   "id": "3f7e7a9e",
   "metadata": {},
   "source": [
    "Загрузим датасет и осмотрим данные."
   ]
  },
  {
   "cell_type": "code",
   "execution_count": 5,
   "id": "cc9dd122",
   "metadata": {},
   "outputs": [],
   "source": [
    "df = pd.read_csv('toloka_df.csv', index_col='Unnamed: 0')\n",
    "df.drop(columns='confidence', inplace=True)"
   ]
  },
  {
   "cell_type": "code",
   "execution_count": 6,
   "id": "02a01f7f",
   "metadata": {},
   "outputs": [
    {
     "name": "stdout",
     "output_type": "stream",
     "text": [
      "<class 'pandas.core.frame.DataFrame'>\n",
      "Int64Index: 11550 entries, 0 to 11549\n",
      "Data columns (total 2 columns):\n",
      " #   Column    Non-Null Count  Dtype \n",
      "---  ------    --------------  ----- \n",
      " 0   entry     11550 non-null  object\n",
      " 1   category  11550 non-null  object\n",
      "dtypes: object(2)\n",
      "memory usage: 270.7+ KB\n"
     ]
    }
   ],
   "source": [
    "df.info()"
   ]
  },
  {
   "cell_type": "code",
   "execution_count": 7,
   "id": "9e64e75b",
   "metadata": {},
   "outputs": [
    {
     "data": {
      "image/png": "[encoded data removed]",
      "text/plain": [
       "<Figure size 432x288 with 1 Axes>"
      ]
     },
     "metadata": {
      "needs_background": "light"
     },
     "output_type": "display_data"
    }
   ],
   "source": [
    "sns.countplot(data=df, y='category')\n",
    "plt.show()"
   ]
  },
  {
   "cell_type": "markdown",
   "id": "776d9269",
   "metadata": {},
   "source": [
    "Отбросим данные с категорией `nonsense`, чтобы не засорять данные."
   ]
  },
  {
   "cell_type": "code",
   "execution_count": 8,
   "id": "008c4b7f",
   "metadata": {},
   "outputs": [],
   "source": [
    "df = df[df['category'] != 'nonsense']\n",
    "df = df[df['category'] != 'miscellaneous']"
   ]
  },
  {
   "cell_type": "code",
   "execution_count": 9,
   "id": "34f0991d",
   "metadata": {},
   "outputs": [
    {
     "data": {
      "application/vnd.jupyter.widget-view+json": {
       "model_id": "a1d68f6caee04423a5083fb8fed13458",
       "version_major": 2,
       "version_minor": 0
      },
      "text/plain": [
       "Summarize dataset:   0%|          | 0/5 [00:00<?, ?it/s]"
      ]
     },
     "metadata": {},
     "output_type": "display_data"
    },
    {
     "data": {
      "application/vnd.jupyter.widget-view+json": {
       "model_id": "1c605076b31d401889e47b52ea9e92f6",
       "version_major": 2,
       "version_minor": 0
      },
      "text/plain": [
       "Generate report structure:   0%|          | 0/1 [00:00<?, ?it/s]"
      ]
     },
     "metadata": {},
     "output_type": "display_data"
    },
    {
     "data": {
      "application/vnd.jupyter.widget-view+json": {
       "model_id": "",
       "version_major": 2,
       "version_minor": 0
      },
      "text/plain": [
       "Render widgets:   0%|          | 0/1 [00:00<?, ?it/s]"
      ]
     },
     "metadata": {},
     "output_type": "display_data"
    },
    {
     "data": {
      "application/vnd.jupyter.widget-view+json": {
       "model_id": "182cbcf1d15b4bef87b6268793ae6e42",
       "version_major": 2,
       "version_minor": 0
      },
      "text/plain": [
       "VBox(children=(Tab(children=(Tab(children=(GridBox(children=(VBox(children=(GridspecLayout(children=(HTML(valu…"
      ]
     },
     "metadata": {},
     "output_type": "display_data"
    }
   ],
   "source": [
    "df.profile_report().to_widgets()"
   ]
  },
  {
   "cell_type": "markdown",
   "id": "d3751357",
   "metadata": {},
   "source": [
    "Сбросим полные дубликаты чтобы убрать bias."
   ]
  },
  {
   "cell_type": "code",
   "execution_count": 10,
   "id": "4b800ae7",
   "metadata": {},
   "outputs": [],
   "source": [
    "df.drop_duplicates(inplace=True)\n",
    "df.reset_index(inplace=True, drop=True)"
   ]
  },
  {
   "cell_type": "code",
   "execution_count": 11,
   "id": "7df86f25",
   "metadata": {},
   "outputs": [
    {
     "name": "stdout",
     "output_type": "stream",
     "text": [
      "<class 'pandas.core.frame.DataFrame'>\n",
      "RangeIndex: 7809 entries, 0 to 7808\n",
      "Data columns (total 2 columns):\n",
      " #   Column    Non-Null Count  Dtype \n",
      "---  ------    --------------  ----- \n",
      " 0   entry     7809 non-null   object\n",
      " 1   category  7809 non-null   object\n",
      "dtypes: object(2)\n",
      "memory usage: 122.1+ KB\n"
     ]
    }
   ],
   "source": [
    "df.info()"
   ]
  },
  {
   "cell_type": "markdown",
   "id": "bdae831e",
   "metadata": {},
   "source": [
    "## Предобработка текста"
   ]
  },
  {
   "cell_type": "markdown",
   "id": "bd02b082",
   "metadata": {},
   "source": [
    "Очистим и лемматизируем наши тексты."
   ]
  },
  {
   "cell_type": "code",
   "execution_count": 12,
   "id": "4457d309",
   "metadata": {},
   "outputs": [],
   "source": [
    "lemmatize = nltk.WordNetLemmatizer()\n",
    "\n",
    "def cleaning(row):\n",
    "    text = re.sub('[^a-zA-Z]', ' ', row.entry).lower() # удаляем неалфавитные символы, приводим к нижнему регистру\n",
    "    text = nltk.word_tokenize(text, language = 'english') # токенизируем слова\n",
    "    text = [lemmatize.lemmatize(word) for word in text] # лемматирзируем слова\n",
    "    row['entry_new'] = ' '.join(text) # соединяем слова\n",
    "    return row"
   ]
  },
  {
   "cell_type": "markdown",
   "id": "383da3ae",
   "metadata": {},
   "source": [
    "Создадим столбец с очищенными леммами."
   ]
  },
  {
   "cell_type": "code",
   "execution_count": 13,
   "id": "473386c7",
   "metadata": {},
   "outputs": [],
   "source": [
    "df = df.apply(cleaning, axis=1)"
   ]
  },
  {
   "cell_type": "markdown",
   "id": "b04544b3",
   "metadata": {},
   "source": [
    "Посмотрим на результат."
   ]
  },
  {
   "cell_type": "code",
   "execution_count": 14,
   "id": "fcae3bfb",
   "metadata": {},
   "outputs": [
    {
     "data": {
      "text/html": [
       "<div>\n",
       "<style scoped>\n",
       "    .dataframe tbody tr th:only-of-type {\n",
       "        vertical-align: middle;\n",
       "    }\n",
       "\n",
       "    .dataframe tbody tr th {\n",
       "        vertical-align: top;\n",
       "    }\n",
       "\n",
       "    .dataframe thead th {\n",
       "        text-align: right;\n",
       "    }\n",
       "</style>\n",
       "<table border=\"1\" class=\"dataframe\">\n",
       "  <thead>\n",
       "    <tr style=\"text-align: right;\">\n",
       "      <th></th>\n",
       "      <th>entry</th>\n",
       "      <th>category</th>\n",
       "      <th>entry_new</th>\n",
       "    </tr>\n",
       "  </thead>\n",
       "  <tbody>\n",
       "    <tr>\n",
       "      <th>3719</th>\n",
       "      <td>personal upkeep</td>\n",
       "      <td>personal</td>\n",
       "      <td>personal upkeep</td>\n",
       "    </tr>\n",
       "    <tr>\n",
       "      <th>6171</th>\n",
       "      <td>bus fare from work - 100</td>\n",
       "      <td>transportation</td>\n",
       "      <td>bus fare from work</td>\n",
       "    </tr>\n",
       "    <tr>\n",
       "      <th>5886</th>\n",
       "      <td>Library late return fee</td>\n",
       "      <td>recreation</td>\n",
       "      <td>library late return fee</td>\n",
       "    </tr>\n",
       "    <tr>\n",
       "      <th>2276</th>\n",
       "      <td>Visa runner's fee</td>\n",
       "      <td>saving</td>\n",
       "      <td>visa runner s fee</td>\n",
       "    </tr>\n",
       "    <tr>\n",
       "      <th>6812</th>\n",
       "      <td>adult male sox - 3.99</td>\n",
       "      <td>personal</td>\n",
       "      <td>adult male sox</td>\n",
       "    </tr>\n",
       "  </tbody>\n",
       "</table>\n",
       "</div>"
      ],
      "text/plain": [
       "                         entry        category                entry_new\n",
       "3719           personal upkeep        personal          personal upkeep\n",
       "6171  bus fare from work - 100  transportation       bus fare from work\n",
       "5886   Library late return fee      recreation  library late return fee\n",
       "2276         Visa runner's fee          saving        visa runner s fee\n",
       "6812     adult male sox - 3.99        personal           adult male sox"
      ]
     },
     "execution_count": 14,
     "metadata": {},
     "output_type": "execute_result"
    }
   ],
   "source": [
    "df.sample(5)"
   ]
  },
  {
   "cell_type": "markdown",
   "id": "4dc301e3",
   "metadata": {},
   "source": [
    "Создадим объект векторизатора, обучим и применим к новому столбцу стратегию \"мешок слов\"."
   ]
  },
  {
   "cell_type": "code",
   "execution_count": 15,
   "id": "cb1b47ff",
   "metadata": {},
   "outputs": [],
   "source": [
    "count_vectorizer = CountVectorizer(stop_words=\"english\")\n",
    "features_c = count_vectorizer.fit_transform(df.entry_new)"
   ]
  },
  {
   "cell_type": "code",
   "execution_count": 16,
   "id": "f18debb8",
   "metadata": {},
   "outputs": [
    {
     "data": {
      "text/plain": [
       "<7809x2725 sparse matrix of type '<class 'numpy.int64'>'\n",
       "\twith 16850 stored elements in Compressed Sparse Row format>"
      ]
     },
     "execution_count": 16,
     "metadata": {},
     "output_type": "execute_result"
    }
   ],
   "source": [
    "features_c"
   ]
  },
  {
   "cell_type": "markdown",
   "id": "a1472cb1",
   "metadata": {},
   "source": [
    "Создадим объект векторизатора, обучим и применим к новому столбцу стратегию \"TF-IDF\"."
   ]
  },
  {
   "cell_type": "code",
   "execution_count": 17,
   "id": "92bdac11",
   "metadata": {},
   "outputs": [],
   "source": [
    "tfidf_vectorizer = TfidfVectorizer(stop_words=\"english\")\n",
    "features_t = tfidf_vectorizer.fit_transform(df.entry_new)"
   ]
  },
  {
   "cell_type": "code",
   "execution_count": 18,
   "id": "c3c556c5",
   "metadata": {},
   "outputs": [
    {
     "data": {
      "text/plain": [
       "<7809x2725 sparse matrix of type '<class 'numpy.float64'>'\n",
       "\twith 16850 stored elements in Compressed Sparse Row format>"
      ]
     },
     "execution_count": 18,
     "metadata": {},
     "output_type": "execute_result"
    }
   ],
   "source": [
    "features_t"
   ]
  },
  {
   "cell_type": "markdown",
   "id": "78bc26db",
   "metadata": {},
   "source": [
    "Применим LabelEncoder чтобы закодировать наши цели (столбец `category`)."
   ]
  },
  {
   "cell_type": "code",
   "execution_count": 19,
   "id": "b618906a",
   "metadata": {},
   "outputs": [],
   "source": [
    "le = preprocessing.LabelEncoder()\n",
    "target = le.fit_transform(df.category)"
   ]
  },
  {
   "cell_type": "code",
   "execution_count": 20,
   "id": "82069954",
   "metadata": {},
   "outputs": [
    {
     "data": {
      "text/plain": [
       "array([3, 4, 0, ..., 6, 6, 7])"
      ]
     },
     "execution_count": 20,
     "metadata": {},
     "output_type": "execute_result"
    }
   ],
   "source": [
    "target"
   ]
  },
  {
   "cell_type": "markdown",
   "id": "613596ef",
   "metadata": {},
   "source": [
    "Разделим данные на обучающие и тестовые выборки."
   ]
  },
  {
   "cell_type": "code",
   "execution_count": 21,
   "id": "2285f35d",
   "metadata": {},
   "outputs": [],
   "source": [
    "X_c, X_c_test, y_c, y_c_test = train_test_split(features_c, target, random_state=SEED, stratify=target)\n",
    "X_t, X_t_test, y_t, y_t_test = train_test_split(features_t, target, random_state=SEED, stratify=target)"
   ]
  },
  {
   "cell_type": "markdown",
   "id": "63e94aca",
   "metadata": {},
   "source": [
    "Проверим разделение по классам."
   ]
  },
  {
   "cell_type": "code",
   "execution_count": 22,
   "id": "e41ee5af",
   "metadata": {},
   "outputs": [
    {
     "data": {
      "image/png": "[encoded data removed]",
      "text/plain": [
       "<Figure size 1080x360 with 2 Axes>"
      ]
     },
     "metadata": {
      "needs_background": "light"
     },
     "output_type": "display_data"
    }
   ],
   "source": [
    "c_train = pd.DataFrame(y_c, columns=['categories'])\n",
    "c_test = pd.DataFrame(y_c_test, columns=['categories'])\n",
    "t_train = pd.DataFrame(y_t, columns=['categories'])\n",
    "t_test = pd.DataFrame(y_t_test, columns=['categories'])\n",
    "\n",
    "f, (ax1, ax2) = plt.subplots(1, 2, figsize=(15, 5))\n",
    "sns.countplot(data=c_train, y='categories', alpha=.5, ax=ax1)\n",
    "sns.countplot(data=c_test, y='categories', alpha=1, ax=ax1)\n",
    "ax1.set_title('BoW splitting')\n",
    "sns.countplot(data=t_train, y='categories', alpha=.5, ax=ax2)\n",
    "sns.countplot(data=t_test, y='categories', alpha=1, ax=ax2)\n",
    "ax2.set_title('TF-IDF splitting')\n",
    "plt.show()"
   ]
  },
  {
   "cell_type": "markdown",
   "id": "fdcf048c",
   "metadata": {},
   "source": [
    "## Работа с моделями"
   ]
  },
  {
   "cell_type": "markdown",
   "id": "ca2ea91e",
   "metadata": {},
   "source": [
    "### GaussianNB\n",
    "\n",
    "Проверим наивный классификатор Байеса."
   ]
  },
  {
   "cell_type": "code",
   "execution_count": 23,
   "id": "a10c84a9",
   "metadata": {},
   "outputs": [
    {
     "name": "stdout",
     "output_type": "stream",
     "text": [
      "CPU times: total: 531 ms\n",
      "Wall time: 534 ms\n"
     ]
    }
   ],
   "source": [
    "%%time\n",
    "nb_c = GaussianNB().fit(X_c.toarray(), y_c)\n",
    "nb_t = GaussianNB().fit(X_t.toarray(), y_t)"
   ]
  },
  {
   "cell_type": "markdown",
   "id": "a50081a2",
   "metadata": {},
   "source": [
    "Посмотрим на отчёт по классификации."
   ]
  },
  {
   "cell_type": "code",
   "execution_count": 24,
   "id": "05f4cac0",
   "metadata": {},
   "outputs": [],
   "source": [
    "nb_predictions_c = nb_c.predict(X_c_test.toarray())\n",
    "nb_predictions_t = nb_t.predict(X_t_test.toarray())"
   ]
  },
  {
   "cell_type": "code",
   "execution_count": 25,
   "id": "2030664d",
   "metadata": {},
   "outputs": [
    {
     "data": {
      "text/html": [
       "<div>\n",
       "<style scoped>\n",
       "    .dataframe tbody tr th:only-of-type {\n",
       "        vertical-align: middle;\n",
       "    }\n",
       "\n",
       "    .dataframe tbody tr th {\n",
       "        vertical-align: top;\n",
       "    }\n",
       "\n",
       "    .dataframe thead th {\n",
       "        text-align: right;\n",
       "    }\n",
       "</style>\n",
       "<table border=\"1\" class=\"dataframe\">\n",
       "  <thead>\n",
       "    <tr style=\"text-align: right;\">\n",
       "      <th></th>\n",
       "      <th>precision</th>\n",
       "      <th>recall</th>\n",
       "      <th>f1-score</th>\n",
       "      <th>support</th>\n",
       "    </tr>\n",
       "  </thead>\n",
       "  <tbody>\n",
       "    <tr>\n",
       "      <th>food</th>\n",
       "      <td>0.930</td>\n",
       "      <td>0.688</td>\n",
       "      <td>0.791</td>\n",
       "      <td>503.000</td>\n",
       "    </tr>\n",
       "    <tr>\n",
       "      <th>housing</th>\n",
       "      <td>0.486</td>\n",
       "      <td>0.470</td>\n",
       "      <td>0.478</td>\n",
       "      <td>181.000</td>\n",
       "    </tr>\n",
       "    <tr>\n",
       "      <th>medical</th>\n",
       "      <td>0.345</td>\n",
       "      <td>0.578</td>\n",
       "      <td>0.432</td>\n",
       "      <td>102.000</td>\n",
       "    </tr>\n",
       "    <tr>\n",
       "      <th>personal</th>\n",
       "      <td>0.854</td>\n",
       "      <td>0.468</td>\n",
       "      <td>0.605</td>\n",
       "      <td>412.000</td>\n",
       "    </tr>\n",
       "    <tr>\n",
       "      <th>recreation</th>\n",
       "      <td>0.489</td>\n",
       "      <td>0.424</td>\n",
       "      <td>0.454</td>\n",
       "      <td>203.000</td>\n",
       "    </tr>\n",
       "    <tr>\n",
       "      <th>saving</th>\n",
       "      <td>0.163</td>\n",
       "      <td>0.736</td>\n",
       "      <td>0.267</td>\n",
       "      <td>91.000</td>\n",
       "    </tr>\n",
       "    <tr>\n",
       "      <th>transportation</th>\n",
       "      <td>0.644</td>\n",
       "      <td>0.694</td>\n",
       "      <td>0.668</td>\n",
       "      <td>193.000</td>\n",
       "    </tr>\n",
       "    <tr>\n",
       "      <th>utilities</th>\n",
       "      <td>0.752</td>\n",
       "      <td>0.601</td>\n",
       "      <td>0.668</td>\n",
       "      <td>268.000</td>\n",
       "    </tr>\n",
       "    <tr>\n",
       "      <th>accuracy</th>\n",
       "      <td>0.579</td>\n",
       "      <td>0.579</td>\n",
       "      <td>0.579</td>\n",
       "      <td>0.579</td>\n",
       "    </tr>\n",
       "    <tr>\n",
       "      <th>macro avg</th>\n",
       "      <td>0.583</td>\n",
       "      <td>0.582</td>\n",
       "      <td>0.545</td>\n",
       "      <td>1953.000</td>\n",
       "    </tr>\n",
       "    <tr>\n",
       "      <th>weighted avg</th>\n",
       "      <td>0.708</td>\n",
       "      <td>0.579</td>\n",
       "      <td>0.615</td>\n",
       "      <td>1953.000</td>\n",
       "    </tr>\n",
       "  </tbody>\n",
       "</table>\n",
       "</div>"
      ],
      "text/plain": [
       "                precision  recall  f1-score   support\n",
       "food                0.930   0.688     0.791   503.000\n",
       "housing             0.486   0.470     0.478   181.000\n",
       "medical             0.345   0.578     0.432   102.000\n",
       "personal            0.854   0.468     0.605   412.000\n",
       "recreation          0.489   0.424     0.454   203.000\n",
       "saving              0.163   0.736     0.267    91.000\n",
       "transportation      0.644   0.694     0.668   193.000\n",
       "utilities           0.752   0.601     0.668   268.000\n",
       "accuracy            0.579   0.579     0.579     0.579\n",
       "macro avg           0.583   0.582     0.545  1953.000\n",
       "weighted avg        0.708   0.579     0.615  1953.000"
      ]
     },
     "execution_count": 25,
     "metadata": {},
     "output_type": "execute_result"
    }
   ],
   "source": [
    "cr = classification_report(\n",
    "    y_c_test, nb_predictions_c,\n",
    "    target_names=le.classes_,\n",
    "    output_dict=True, zero_division=0\n",
    ")\n",
    "\n",
    "results = {}\n",
    "results['GaussianNB BoW'] = cr['weighted avg']\n",
    "\n",
    "pd.DataFrame(cr).round(decimals=3).transpose()"
   ]
  },
  {
   "cell_type": "code",
   "execution_count": 26,
   "id": "c9156180",
   "metadata": {},
   "outputs": [
    {
     "data": {
      "text/html": [
       "<div>\n",
       "<style scoped>\n",
       "    .dataframe tbody tr th:only-of-type {\n",
       "        vertical-align: middle;\n",
       "    }\n",
       "\n",
       "    .dataframe tbody tr th {\n",
       "        vertical-align: top;\n",
       "    }\n",
       "\n",
       "    .dataframe thead th {\n",
       "        text-align: right;\n",
       "    }\n",
       "</style>\n",
       "<table border=\"1\" class=\"dataframe\">\n",
       "  <thead>\n",
       "    <tr style=\"text-align: right;\">\n",
       "      <th></th>\n",
       "      <th>precision</th>\n",
       "      <th>recall</th>\n",
       "      <th>f1-score</th>\n",
       "      <th>support</th>\n",
       "    </tr>\n",
       "  </thead>\n",
       "  <tbody>\n",
       "    <tr>\n",
       "      <th>food</th>\n",
       "      <td>0.910</td>\n",
       "      <td>0.686</td>\n",
       "      <td>0.782</td>\n",
       "      <td>503.00</td>\n",
       "    </tr>\n",
       "    <tr>\n",
       "      <th>housing</th>\n",
       "      <td>0.478</td>\n",
       "      <td>0.486</td>\n",
       "      <td>0.482</td>\n",
       "      <td>181.00</td>\n",
       "    </tr>\n",
       "    <tr>\n",
       "      <th>medical</th>\n",
       "      <td>0.358</td>\n",
       "      <td>0.569</td>\n",
       "      <td>0.439</td>\n",
       "      <td>102.00</td>\n",
       "    </tr>\n",
       "    <tr>\n",
       "      <th>personal</th>\n",
       "      <td>0.818</td>\n",
       "      <td>0.468</td>\n",
       "      <td>0.596</td>\n",
       "      <td>412.00</td>\n",
       "    </tr>\n",
       "    <tr>\n",
       "      <th>recreation</th>\n",
       "      <td>0.475</td>\n",
       "      <td>0.414</td>\n",
       "      <td>0.442</td>\n",
       "      <td>203.00</td>\n",
       "    </tr>\n",
       "    <tr>\n",
       "      <th>saving</th>\n",
       "      <td>0.164</td>\n",
       "      <td>0.703</td>\n",
       "      <td>0.266</td>\n",
       "      <td>91.00</td>\n",
       "    </tr>\n",
       "    <tr>\n",
       "      <th>transportation</th>\n",
       "      <td>0.662</td>\n",
       "      <td>0.720</td>\n",
       "      <td>0.690</td>\n",
       "      <td>193.00</td>\n",
       "    </tr>\n",
       "    <tr>\n",
       "      <th>utilities</th>\n",
       "      <td>0.757</td>\n",
       "      <td>0.604</td>\n",
       "      <td>0.672</td>\n",
       "      <td>268.00</td>\n",
       "    </tr>\n",
       "    <tr>\n",
       "      <th>accuracy</th>\n",
       "      <td>0.580</td>\n",
       "      <td>0.580</td>\n",
       "      <td>0.580</td>\n",
       "      <td>0.58</td>\n",
       "    </tr>\n",
       "    <tr>\n",
       "      <th>macro avg</th>\n",
       "      <td>0.578</td>\n",
       "      <td>0.581</td>\n",
       "      <td>0.546</td>\n",
       "      <td>1953.00</td>\n",
       "    </tr>\n",
       "    <tr>\n",
       "      <th>weighted avg</th>\n",
       "      <td>0.696</td>\n",
       "      <td>0.580</td>\n",
       "      <td>0.614</td>\n",
       "      <td>1953.00</td>\n",
       "    </tr>\n",
       "  </tbody>\n",
       "</table>\n",
       "</div>"
      ],
      "text/plain": [
       "                precision  recall  f1-score  support\n",
       "food                0.910   0.686     0.782   503.00\n",
       "housing             0.478   0.486     0.482   181.00\n",
       "medical             0.358   0.569     0.439   102.00\n",
       "personal            0.818   0.468     0.596   412.00\n",
       "recreation          0.475   0.414     0.442   203.00\n",
       "saving              0.164   0.703     0.266    91.00\n",
       "transportation      0.662   0.720     0.690   193.00\n",
       "utilities           0.757   0.604     0.672   268.00\n",
       "accuracy            0.580   0.580     0.580     0.58\n",
       "macro avg           0.578   0.581     0.546  1953.00\n",
       "weighted avg        0.696   0.580     0.614  1953.00"
      ]
     },
     "execution_count": 26,
     "metadata": {},
     "output_type": "execute_result"
    }
   ],
   "source": [
    "cr = classification_report(\n",
    "    y_t_test, nb_predictions_t,\n",
    "    target_names=le.classes_,\n",
    "    output_dict=True, zero_division=0\n",
    ")\n",
    "\n",
    "results['GaussianNB TF-IDF'] = cr['weighted avg']\n",
    "\n",
    "pd.DataFrame(cr).round(decimals=3).transpose()"
   ]
  },
  {
   "cell_type": "markdown",
   "id": "5b63d58e",
   "metadata": {},
   "source": [
    "Также визуализируем матрицу ошибок."
   ]
  },
  {
   "cell_type": "code",
   "execution_count": 27,
   "id": "e7670529",
   "metadata": {},
   "outputs": [],
   "source": [
    "cm_c = confusion_matrix(y_c_test, nb_predictions_c)\n",
    "cm_t = confusion_matrix(y_t_test, nb_predictions_t)"
   ]
  },
  {
   "cell_type": "code",
   "execution_count": 28,
   "id": "6e161b0a",
   "metadata": {},
   "outputs": [
    {
     "data": {
      "image/png": "[encoded data removed]",
      "text/plain": [
       "<Figure size 1080x360 with 4 Axes>"
      ]
     },
     "metadata": {
      "needs_background": "light"
     },
     "output_type": "display_data"
    }
   ],
   "source": [
    "fig, (ax1, ax2) = plt.subplots(1, 2, figsize=(15, 5))\n",
    "cmd_c = ConfusionMatrixDisplay(cm_c, display_labels=le.classes_)\n",
    "cmd_c.plot(ax=ax1)\n",
    "ax1.set_xticklabels(labels=le.classes_, rotation=90)\n",
    "ax1.set_title('BoW NB confusion matrix')\n",
    "cmd_t = ConfusionMatrixDisplay(cm_t, display_labels=le.classes_)\n",
    "cmd_t.plot(ax=ax2)\n",
    "ax2.set_xticklabels(labels=le.classes_, rotation=90)\n",
    "ax2.set_title('TF-IDF NB confusion matrix')\n",
    "plt.show()"
   ]
  },
  {
   "cell_type": "markdown",
   "id": "5e57d201",
   "metadata": {},
   "source": [
    "#### Выводы\n",
    "\n",
    "Не лучшие результаты. Средневзвешенная метрика F1 = 0.515\n",
    "\n",
    "Рассмотрим другие модели."
   ]
  },
  {
   "cell_type": "markdown",
   "id": "4c923bc4",
   "metadata": {},
   "source": [
    "### LogisticRegression\n",
    "\n",
    "Зададим и обучим классификаторы."
   ]
  },
  {
   "cell_type": "code",
   "execution_count": 29,
   "id": "57766b49",
   "metadata": {},
   "outputs": [
    {
     "name": "stdout",
     "output_type": "stream",
     "text": [
      "CPU times: total: 359 ms\n",
      "Wall time: 26 s\n"
     ]
    }
   ],
   "source": [
    "%%time\n",
    "lr_c = LogisticRegression(random_state=SEED, n_jobs=-1).fit(X_c.toarray(), y_c)\n",
    "lr_t = LogisticRegression(random_state=SEED, n_jobs=-1).fit(X_t.toarray(), y_t)"
   ]
  },
  {
   "cell_type": "markdown",
   "id": "772d1c3f",
   "metadata": {},
   "source": [
    "Посмотрим на отчёт по классификации."
   ]
  },
  {
   "cell_type": "code",
   "execution_count": 30,
   "id": "5190f528",
   "metadata": {},
   "outputs": [],
   "source": [
    "lr_predictions_c = lr_c.predict(X_c_test.toarray())\n",
    "lr_predictions_t = lr_t.predict(X_t_test.toarray())"
   ]
  },
  {
   "cell_type": "code",
   "execution_count": 31,
   "id": "b8cbd0a8",
   "metadata": {},
   "outputs": [
    {
     "data": {
      "text/html": [
       "<div>\n",
       "<style scoped>\n",
       "    .dataframe tbody tr th:only-of-type {\n",
       "        vertical-align: middle;\n",
       "    }\n",
       "\n",
       "    .dataframe tbody tr th {\n",
       "        vertical-align: top;\n",
       "    }\n",
       "\n",
       "    .dataframe thead th {\n",
       "        text-align: right;\n",
       "    }\n",
       "</style>\n",
       "<table border=\"1\" class=\"dataframe\">\n",
       "  <thead>\n",
       "    <tr style=\"text-align: right;\">\n",
       "      <th></th>\n",
       "      <th>precision</th>\n",
       "      <th>recall</th>\n",
       "      <th>f1-score</th>\n",
       "      <th>support</th>\n",
       "    </tr>\n",
       "  </thead>\n",
       "  <tbody>\n",
       "    <tr>\n",
       "      <th>food</th>\n",
       "      <td>0.763</td>\n",
       "      <td>0.936</td>\n",
       "      <td>0.841</td>\n",
       "      <td>503.0</td>\n",
       "    </tr>\n",
       "    <tr>\n",
       "      <th>housing</th>\n",
       "      <td>0.849</td>\n",
       "      <td>0.746</td>\n",
       "      <td>0.794</td>\n",
       "      <td>181.0</td>\n",
       "    </tr>\n",
       "    <tr>\n",
       "      <th>medical</th>\n",
       "      <td>0.889</td>\n",
       "      <td>0.549</td>\n",
       "      <td>0.679</td>\n",
       "      <td>102.0</td>\n",
       "    </tr>\n",
       "    <tr>\n",
       "      <th>personal</th>\n",
       "      <td>0.791</td>\n",
       "      <td>0.835</td>\n",
       "      <td>0.812</td>\n",
       "      <td>412.0</td>\n",
       "    </tr>\n",
       "    <tr>\n",
       "      <th>recreation</th>\n",
       "      <td>0.695</td>\n",
       "      <td>0.596</td>\n",
       "      <td>0.642</td>\n",
       "      <td>203.0</td>\n",
       "    </tr>\n",
       "    <tr>\n",
       "      <th>saving</th>\n",
       "      <td>0.770</td>\n",
       "      <td>0.516</td>\n",
       "      <td>0.618</td>\n",
       "      <td>91.0</td>\n",
       "    </tr>\n",
       "    <tr>\n",
       "      <th>transportation</th>\n",
       "      <td>0.955</td>\n",
       "      <td>0.876</td>\n",
       "      <td>0.914</td>\n",
       "      <td>193.0</td>\n",
       "    </tr>\n",
       "    <tr>\n",
       "      <th>utilities</th>\n",
       "      <td>0.824</td>\n",
       "      <td>0.821</td>\n",
       "      <td>0.822</td>\n",
       "      <td>268.0</td>\n",
       "    </tr>\n",
       "    <tr>\n",
       "      <th>accuracy</th>\n",
       "      <td>0.800</td>\n",
       "      <td>0.800</td>\n",
       "      <td>0.800</td>\n",
       "      <td>0.8</td>\n",
       "    </tr>\n",
       "    <tr>\n",
       "      <th>macro avg</th>\n",
       "      <td>0.817</td>\n",
       "      <td>0.734</td>\n",
       "      <td>0.765</td>\n",
       "      <td>1953.0</td>\n",
       "    </tr>\n",
       "    <tr>\n",
       "      <th>weighted avg</th>\n",
       "      <td>0.804</td>\n",
       "      <td>0.800</td>\n",
       "      <td>0.796</td>\n",
       "      <td>1953.0</td>\n",
       "    </tr>\n",
       "  </tbody>\n",
       "</table>\n",
       "</div>"
      ],
      "text/plain": [
       "                precision  recall  f1-score  support\n",
       "food                0.763   0.936     0.841    503.0\n",
       "housing             0.849   0.746     0.794    181.0\n",
       "medical             0.889   0.549     0.679    102.0\n",
       "personal            0.791   0.835     0.812    412.0\n",
       "recreation          0.695   0.596     0.642    203.0\n",
       "saving              0.770   0.516     0.618     91.0\n",
       "transportation      0.955   0.876     0.914    193.0\n",
       "utilities           0.824   0.821     0.822    268.0\n",
       "accuracy            0.800   0.800     0.800      0.8\n",
       "macro avg           0.817   0.734     0.765   1953.0\n",
       "weighted avg        0.804   0.800     0.796   1953.0"
      ]
     },
     "execution_count": 31,
     "metadata": {},
     "output_type": "execute_result"
    }
   ],
   "source": [
    "cr = classification_report(\n",
    "    y_c_test, lr_predictions_c,\n",
    "    target_names=le.classes_,\n",
    "    output_dict=True, zero_division=0\n",
    ")\n",
    "\n",
    "results['LogisticRegression BoW'] = cr['weighted avg']\n",
    "\n",
    "pd.DataFrame(cr).round(decimals=3).transpose()"
   ]
  },
  {
   "cell_type": "code",
   "execution_count": 32,
   "id": "e703ad38",
   "metadata": {},
   "outputs": [
    {
     "data": {
      "text/html": [
       "<div>\n",
       "<style scoped>\n",
       "    .dataframe tbody tr th:only-of-type {\n",
       "        vertical-align: middle;\n",
       "    }\n",
       "\n",
       "    .dataframe tbody tr th {\n",
       "        vertical-align: top;\n",
       "    }\n",
       "\n",
       "    .dataframe thead th {\n",
       "        text-align: right;\n",
       "    }\n",
       "</style>\n",
       "<table border=\"1\" class=\"dataframe\">\n",
       "  <thead>\n",
       "    <tr style=\"text-align: right;\">\n",
       "      <th></th>\n",
       "      <th>precision</th>\n",
       "      <th>recall</th>\n",
       "      <th>f1-score</th>\n",
       "      <th>support</th>\n",
       "    </tr>\n",
       "  </thead>\n",
       "  <tbody>\n",
       "    <tr>\n",
       "      <th>food</th>\n",
       "      <td>0.748</td>\n",
       "      <td>0.938</td>\n",
       "      <td>0.832</td>\n",
       "      <td>503.000</td>\n",
       "    </tr>\n",
       "    <tr>\n",
       "      <th>housing</th>\n",
       "      <td>0.858</td>\n",
       "      <td>0.735</td>\n",
       "      <td>0.792</td>\n",
       "      <td>181.000</td>\n",
       "    </tr>\n",
       "    <tr>\n",
       "      <th>medical</th>\n",
       "      <td>0.914</td>\n",
       "      <td>0.520</td>\n",
       "      <td>0.662</td>\n",
       "      <td>102.000</td>\n",
       "    </tr>\n",
       "    <tr>\n",
       "      <th>personal</th>\n",
       "      <td>0.768</td>\n",
       "      <td>0.842</td>\n",
       "      <td>0.803</td>\n",
       "      <td>412.000</td>\n",
       "    </tr>\n",
       "    <tr>\n",
       "      <th>recreation</th>\n",
       "      <td>0.701</td>\n",
       "      <td>0.576</td>\n",
       "      <td>0.632</td>\n",
       "      <td>203.000</td>\n",
       "    </tr>\n",
       "    <tr>\n",
       "      <th>saving</th>\n",
       "      <td>0.815</td>\n",
       "      <td>0.484</td>\n",
       "      <td>0.607</td>\n",
       "      <td>91.000</td>\n",
       "    </tr>\n",
       "    <tr>\n",
       "      <th>transportation</th>\n",
       "      <td>0.959</td>\n",
       "      <td>0.855</td>\n",
       "      <td>0.904</td>\n",
       "      <td>193.000</td>\n",
       "    </tr>\n",
       "    <tr>\n",
       "      <th>utilities</th>\n",
       "      <td>0.826</td>\n",
       "      <td>0.813</td>\n",
       "      <td>0.820</td>\n",
       "      <td>268.000</td>\n",
       "    </tr>\n",
       "    <tr>\n",
       "      <th>accuracy</th>\n",
       "      <td>0.793</td>\n",
       "      <td>0.793</td>\n",
       "      <td>0.793</td>\n",
       "      <td>0.793</td>\n",
       "    </tr>\n",
       "    <tr>\n",
       "      <th>macro avg</th>\n",
       "      <td>0.824</td>\n",
       "      <td>0.720</td>\n",
       "      <td>0.757</td>\n",
       "      <td>1953.000</td>\n",
       "    </tr>\n",
       "    <tr>\n",
       "      <th>weighted avg</th>\n",
       "      <td>0.801</td>\n",
       "      <td>0.793</td>\n",
       "      <td>0.788</td>\n",
       "      <td>1953.000</td>\n",
       "    </tr>\n",
       "  </tbody>\n",
       "</table>\n",
       "</div>"
      ],
      "text/plain": [
       "                precision  recall  f1-score   support\n",
       "food                0.748   0.938     0.832   503.000\n",
       "housing             0.858   0.735     0.792   181.000\n",
       "medical             0.914   0.520     0.662   102.000\n",
       "personal            0.768   0.842     0.803   412.000\n",
       "recreation          0.701   0.576     0.632   203.000\n",
       "saving              0.815   0.484     0.607    91.000\n",
       "transportation      0.959   0.855     0.904   193.000\n",
       "utilities           0.826   0.813     0.820   268.000\n",
       "accuracy            0.793   0.793     0.793     0.793\n",
       "macro avg           0.824   0.720     0.757  1953.000\n",
       "weighted avg        0.801   0.793     0.788  1953.000"
      ]
     },
     "execution_count": 32,
     "metadata": {},
     "output_type": "execute_result"
    }
   ],
   "source": [
    "cr = classification_report(\n",
    "    y_t_test, lr_predictions_t,\n",
    "    target_names=le.classes_,\n",
    "    output_dict=True, zero_division=0\n",
    ")\n",
    "\n",
    "results['LogisticRegression TF-IDF'] = cr['weighted avg']\n",
    "\n",
    "pd.DataFrame(cr).round(decimals=3).transpose()"
   ]
  },
  {
   "cell_type": "markdown",
   "id": "7b719083",
   "metadata": {},
   "source": [
    "Также визуализируем матрицу ошибок."
   ]
  },
  {
   "cell_type": "code",
   "execution_count": 33,
   "id": "a3805be3",
   "metadata": {},
   "outputs": [],
   "source": [
    "cm_c = confusion_matrix(y_c_test, lr_predictions_c)\n",
    "cm_t = confusion_matrix(y_t_test, lr_predictions_t)"
   ]
  },
  {
   "cell_type": "code",
   "execution_count": 34,
   "id": "9e62df0a",
   "metadata": {},
   "outputs": [
    {
     "data": {
      "image/png": "[encoded data removed]",
      "text/plain": [
       "<Figure size 1080x360 with 4 Axes>"
      ]
     },
     "metadata": {
      "needs_background": "light"
     },
     "output_type": "display_data"
    }
   ],
   "source": [
    "fig, (ax1, ax2) = plt.subplots(1, 2, figsize=(15, 5))\n",
    "cmd_c = ConfusionMatrixDisplay(cm_c, display_labels=le.classes_)\n",
    "cmd_c.plot(ax=ax1)\n",
    "ax1.set_xticklabels(labels=le.classes_, rotation=90)\n",
    "ax1.set_title('BoW LR confusion matrix')\n",
    "cmd_t = ConfusionMatrixDisplay(cm_t, display_labels=le.classes_)\n",
    "cmd_t.plot(ax=ax2)\n",
    "ax2.set_xticklabels(labels=le.classes_, rotation=90)\n",
    "ax2.set_title('TF-IDF LR confusion matrix')\n",
    "plt.show()"
   ]
  },
  {
   "cell_type": "markdown",
   "id": "b30f492b",
   "metadata": {},
   "source": [
    "#### Выводы\n",
    "\n",
    "Неплохие результаты. Средневзвешенная метрика F1 значительно лучше чем в наивном Байесе.\n",
    "\n",
    "Рассмотрим модель LinearSVM."
   ]
  },
  {
   "cell_type": "markdown",
   "id": "eda75c0c",
   "metadata": {},
   "source": [
    "### LinearSVM\n",
    "\n",
    "Зададим и обучим классификаторы."
   ]
  },
  {
   "cell_type": "code",
   "execution_count": 35,
   "id": "605611d7",
   "metadata": {},
   "outputs": [
    {
     "name": "stdout",
     "output_type": "stream",
     "text": [
      "CPU times: total: 359 ms\n",
      "Wall time: 367 ms\n"
     ]
    }
   ],
   "source": [
    "%%time\n",
    "lsvm_c = LinearSVC(dual=False).fit(X_c.toarray(), y_c)\n",
    "lsvm_t = LinearSVC(dual=False).fit(X_t.toarray(), y_t)"
   ]
  },
  {
   "cell_type": "markdown",
   "id": "6763706b",
   "metadata": {},
   "source": [
    "Посмотрим на отчёт по классификации."
   ]
  },
  {
   "cell_type": "code",
   "execution_count": 36,
   "id": "eb349ac2",
   "metadata": {},
   "outputs": [],
   "source": [
    "lsvm_predictions_c = lsvm_c.predict(X_c_test.toarray())\n",
    "lsvm_predictions_t = lsvm_t.predict(X_t_test.toarray())"
   ]
  },
  {
   "cell_type": "code",
   "execution_count": 37,
   "id": "3be632be",
   "metadata": {},
   "outputs": [
    {
     "data": {
      "text/html": [
       "<div>\n",
       "<style scoped>\n",
       "    .dataframe tbody tr th:only-of-type {\n",
       "        vertical-align: middle;\n",
       "    }\n",
       "\n",
       "    .dataframe tbody tr th {\n",
       "        vertical-align: top;\n",
       "    }\n",
       "\n",
       "    .dataframe thead th {\n",
       "        text-align: right;\n",
       "    }\n",
       "</style>\n",
       "<table border=\"1\" class=\"dataframe\">\n",
       "  <thead>\n",
       "    <tr style=\"text-align: right;\">\n",
       "      <th></th>\n",
       "      <th>precision</th>\n",
       "      <th>recall</th>\n",
       "      <th>f1-score</th>\n",
       "      <th>support</th>\n",
       "    </tr>\n",
       "  </thead>\n",
       "  <tbody>\n",
       "    <tr>\n",
       "      <th>food</th>\n",
       "      <td>0.807</td>\n",
       "      <td>0.930</td>\n",
       "      <td>0.864</td>\n",
       "      <td>503.000</td>\n",
       "    </tr>\n",
       "    <tr>\n",
       "      <th>housing</th>\n",
       "      <td>0.824</td>\n",
       "      <td>0.773</td>\n",
       "      <td>0.798</td>\n",
       "      <td>181.000</td>\n",
       "    </tr>\n",
       "    <tr>\n",
       "      <th>medical</th>\n",
       "      <td>0.788</td>\n",
       "      <td>0.618</td>\n",
       "      <td>0.692</td>\n",
       "      <td>102.000</td>\n",
       "    </tr>\n",
       "    <tr>\n",
       "      <th>personal</th>\n",
       "      <td>0.818</td>\n",
       "      <td>0.808</td>\n",
       "      <td>0.813</td>\n",
       "      <td>412.000</td>\n",
       "    </tr>\n",
       "    <tr>\n",
       "      <th>recreation</th>\n",
       "      <td>0.708</td>\n",
       "      <td>0.645</td>\n",
       "      <td>0.675</td>\n",
       "      <td>203.000</td>\n",
       "    </tr>\n",
       "    <tr>\n",
       "      <th>saving</th>\n",
       "      <td>0.754</td>\n",
       "      <td>0.538</td>\n",
       "      <td>0.628</td>\n",
       "      <td>91.000</td>\n",
       "    </tr>\n",
       "    <tr>\n",
       "      <th>transportation</th>\n",
       "      <td>0.936</td>\n",
       "      <td>0.907</td>\n",
       "      <td>0.921</td>\n",
       "      <td>193.000</td>\n",
       "    </tr>\n",
       "    <tr>\n",
       "      <th>utilities</th>\n",
       "      <td>0.814</td>\n",
       "      <td>0.847</td>\n",
       "      <td>0.830</td>\n",
       "      <td>268.000</td>\n",
       "    </tr>\n",
       "    <tr>\n",
       "      <th>accuracy</th>\n",
       "      <td>0.812</td>\n",
       "      <td>0.812</td>\n",
       "      <td>0.812</td>\n",
       "      <td>0.812</td>\n",
       "    </tr>\n",
       "    <tr>\n",
       "      <th>macro avg</th>\n",
       "      <td>0.806</td>\n",
       "      <td>0.758</td>\n",
       "      <td>0.778</td>\n",
       "      <td>1953.000</td>\n",
       "    </tr>\n",
       "    <tr>\n",
       "      <th>weighted avg</th>\n",
       "      <td>0.811</td>\n",
       "      <td>0.812</td>\n",
       "      <td>0.809</td>\n",
       "      <td>1953.000</td>\n",
       "    </tr>\n",
       "  </tbody>\n",
       "</table>\n",
       "</div>"
      ],
      "text/plain": [
       "                precision  recall  f1-score   support\n",
       "food                0.807   0.930     0.864   503.000\n",
       "housing             0.824   0.773     0.798   181.000\n",
       "medical             0.788   0.618     0.692   102.000\n",
       "personal            0.818   0.808     0.813   412.000\n",
       "recreation          0.708   0.645     0.675   203.000\n",
       "saving              0.754   0.538     0.628    91.000\n",
       "transportation      0.936   0.907     0.921   193.000\n",
       "utilities           0.814   0.847     0.830   268.000\n",
       "accuracy            0.812   0.812     0.812     0.812\n",
       "macro avg           0.806   0.758     0.778  1953.000\n",
       "weighted avg        0.811   0.812     0.809  1953.000"
      ]
     },
     "execution_count": 37,
     "metadata": {},
     "output_type": "execute_result"
    }
   ],
   "source": [
    "cr = classification_report(\n",
    "    y_c_test, lsvm_predictions_c,\n",
    "    target_names=le.classes_,\n",
    "    output_dict=True, zero_division=0\n",
    ")\n",
    "\n",
    "results['LinearSVM BoW'] = cr['weighted avg']\n",
    "\n",
    "pd.DataFrame(cr).round(decimals=3).transpose()"
   ]
  },
  {
   "cell_type": "code",
   "execution_count": 38,
   "id": "b544de13",
   "metadata": {},
   "outputs": [
    {
     "data": {
      "text/html": [
       "<div>\n",
       "<style scoped>\n",
       "    .dataframe tbody tr th:only-of-type {\n",
       "        vertical-align: middle;\n",
       "    }\n",
       "\n",
       "    .dataframe tbody tr th {\n",
       "        vertical-align: top;\n",
       "    }\n",
       "\n",
       "    .dataframe thead th {\n",
       "        text-align: right;\n",
       "    }\n",
       "</style>\n",
       "<table border=\"1\" class=\"dataframe\">\n",
       "  <thead>\n",
       "    <tr style=\"text-align: right;\">\n",
       "      <th></th>\n",
       "      <th>precision</th>\n",
       "      <th>recall</th>\n",
       "      <th>f1-score</th>\n",
       "      <th>support</th>\n",
       "    </tr>\n",
       "  </thead>\n",
       "  <tbody>\n",
       "    <tr>\n",
       "      <th>food</th>\n",
       "      <td>0.807</td>\n",
       "      <td>0.928</td>\n",
       "      <td>0.863</td>\n",
       "      <td>503.000</td>\n",
       "    </tr>\n",
       "    <tr>\n",
       "      <th>housing</th>\n",
       "      <td>0.827</td>\n",
       "      <td>0.790</td>\n",
       "      <td>0.808</td>\n",
       "      <td>181.000</td>\n",
       "    </tr>\n",
       "    <tr>\n",
       "      <th>medical</th>\n",
       "      <td>0.795</td>\n",
       "      <td>0.608</td>\n",
       "      <td>0.689</td>\n",
       "      <td>102.000</td>\n",
       "    </tr>\n",
       "    <tr>\n",
       "      <th>personal</th>\n",
       "      <td>0.829</td>\n",
       "      <td>0.811</td>\n",
       "      <td>0.820</td>\n",
       "      <td>412.000</td>\n",
       "    </tr>\n",
       "    <tr>\n",
       "      <th>recreation</th>\n",
       "      <td>0.709</td>\n",
       "      <td>0.660</td>\n",
       "      <td>0.684</td>\n",
       "      <td>203.000</td>\n",
       "    </tr>\n",
       "    <tr>\n",
       "      <th>saving</th>\n",
       "      <td>0.754</td>\n",
       "      <td>0.538</td>\n",
       "      <td>0.628</td>\n",
       "      <td>91.000</td>\n",
       "    </tr>\n",
       "    <tr>\n",
       "      <th>transportation</th>\n",
       "      <td>0.937</td>\n",
       "      <td>0.922</td>\n",
       "      <td>0.930</td>\n",
       "      <td>193.000</td>\n",
       "    </tr>\n",
       "    <tr>\n",
       "      <th>utilities</th>\n",
       "      <td>0.830</td>\n",
       "      <td>0.854</td>\n",
       "      <td>0.842</td>\n",
       "      <td>268.000</td>\n",
       "    </tr>\n",
       "    <tr>\n",
       "      <th>accuracy</th>\n",
       "      <td>0.817</td>\n",
       "      <td>0.817</td>\n",
       "      <td>0.817</td>\n",
       "      <td>0.817</td>\n",
       "    </tr>\n",
       "    <tr>\n",
       "      <th>macro avg</th>\n",
       "      <td>0.811</td>\n",
       "      <td>0.764</td>\n",
       "      <td>0.783</td>\n",
       "      <td>1953.000</td>\n",
       "    </tr>\n",
       "    <tr>\n",
       "      <th>weighted avg</th>\n",
       "      <td>0.816</td>\n",
       "      <td>0.817</td>\n",
       "      <td>0.814</td>\n",
       "      <td>1953.000</td>\n",
       "    </tr>\n",
       "  </tbody>\n",
       "</table>\n",
       "</div>"
      ],
      "text/plain": [
       "                precision  recall  f1-score   support\n",
       "food                0.807   0.928     0.863   503.000\n",
       "housing             0.827   0.790     0.808   181.000\n",
       "medical             0.795   0.608     0.689   102.000\n",
       "personal            0.829   0.811     0.820   412.000\n",
       "recreation          0.709   0.660     0.684   203.000\n",
       "saving              0.754   0.538     0.628    91.000\n",
       "transportation      0.937   0.922     0.930   193.000\n",
       "utilities           0.830   0.854     0.842   268.000\n",
       "accuracy            0.817   0.817     0.817     0.817\n",
       "macro avg           0.811   0.764     0.783  1953.000\n",
       "weighted avg        0.816   0.817     0.814  1953.000"
      ]
     },
     "execution_count": 38,
     "metadata": {},
     "output_type": "execute_result"
    }
   ],
   "source": [
    "cr = classification_report(\n",
    "    y_t_test, lsvm_predictions_t,\n",
    "    target_names=le.classes_,\n",
    "    output_dict=True, zero_division=0\n",
    ")\n",
    "\n",
    "results['LinearSVM TF-IDF'] = cr['weighted avg']\n",
    "\n",
    "pd.DataFrame(cr).round(decimals=3).transpose()"
   ]
  },
  {
   "cell_type": "markdown",
   "id": "40ff36f3",
   "metadata": {},
   "source": [
    "Также визуализируем матрицу ошибок."
   ]
  },
  {
   "cell_type": "code",
   "execution_count": 39,
   "id": "9bbb155c",
   "metadata": {},
   "outputs": [],
   "source": [
    "cm_c = confusion_matrix(y_c_test, lsvm_predictions_c)\n",
    "cm_t = confusion_matrix(y_t_test, lsvm_predictions_t)"
   ]
  },
  {
   "cell_type": "code",
   "execution_count": 40,
   "id": "6237dbcd",
   "metadata": {},
   "outputs": [
    {
     "data": {
      "image/png": "[encoded data removed]",
      "text/plain": [
       "<Figure size 1080x360 with 4 Axes>"
      ]
     },
     "metadata": {
      "needs_background": "light"
     },
     "output_type": "display_data"
    }
   ],
   "source": [
    "fig, (ax1, ax2) = plt.subplots(1, 2, figsize=(15, 5))\n",
    "cmd_c = ConfusionMatrixDisplay(cm_c, display_labels=le.classes_)\n",
    "cmd_c.plot(ax=ax1)\n",
    "ax1.set_xticklabels(labels=le.classes_, rotation=90)\n",
    "ax1.set_title('BoW LSVM confusion matrix')\n",
    "cmd_t = ConfusionMatrixDisplay(cm_t, display_labels=le.classes_)\n",
    "cmd_t.plot(ax=ax2)\n",
    "ax2.set_xticklabels(labels=le.classes_, rotation=90)\n",
    "ax2.set_title('TF-IDF LSVM confusion matrix')\n",
    "plt.show()"
   ]
  },
  {
   "cell_type": "markdown",
   "id": "97645852",
   "metadata": {},
   "source": [
    "#### Выводы\n",
    "\n",
    "Результаты чуть лучше чем у линейной регрессии.\n",
    "\n",
    "Рассмотрим метод градиентного бустинга."
   ]
  },
  {
   "cell_type": "markdown",
   "id": "10791bd5",
   "metadata": {},
   "source": [
    "### LightGBM\n",
    "\n",
    "Воспользуемся библиотекой градиентного бустинга от Microsoft."
   ]
  },
  {
   "cell_type": "code",
   "execution_count": 41,
   "id": "e0633b2c",
   "metadata": {},
   "outputs": [
    {
     "name": "stderr",
     "output_type": "stream",
     "text": [
      "C:\\Users\\User\\anaconda3\\envs\\practicum\\lib\\site-packages\\lightgbm\\sklearn.py:726: UserWarning: 'early_stopping_rounds' argument is deprecated and will be removed in a future release of LightGBM. Pass 'early_stopping()' callback via 'callbacks' argument instead.\n",
      "  _log_warning(\"'early_stopping_rounds' argument is deprecated and will be removed in a future release of LightGBM. \"\n",
      "C:\\Users\\User\\anaconda3\\envs\\practicum\\lib\\site-packages\\lightgbm\\sklearn.py:736: UserWarning: 'verbose' argument is deprecated and will be removed in a future release of LightGBM. Pass 'log_evaluation()' callback via 'callbacks' argument instead.\n",
      "  _log_warning(\"'verbose' argument is deprecated and will be removed in a future release of LightGBM. \"\n",
      "C:\\Users\\User\\anaconda3\\envs\\practicum\\lib\\site-packages\\lightgbm\\sklearn.py:726: UserWarning: 'early_stopping_rounds' argument is deprecated and will be removed in a future release of LightGBM. Pass 'early_stopping()' callback via 'callbacks' argument instead.\n",
      "  _log_warning(\"'early_stopping_rounds' argument is deprecated and will be removed in a future release of LightGBM. \"\n",
      "C:\\Users\\User\\anaconda3\\envs\\practicum\\lib\\site-packages\\lightgbm\\sklearn.py:736: UserWarning: 'verbose' argument is deprecated and will be removed in a future release of LightGBM. Pass 'log_evaluation()' callback via 'callbacks' argument instead.\n",
      "  _log_warning(\"'verbose' argument is deprecated and will be removed in a future release of LightGBM. \"\n"
     ]
    },
    {
     "name": "stdout",
     "output_type": "stream",
     "text": [
      "CPU times: total: 8.31 s\n",
      "Wall time: 1.25 s\n"
     ]
    }
   ],
   "source": [
    "%%time\n",
    "lgbm_c = lgb.LGBMClassifier(\n",
    "    objective='multiclassova', num_class=9, random_state=SEED, verbose=-1, is_unbalance=True\n",
    ").fit(\n",
    "    X_c.toarray(), y_c, eval_set=[(X_c_test.toarray(), y_c_test),], early_stopping_rounds=3, verbose=-1\n",
    ")\n",
    "lgbm_t = lgb.LGBMClassifier(\n",
    "    objective='multiclassova', num_class=9, random_state=SEED, verbose=-1, is_unbalance=True\n",
    ").fit(\n",
    "    X_t.toarray(), y_t, eval_set=[(X_t_test.toarray(), y_t_test),], early_stopping_rounds=3, verbose=-1\n",
    ")"
   ]
  },
  {
   "cell_type": "markdown",
   "id": "bbff27e3",
   "metadata": {},
   "source": [
    "Посмотрим на отчёт по классификации."
   ]
  },
  {
   "cell_type": "code",
   "execution_count": 42,
   "id": "12ba1a0f",
   "metadata": {},
   "outputs": [],
   "source": [
    "lgbm_predictions_c = lgbm_c.predict(X_c_test.toarray())\n",
    "lgbm_predictions_t = lgbm_t.predict(X_t_test.toarray())"
   ]
  },
  {
   "cell_type": "code",
   "execution_count": 43,
   "id": "12e03cd1",
   "metadata": {},
   "outputs": [
    {
     "data": {
      "text/html": [
       "<div>\n",
       "<style scoped>\n",
       "    .dataframe tbody tr th:only-of-type {\n",
       "        vertical-align: middle;\n",
       "    }\n",
       "\n",
       "    .dataframe tbody tr th {\n",
       "        vertical-align: top;\n",
       "    }\n",
       "\n",
       "    .dataframe thead th {\n",
       "        text-align: right;\n",
       "    }\n",
       "</style>\n",
       "<table border=\"1\" class=\"dataframe\">\n",
       "  <thead>\n",
       "    <tr style=\"text-align: right;\">\n",
       "      <th></th>\n",
       "      <th>precision</th>\n",
       "      <th>recall</th>\n",
       "      <th>f1-score</th>\n",
       "      <th>support</th>\n",
       "    </tr>\n",
       "  </thead>\n",
       "  <tbody>\n",
       "    <tr>\n",
       "      <th>food</th>\n",
       "      <td>0.905</td>\n",
       "      <td>0.495</td>\n",
       "      <td>0.640</td>\n",
       "      <td>503.000</td>\n",
       "    </tr>\n",
       "    <tr>\n",
       "      <th>housing</th>\n",
       "      <td>0.687</td>\n",
       "      <td>0.508</td>\n",
       "      <td>0.584</td>\n",
       "      <td>181.000</td>\n",
       "    </tr>\n",
       "    <tr>\n",
       "      <th>medical</th>\n",
       "      <td>0.600</td>\n",
       "      <td>0.353</td>\n",
       "      <td>0.444</td>\n",
       "      <td>102.000</td>\n",
       "    </tr>\n",
       "    <tr>\n",
       "      <th>personal</th>\n",
       "      <td>0.399</td>\n",
       "      <td>0.852</td>\n",
       "      <td>0.544</td>\n",
       "      <td>412.000</td>\n",
       "    </tr>\n",
       "    <tr>\n",
       "      <th>recreation</th>\n",
       "      <td>0.672</td>\n",
       "      <td>0.394</td>\n",
       "      <td>0.497</td>\n",
       "      <td>203.000</td>\n",
       "    </tr>\n",
       "    <tr>\n",
       "      <th>saving</th>\n",
       "      <td>0.385</td>\n",
       "      <td>0.462</td>\n",
       "      <td>0.420</td>\n",
       "      <td>91.000</td>\n",
       "    </tr>\n",
       "    <tr>\n",
       "      <th>transportation</th>\n",
       "      <td>0.875</td>\n",
       "      <td>0.762</td>\n",
       "      <td>0.814</td>\n",
       "      <td>193.000</td>\n",
       "    </tr>\n",
       "    <tr>\n",
       "      <th>utilities</th>\n",
       "      <td>0.876</td>\n",
       "      <td>0.683</td>\n",
       "      <td>0.767</td>\n",
       "      <td>268.000</td>\n",
       "    </tr>\n",
       "    <tr>\n",
       "      <th>accuracy</th>\n",
       "      <td>0.604</td>\n",
       "      <td>0.604</td>\n",
       "      <td>0.604</td>\n",
       "      <td>0.604</td>\n",
       "    </tr>\n",
       "    <tr>\n",
       "      <th>macro avg</th>\n",
       "      <td>0.675</td>\n",
       "      <td>0.564</td>\n",
       "      <td>0.589</td>\n",
       "      <td>1953.000</td>\n",
       "    </tr>\n",
       "    <tr>\n",
       "      <th>weighted avg</th>\n",
       "      <td>0.707</td>\n",
       "      <td>0.604</td>\n",
       "      <td>0.614</td>\n",
       "      <td>1953.000</td>\n",
       "    </tr>\n",
       "  </tbody>\n",
       "</table>\n",
       "</div>"
      ],
      "text/plain": [
       "                precision  recall  f1-score   support\n",
       "food                0.905   0.495     0.640   503.000\n",
       "housing             0.687   0.508     0.584   181.000\n",
       "medical             0.600   0.353     0.444   102.000\n",
       "personal            0.399   0.852     0.544   412.000\n",
       "recreation          0.672   0.394     0.497   203.000\n",
       "saving              0.385   0.462     0.420    91.000\n",
       "transportation      0.875   0.762     0.814   193.000\n",
       "utilities           0.876   0.683     0.767   268.000\n",
       "accuracy            0.604   0.604     0.604     0.604\n",
       "macro avg           0.675   0.564     0.589  1953.000\n",
       "weighted avg        0.707   0.604     0.614  1953.000"
      ]
     },
     "execution_count": 43,
     "metadata": {},
     "output_type": "execute_result"
    }
   ],
   "source": [
    "cr = classification_report(\n",
    "    y_c_test, lgbm_predictions_c,\n",
    "    target_names=le.classes_,\n",
    "    output_dict=True, zero_division=0\n",
    ")\n",
    "\n",
    "results['LightGBM BoW'] = cr['weighted avg']\n",
    "\n",
    "pd.DataFrame(cr).round(decimals=3).transpose()"
   ]
  },
  {
   "cell_type": "code",
   "execution_count": 44,
   "id": "45e0b1f0",
   "metadata": {},
   "outputs": [
    {
     "data": {
      "text/html": [
       "<div>\n",
       "<style scoped>\n",
       "    .dataframe tbody tr th:only-of-type {\n",
       "        vertical-align: middle;\n",
       "    }\n",
       "\n",
       "    .dataframe tbody tr th {\n",
       "        vertical-align: top;\n",
       "    }\n",
       "\n",
       "    .dataframe thead th {\n",
       "        text-align: right;\n",
       "    }\n",
       "</style>\n",
       "<table border=\"1\" class=\"dataframe\">\n",
       "  <thead>\n",
       "    <tr style=\"text-align: right;\">\n",
       "      <th></th>\n",
       "      <th>precision</th>\n",
       "      <th>recall</th>\n",
       "      <th>f1-score</th>\n",
       "      <th>support</th>\n",
       "    </tr>\n",
       "  </thead>\n",
       "  <tbody>\n",
       "    <tr>\n",
       "      <th>food</th>\n",
       "      <td>0.900</td>\n",
       "      <td>0.499</td>\n",
       "      <td>0.642</td>\n",
       "      <td>503.000</td>\n",
       "    </tr>\n",
       "    <tr>\n",
       "      <th>housing</th>\n",
       "      <td>0.676</td>\n",
       "      <td>0.541</td>\n",
       "      <td>0.601</td>\n",
       "      <td>181.000</td>\n",
       "    </tr>\n",
       "    <tr>\n",
       "      <th>medical</th>\n",
       "      <td>0.516</td>\n",
       "      <td>0.324</td>\n",
       "      <td>0.398</td>\n",
       "      <td>102.000</td>\n",
       "    </tr>\n",
       "    <tr>\n",
       "      <th>personal</th>\n",
       "      <td>0.397</td>\n",
       "      <td>0.845</td>\n",
       "      <td>0.540</td>\n",
       "      <td>412.000</td>\n",
       "    </tr>\n",
       "    <tr>\n",
       "      <th>recreation</th>\n",
       "      <td>0.659</td>\n",
       "      <td>0.399</td>\n",
       "      <td>0.497</td>\n",
       "      <td>203.000</td>\n",
       "    </tr>\n",
       "    <tr>\n",
       "      <th>saving</th>\n",
       "      <td>0.494</td>\n",
       "      <td>0.462</td>\n",
       "      <td>0.477</td>\n",
       "      <td>91.000</td>\n",
       "    </tr>\n",
       "    <tr>\n",
       "      <th>transportation</th>\n",
       "      <td>0.924</td>\n",
       "      <td>0.756</td>\n",
       "      <td>0.832</td>\n",
       "      <td>193.000</td>\n",
       "    </tr>\n",
       "    <tr>\n",
       "      <th>utilities</th>\n",
       "      <td>0.829</td>\n",
       "      <td>0.687</td>\n",
       "      <td>0.751</td>\n",
       "      <td>268.000</td>\n",
       "    </tr>\n",
       "    <tr>\n",
       "      <th>accuracy</th>\n",
       "      <td>0.606</td>\n",
       "      <td>0.606</td>\n",
       "      <td>0.606</td>\n",
       "      <td>0.606</td>\n",
       "    </tr>\n",
       "    <tr>\n",
       "      <th>macro avg</th>\n",
       "      <td>0.674</td>\n",
       "      <td>0.564</td>\n",
       "      <td>0.592</td>\n",
       "      <td>1953.000</td>\n",
       "    </tr>\n",
       "    <tr>\n",
       "      <th>weighted avg</th>\n",
       "      <td>0.702</td>\n",
       "      <td>0.606</td>\n",
       "      <td>0.615</td>\n",
       "      <td>1953.000</td>\n",
       "    </tr>\n",
       "  </tbody>\n",
       "</table>\n",
       "</div>"
      ],
      "text/plain": [
       "                precision  recall  f1-score   support\n",
       "food                0.900   0.499     0.642   503.000\n",
       "housing             0.676   0.541     0.601   181.000\n",
       "medical             0.516   0.324     0.398   102.000\n",
       "personal            0.397   0.845     0.540   412.000\n",
       "recreation          0.659   0.399     0.497   203.000\n",
       "saving              0.494   0.462     0.477    91.000\n",
       "transportation      0.924   0.756     0.832   193.000\n",
       "utilities           0.829   0.687     0.751   268.000\n",
       "accuracy            0.606   0.606     0.606     0.606\n",
       "macro avg           0.674   0.564     0.592  1953.000\n",
       "weighted avg        0.702   0.606     0.615  1953.000"
      ]
     },
     "execution_count": 44,
     "metadata": {},
     "output_type": "execute_result"
    }
   ],
   "source": [
    "cr = classification_report(\n",
    "    y_t_test, lgbm_predictions_t,\n",
    "    target_names=le.classes_,\n",
    "    output_dict=True, zero_division=0\n",
    ")\n",
    "\n",
    "results['LightGBM TF_IDF'] = cr['weighted avg']\n",
    "\n",
    "pd.DataFrame(cr).round(decimals=3).transpose()"
   ]
  },
  {
   "cell_type": "markdown",
   "id": "1ec378d8",
   "metadata": {},
   "source": [
    "Также визуализируем матрицу ошибок."
   ]
  },
  {
   "cell_type": "code",
   "execution_count": 45,
   "id": "7d55637b",
   "metadata": {},
   "outputs": [],
   "source": [
    "cm_c = confusion_matrix(y_c_test, lgbm_predictions_c)\n",
    "cm_t = confusion_matrix(y_t_test, lgbm_predictions_t)"
   ]
  },
  {
   "cell_type": "code",
   "execution_count": 46,
   "id": "0add5afb",
   "metadata": {},
   "outputs": [
    {
     "data": {
      "image/png": "[encoded data removed]",
      "text/plain": [
       "<Figure size 1080x360 with 4 Axes>"
      ]
     },
     "metadata": {
      "needs_background": "light"
     },
     "output_type": "display_data"
    }
   ],
   "source": [
    "fig, (ax1, ax2) = plt.subplots(1, 2, figsize=(15, 5))\n",
    "cmd_c = ConfusionMatrixDisplay(cm_c, display_labels=le.classes_)\n",
    "cmd_c.plot(ax=ax1)\n",
    "ax1.set_xticklabels(labels=le.classes_, rotation=90)\n",
    "ax1.set_title('BoW LGBM confusion matrix')\n",
    "cmd_t = ConfusionMatrixDisplay(cm_t, display_labels=le.classes_)\n",
    "cmd_t.plot(ax=ax2)\n",
    "ax2.set_xticklabels(labels=le.classes_, rotation=90)\n",
    "ax2.set_title('TF-IDF LGBM confusion matrix')\n",
    "plt.show()"
   ]
  },
  {
   "cell_type": "markdown",
   "id": "d4f21e64",
   "metadata": {},
   "source": [
    "#### Выводы\n",
    "\n",
    "Из литературы известно что модели градиентного бустинга показывают лучшие результаты среди классического ML при работе с табличными данными, с текстом же эти модели работают не лучшим образом, что и подтвердилось. Результаты лишь немногим лучше модели наивного Байеса."
   ]
  },
  {
   "cell_type": "markdown",
   "id": "607fabe0",
   "metadata": {},
   "source": [
    "### Нейронная сеть\n",
    "\n",
    "Рассмотрим алгоритм работы простой нейронной сети, в которой будет 2 полносвязных слоя и 1 выходной с выходами по количеству классов.\n",
    "\n",
    "Создадим последовательные модели."
   ]
  },
  {
   "cell_type": "code",
   "execution_count": 47,
   "id": "d7f48c76",
   "metadata": {},
   "outputs": [],
   "source": [
    "nn_c = models.Sequential()\n",
    "nn_t = models.Sequential()"
   ]
  },
  {
   "cell_type": "markdown",
   "id": "bed4984e",
   "metadata": {},
   "source": [
    "Определим слои."
   ]
  },
  {
   "cell_type": "code",
   "execution_count": 48,
   "id": "203aed2d",
   "metadata": {},
   "outputs": [],
   "source": [
    "nn_c.add(layers.Dense(64, activation='relu', input_shape=(features_c.shape[1],)))\n",
    "nn_c.add(layers.Dense(64, activation='relu'))\n",
    "nn_c.add(layers.Dense(8, activation='softmax'))\n",
    "\n",
    "nn_t.add(layers.Dense(64, activation='relu', input_shape=(features_t.shape[1],)))\n",
    "nn_t.add(layers.Dense(64, activation='relu'))\n",
    "nn_t.add(layers.Dense(8, activation='softmax'))"
   ]
  },
  {
   "cell_type": "markdown",
   "id": "d10800ee",
   "metadata": {},
   "source": [
    "Определим компиляторы."
   ]
  },
  {
   "cell_type": "code",
   "execution_count": 49,
   "id": "e686e797",
   "metadata": {},
   "outputs": [],
   "source": [
    "nn_c.compile(optimizer='rmsprop',\n",
    "              loss=tf.keras.losses.SparseCategoricalCrossentropy(from_logits=False),\n",
    "              metrics=['accuracy'])\n",
    "\n",
    "nn_t.compile(optimizer='rmsprop',\n",
    "              loss=tf.keras.losses.SparseCategoricalCrossentropy(from_logits=False),\n",
    "              metrics=['accuracy'])"
   ]
  },
  {
   "cell_type": "markdown",
   "id": "ff466aee",
   "metadata": {},
   "source": [
    "Проведём обучение и запишем логи."
   ]
  },
  {
   "cell_type": "code",
   "execution_count": 50,
   "id": "7d24b585",
   "metadata": {},
   "outputs": [
    {
     "name": "stdout",
     "output_type": "stream",
     "text": [
      "CPU times: total: 28.7 s\n",
      "Wall time: 7.87 s\n"
     ]
    }
   ],
   "source": [
    "%%time\n",
    "\n",
    "epochs = 20\n",
    "\n",
    "history_c = nn_c.fit(\n",
    "    X_c.toarray(), y_c,\n",
    "    epochs=epochs, batch_size=128,\n",
    "    validation_data=(X_c_test.toarray(), y_c_test),\n",
    "    verbose=0\n",
    ")\n",
    "\n",
    "history_t = nn_t.fit(\n",
    "    X_t.toarray(), y_t,\n",
    "    epochs=epochs, batch_size=128,\n",
    "    validation_data=(X_t_test.toarray(), y_t_test),\n",
    "    verbose=0\n",
    ")\n",
    "\n",
    "history_dict_c = history_c.history\n",
    "history_dict_t = history_t.history"
   ]
  },
  {
   "cell_type": "markdown",
   "id": "d74f868f",
   "metadata": {},
   "source": [
    "Построим графики точности на этапах обучения и проверки."
   ]
  },
  {
   "cell_type": "code",
   "execution_count": 51,
   "id": "bbddd351",
   "metadata": {},
   "outputs": [
    {
     "data": {
      "image/png": "[encoded data removed]",
      "text/plain": [
       "<Figure size 1080x360 with 2 Axes>"
      ]
     },
     "metadata": {
      "needs_background": "light"
     },
     "output_type": "display_data"
    }
   ],
   "source": [
    "f, (ax1, ax2) = plt.subplots(1, 2, figsize=(15, 5))\n",
    "\n",
    "epochs = range(0, len(history_dict_c['accuracy']))\n",
    "acc_values = history_dict_c['accuracy']\n",
    "val_acc_values = history_dict_c['val_accuracy']\n",
    "ax1.plot(epochs, acc_values, 'r', label = 'Точность на этапе обучения')\n",
    "ax1.plot(epochs, val_acc_values, 'b', label = 'Точность на этапе проверки')\n",
    "ax1.set_title('Точность на этапах обучения и проверки BoW')\n",
    "ax1.set_xlabel('Эпохи')\n",
    "ax1.set_ylabel('Точность')\n",
    "ax1.legend()\n",
    "\n",
    "epochs = range(0, len(history_dict_t['accuracy']))\n",
    "acc_values = history_dict_t['accuracy']\n",
    "val_acc_values = history_dict_t['val_accuracy']\n",
    "ax2.plot(epochs, acc_values, 'r', label = 'Точность на этапе обучения')\n",
    "ax2.plot(epochs, val_acc_values, 'b', label = 'Точность на этапе проверки')\n",
    "ax2.set_title('Точность на этапах обучения и проверки TF-IDF')\n",
    "ax2.set_xlabel('Эпохи')\n",
    "ax2.set_ylabel('Точность')\n",
    "ax2.legend()\n",
    "\n",
    "plt.show()"
   ]
  },
  {
   "cell_type": "markdown",
   "id": "92993c55",
   "metadata": {},
   "source": [
    "Посмотрим на отчёт по классификации."
   ]
  },
  {
   "cell_type": "code",
   "execution_count": 52,
   "id": "44af1fda",
   "metadata": {},
   "outputs": [],
   "source": [
    "nn_predictions_c = [y.argmax() for y in nn_c.predict(X_c_test.toarray())]\n",
    "nn_predictions_t = [y.argmax() for y in nn_t.predict(X_t_test.toarray())]"
   ]
  },
  {
   "cell_type": "code",
   "execution_count": 53,
   "id": "bfc09117",
   "metadata": {},
   "outputs": [
    {
     "data": {
      "text/html": [
       "<div>\n",
       "<style scoped>\n",
       "    .dataframe tbody tr th:only-of-type {\n",
       "        vertical-align: middle;\n",
       "    }\n",
       "\n",
       "    .dataframe tbody tr th {\n",
       "        vertical-align: top;\n",
       "    }\n",
       "\n",
       "    .dataframe thead th {\n",
       "        text-align: right;\n",
       "    }\n",
       "</style>\n",
       "<table border=\"1\" class=\"dataframe\">\n",
       "  <thead>\n",
       "    <tr style=\"text-align: right;\">\n",
       "      <th></th>\n",
       "      <th>precision</th>\n",
       "      <th>recall</th>\n",
       "      <th>f1-score</th>\n",
       "      <th>support</th>\n",
       "    </tr>\n",
       "  </thead>\n",
       "  <tbody>\n",
       "    <tr>\n",
       "      <th>food</th>\n",
       "      <td>0.878</td>\n",
       "      <td>0.871</td>\n",
       "      <td>0.874</td>\n",
       "      <td>503.000</td>\n",
       "    </tr>\n",
       "    <tr>\n",
       "      <th>housing</th>\n",
       "      <td>0.817</td>\n",
       "      <td>0.762</td>\n",
       "      <td>0.789</td>\n",
       "      <td>181.000</td>\n",
       "    </tr>\n",
       "    <tr>\n",
       "      <th>medical</th>\n",
       "      <td>0.772</td>\n",
       "      <td>0.598</td>\n",
       "      <td>0.674</td>\n",
       "      <td>102.000</td>\n",
       "    </tr>\n",
       "    <tr>\n",
       "      <th>personal</th>\n",
       "      <td>0.828</td>\n",
       "      <td>0.784</td>\n",
       "      <td>0.805</td>\n",
       "      <td>412.000</td>\n",
       "    </tr>\n",
       "    <tr>\n",
       "      <th>recreation</th>\n",
       "      <td>0.649</td>\n",
       "      <td>0.655</td>\n",
       "      <td>0.652</td>\n",
       "      <td>203.000</td>\n",
       "    </tr>\n",
       "    <tr>\n",
       "      <th>saving</th>\n",
       "      <td>0.366</td>\n",
       "      <td>0.615</td>\n",
       "      <td>0.459</td>\n",
       "      <td>91.000</td>\n",
       "    </tr>\n",
       "    <tr>\n",
       "      <th>transportation</th>\n",
       "      <td>0.930</td>\n",
       "      <td>0.902</td>\n",
       "      <td>0.916</td>\n",
       "      <td>193.000</td>\n",
       "    </tr>\n",
       "    <tr>\n",
       "      <th>utilities</th>\n",
       "      <td>0.819</td>\n",
       "      <td>0.828</td>\n",
       "      <td>0.824</td>\n",
       "      <td>268.000</td>\n",
       "    </tr>\n",
       "    <tr>\n",
       "      <th>accuracy</th>\n",
       "      <td>0.791</td>\n",
       "      <td>0.791</td>\n",
       "      <td>0.791</td>\n",
       "      <td>0.791</td>\n",
       "    </tr>\n",
       "    <tr>\n",
       "      <th>macro avg</th>\n",
       "      <td>0.757</td>\n",
       "      <td>0.752</td>\n",
       "      <td>0.749</td>\n",
       "      <td>1953.000</td>\n",
       "    </tr>\n",
       "    <tr>\n",
       "      <th>weighted avg</th>\n",
       "      <td>0.806</td>\n",
       "      <td>0.791</td>\n",
       "      <td>0.796</td>\n",
       "      <td>1953.000</td>\n",
       "    </tr>\n",
       "  </tbody>\n",
       "</table>\n",
       "</div>"
      ],
      "text/plain": [
       "                precision  recall  f1-score   support\n",
       "food                0.878   0.871     0.874   503.000\n",
       "housing             0.817   0.762     0.789   181.000\n",
       "medical             0.772   0.598     0.674   102.000\n",
       "personal            0.828   0.784     0.805   412.000\n",
       "recreation          0.649   0.655     0.652   203.000\n",
       "saving              0.366   0.615     0.459    91.000\n",
       "transportation      0.930   0.902     0.916   193.000\n",
       "utilities           0.819   0.828     0.824   268.000\n",
       "accuracy            0.791   0.791     0.791     0.791\n",
       "macro avg           0.757   0.752     0.749  1953.000\n",
       "weighted avg        0.806   0.791     0.796  1953.000"
      ]
     },
     "execution_count": 53,
     "metadata": {},
     "output_type": "execute_result"
    }
   ],
   "source": [
    "cr = classification_report(\n",
    "    y_c_test, nn_predictions_c,\n",
    "    target_names=le.classes_,\n",
    "    output_dict=True, zero_division=0\n",
    ")\n",
    "\n",
    "results['NN BoW'] = cr['weighted avg']\n",
    "\n",
    "pd.DataFrame(cr).round(decimals=3).transpose()"
   ]
  },
  {
   "cell_type": "code",
   "execution_count": 54,
   "id": "cd0292c5",
   "metadata": {},
   "outputs": [
    {
     "data": {
      "text/html": [
       "<div>\n",
       "<style scoped>\n",
       "    .dataframe tbody tr th:only-of-type {\n",
       "        vertical-align: middle;\n",
       "    }\n",
       "\n",
       "    .dataframe tbody tr th {\n",
       "        vertical-align: top;\n",
       "    }\n",
       "\n",
       "    .dataframe thead th {\n",
       "        text-align: right;\n",
       "    }\n",
       "</style>\n",
       "<table border=\"1\" class=\"dataframe\">\n",
       "  <thead>\n",
       "    <tr style=\"text-align: right;\">\n",
       "      <th></th>\n",
       "      <th>precision</th>\n",
       "      <th>recall</th>\n",
       "      <th>f1-score</th>\n",
       "      <th>support</th>\n",
       "    </tr>\n",
       "  </thead>\n",
       "  <tbody>\n",
       "    <tr>\n",
       "      <th>food</th>\n",
       "      <td>0.868</td>\n",
       "      <td>0.879</td>\n",
       "      <td>0.874</td>\n",
       "      <td>503.000</td>\n",
       "    </tr>\n",
       "    <tr>\n",
       "      <th>housing</th>\n",
       "      <td>0.797</td>\n",
       "      <td>0.779</td>\n",
       "      <td>0.788</td>\n",
       "      <td>181.000</td>\n",
       "    </tr>\n",
       "    <tr>\n",
       "      <th>medical</th>\n",
       "      <td>0.677</td>\n",
       "      <td>0.618</td>\n",
       "      <td>0.646</td>\n",
       "      <td>102.000</td>\n",
       "    </tr>\n",
       "    <tr>\n",
       "      <th>personal</th>\n",
       "      <td>0.832</td>\n",
       "      <td>0.791</td>\n",
       "      <td>0.811</td>\n",
       "      <td>412.000</td>\n",
       "    </tr>\n",
       "    <tr>\n",
       "      <th>recreation</th>\n",
       "      <td>0.683</td>\n",
       "      <td>0.616</td>\n",
       "      <td>0.648</td>\n",
       "      <td>203.000</td>\n",
       "    </tr>\n",
       "    <tr>\n",
       "      <th>saving</th>\n",
       "      <td>0.393</td>\n",
       "      <td>0.626</td>\n",
       "      <td>0.483</td>\n",
       "      <td>91.000</td>\n",
       "    </tr>\n",
       "    <tr>\n",
       "      <th>transportation</th>\n",
       "      <td>0.916</td>\n",
       "      <td>0.907</td>\n",
       "      <td>0.911</td>\n",
       "      <td>193.000</td>\n",
       "    </tr>\n",
       "    <tr>\n",
       "      <th>utilities</th>\n",
       "      <td>0.840</td>\n",
       "      <td>0.825</td>\n",
       "      <td>0.832</td>\n",
       "      <td>268.000</td>\n",
       "    </tr>\n",
       "    <tr>\n",
       "      <th>accuracy</th>\n",
       "      <td>0.794</td>\n",
       "      <td>0.794</td>\n",
       "      <td>0.794</td>\n",
       "      <td>0.794</td>\n",
       "    </tr>\n",
       "    <tr>\n",
       "      <th>macro avg</th>\n",
       "      <td>0.751</td>\n",
       "      <td>0.755</td>\n",
       "      <td>0.749</td>\n",
       "      <td>1953.000</td>\n",
       "    </tr>\n",
       "    <tr>\n",
       "      <th>weighted avg</th>\n",
       "      <td>0.803</td>\n",
       "      <td>0.794</td>\n",
       "      <td>0.797</td>\n",
       "      <td>1953.000</td>\n",
       "    </tr>\n",
       "  </tbody>\n",
       "</table>\n",
       "</div>"
      ],
      "text/plain": [
       "                precision  recall  f1-score   support\n",
       "food                0.868   0.879     0.874   503.000\n",
       "housing             0.797   0.779     0.788   181.000\n",
       "medical             0.677   0.618     0.646   102.000\n",
       "personal            0.832   0.791     0.811   412.000\n",
       "recreation          0.683   0.616     0.648   203.000\n",
       "saving              0.393   0.626     0.483    91.000\n",
       "transportation      0.916   0.907     0.911   193.000\n",
       "utilities           0.840   0.825     0.832   268.000\n",
       "accuracy            0.794   0.794     0.794     0.794\n",
       "macro avg           0.751   0.755     0.749  1953.000\n",
       "weighted avg        0.803   0.794     0.797  1953.000"
      ]
     },
     "execution_count": 54,
     "metadata": {},
     "output_type": "execute_result"
    }
   ],
   "source": [
    "cr = classification_report(\n",
    "    y_t_test, nn_predictions_t,\n",
    "    target_names=le.classes_,\n",
    "    output_dict=True, zero_division=0\n",
    ")\n",
    "\n",
    "results['NN TF-IDF'] = cr['weighted avg']\n",
    "\n",
    "pd.DataFrame(cr).round(decimals=3).transpose()"
   ]
  },
  {
   "cell_type": "markdown",
   "id": "42c431e1",
   "metadata": {},
   "source": [
    "Также визуализируем матрицу ошибок."
   ]
  },
  {
   "cell_type": "code",
   "execution_count": 55,
   "id": "55cbc0b4",
   "metadata": {},
   "outputs": [],
   "source": [
    "cm_c = confusion_matrix(y_c_test, nn_predictions_c)\n",
    "cm_t = confusion_matrix(y_t_test, nn_predictions_t)"
   ]
  },
  {
   "cell_type": "code",
   "execution_count": 56,
   "id": "d68e9d45",
   "metadata": {},
   "outputs": [
    {
     "data": {
      "image/png": "[encoded data removed]",
      "text/plain": [
       "<Figure size 1080x360 with 4 Axes>"
      ]
     },
     "metadata": {
      "needs_background": "light"
     },
     "output_type": "display_data"
    }
   ],
   "source": [
    "fig, (ax1, ax2) = plt.subplots(1, 2, figsize=(15, 5))\n",
    "cmd_c = ConfusionMatrixDisplay(cm_c, display_labels=le.classes_)\n",
    "cmd_c.plot(ax=ax1)\n",
    "ax1.set_xticklabels(labels=le.classes_, rotation=90)\n",
    "ax1.set_title('BoW NN confusion matrix')\n",
    "cmd_t = ConfusionMatrixDisplay(cm_t, display_labels=le.classes_)\n",
    "cmd_t.plot(ax=ax2)\n",
    "ax2.set_xticklabels(labels=le.classes_, rotation=90)\n",
    "ax2.set_title('TF-IDF NN confusion matrix')\n",
    "plt.show()"
   ]
  },
  {
   "cell_type": "markdown",
   "id": "c1f0891e",
   "metadata": {},
   "source": [
    "#### Выводы\n",
    "\n",
    "Простая нейронная сеть с двумя полносвязными слоями выдаёт результаты схожие по оценкам с линейной регрессией."
   ]
  },
  {
   "cell_type": "markdown",
   "id": "c38fbc99",
   "metadata": {},
   "source": [
    "## Заключение"
   ]
  },
  {
   "cell_type": "markdown",
   "id": "f3ba27f9",
   "metadata": {},
   "source": [
    "В данной работе мы изучили базовые модели машинного обучения в задаче мультиклассовой классификации.\n",
    "\n",
    "Данные были предобработаны с отбрасыванием категории `nonsense`, а также категории `miscellaneous`, т.к. иначе она засоряет  словарь и мешает определению других категорий. Значения метрики F1 до отбрасывания категории `miscellaneous` были на ~5% ниже. Следует задаться определённым порогом уверенности в ответе и при НЕ достижении его в ответе модели относить данный запрос в `miscellaneous`.\n",
    "\n",
    "Общий объём словаря с полученных на Толоке строк составил."
   ]
  },
  {
   "cell_type": "code",
   "execution_count": 57,
   "id": "149cdce1",
   "metadata": {},
   "outputs": [
    {
     "data": {
      "text/plain": [
       "2725"
      ]
     },
     "execution_count": 57,
     "metadata": {},
     "output_type": "execute_result"
    }
   ],
   "source": [
    "len(count_vectorizer.vocabulary_)"
   ]
  },
  {
   "cell_type": "markdown",
   "id": "9896486e",
   "metadata": {},
   "source": [
    "Также мы исследовали влияние векторизации на ответы моделей.\n",
    "\n",
    "Было использовано два метода векторизации: Bag of Words и TF-IDF. Как видно из итоговой таблицы принципиальной разницы нет, вероятно, в связи с очень короткими ответами (1-3 слова)."
   ]
  },
  {
   "cell_type": "code",
   "execution_count": 58,
   "id": "005f0a38",
   "metadata": {},
   "outputs": [
    {
     "data": {
      "text/html": [
       "<div>\n",
       "<style scoped>\n",
       "    .dataframe tbody tr th:only-of-type {\n",
       "        vertical-align: middle;\n",
       "    }\n",
       "\n",
       "    .dataframe tbody tr th {\n",
       "        vertical-align: top;\n",
       "    }\n",
       "\n",
       "    .dataframe thead th {\n",
       "        text-align: right;\n",
       "    }\n",
       "</style>\n",
       "<table border=\"1\" class=\"dataframe\">\n",
       "  <thead>\n",
       "    <tr style=\"text-align: right;\">\n",
       "      <th></th>\n",
       "      <th>precision</th>\n",
       "      <th>recall</th>\n",
       "      <th>f1-score</th>\n",
       "      <th>support</th>\n",
       "    </tr>\n",
       "  </thead>\n",
       "  <tbody>\n",
       "    <tr>\n",
       "      <th>GaussianNB BoW</th>\n",
       "      <td>0.708</td>\n",
       "      <td>0.579</td>\n",
       "      <td>0.615</td>\n",
       "      <td>1953.0</td>\n",
       "    </tr>\n",
       "    <tr>\n",
       "      <th>GaussianNB TF-IDF</th>\n",
       "      <td>0.696</td>\n",
       "      <td>0.580</td>\n",
       "      <td>0.614</td>\n",
       "      <td>1953.0</td>\n",
       "    </tr>\n",
       "    <tr>\n",
       "      <th>LogisticRegression BoW</th>\n",
       "      <td>0.804</td>\n",
       "      <td>0.800</td>\n",
       "      <td>0.796</td>\n",
       "      <td>1953.0</td>\n",
       "    </tr>\n",
       "    <tr>\n",
       "      <th>LogisticRegression TF-IDF</th>\n",
       "      <td>0.801</td>\n",
       "      <td>0.793</td>\n",
       "      <td>0.788</td>\n",
       "      <td>1953.0</td>\n",
       "    </tr>\n",
       "    <tr>\n",
       "      <th>LinearSVM BoW</th>\n",
       "      <td>0.811</td>\n",
       "      <td>0.812</td>\n",
       "      <td>0.809</td>\n",
       "      <td>1953.0</td>\n",
       "    </tr>\n",
       "    <tr>\n",
       "      <th>LinearSVM TF-IDF</th>\n",
       "      <td>0.816</td>\n",
       "      <td>0.817</td>\n",
       "      <td>0.814</td>\n",
       "      <td>1953.0</td>\n",
       "    </tr>\n",
       "    <tr>\n",
       "      <th>LightGBM BoW</th>\n",
       "      <td>0.707</td>\n",
       "      <td>0.604</td>\n",
       "      <td>0.614</td>\n",
       "      <td>1953.0</td>\n",
       "    </tr>\n",
       "    <tr>\n",
       "      <th>LightGBM TF_IDF</th>\n",
       "      <td>0.702</td>\n",
       "      <td>0.606</td>\n",
       "      <td>0.615</td>\n",
       "      <td>1953.0</td>\n",
       "    </tr>\n",
       "    <tr>\n",
       "      <th>NN BoW</th>\n",
       "      <td>0.806</td>\n",
       "      <td>0.791</td>\n",
       "      <td>0.796</td>\n",
       "      <td>1953.0</td>\n",
       "    </tr>\n",
       "    <tr>\n",
       "      <th>NN TF-IDF</th>\n",
       "      <td>0.803</td>\n",
       "      <td>0.794</td>\n",
       "      <td>0.797</td>\n",
       "      <td>1953.0</td>\n",
       "    </tr>\n",
       "  </tbody>\n",
       "</table>\n",
       "</div>"
      ],
      "text/plain": [
       "                           precision  recall  f1-score  support\n",
       "GaussianNB BoW                 0.708   0.579     0.615   1953.0\n",
       "GaussianNB TF-IDF              0.696   0.580     0.614   1953.0\n",
       "LogisticRegression BoW         0.804   0.800     0.796   1953.0\n",
       "LogisticRegression TF-IDF      0.801   0.793     0.788   1953.0\n",
       "LinearSVM BoW                  0.811   0.812     0.809   1953.0\n",
       "LinearSVM TF-IDF               0.816   0.817     0.814   1953.0\n",
       "LightGBM BoW                   0.707   0.604     0.614   1953.0\n",
       "LightGBM TF_IDF                0.702   0.606     0.615   1953.0\n",
       "NN BoW                         0.806   0.791     0.796   1953.0\n",
       "NN TF-IDF                      0.803   0.794     0.797   1953.0"
      ]
     },
     "execution_count": 58,
     "metadata": {},
     "output_type": "execute_result"
    }
   ],
   "source": [
    "pd.DataFrame(results).round(decimals=3).transpose()"
   ]
  },
  {
   "cell_type": "markdown",
   "id": "c2a2018b",
   "metadata": {},
   "source": [
    "Логистическая регрессия, метод опорных векторов и простая нейронная сети дали схожие результаты. Чуть впереди по оценкам модель LinearSVM. Градиентный бустинг показал плохие результаты, как и ожидалось для не табличных данных."
   ]
  }
 ],
 "metadata": {
  "kernelspec": {
   "display_name": "Python 3 (ipykernel)",
   "language": "python",
   "name": "python3"
  },
  "language_info": {
   "codemirror_mode": {
    "name": "ipython",
    "version": 3
   },
   "file_extension": ".py",
   "mimetype": "text/x-python",
   "name": "python",
   "nbconvert_exporter": "python",
   "pygments_lexer": "ipython3",
   "version": "3.9.13"
  },
  "toc": {
   "base_numbering": 1,
   "nav_menu": {},
   "number_sections": true,
   "sideBar": true,
   "skip_h1_title": false,
   "title_cell": "Table of Contents",
   "title_sidebar": "Contents",
   "toc_cell": false,
   "toc_position": {
    "height": "calc(100% - 180px)",
    "left": "10px",
    "top": "150px",
    "width": "384px"
   },
   "toc_section_display": true,
   "toc_window_display": true
  }
 },
 "nbformat": 4,
 "nbformat_minor": 5
}
