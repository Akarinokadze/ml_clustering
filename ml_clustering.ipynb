{
 "cells": [
  {
   "cell_type": "markdown",
   "id": "d923833c",
   "metadata": {},
   "source": [
    "## Обзор моделей кластеризации"
   ]
  },
  {
   "cell_type": "markdown",
   "id": "90edf7c3",
   "metadata": {},
   "source": [
    "### Цель\n",
    "\n",
    "    Осмотреть некоторые алгоритмы машинного обучения в задаче кластеризации.\n",
    "    Посмотреть на эффективность данных моделей.\n",
    "    Изучить влияние разных методов векторизации: слова, н-граммы из слов, н-граммы из букв.\n",
    "    Изучить влияние понижения размерности разряженных матриц при работе с текстовыми данными.\n",
    "    Если получится хорошо кластеризировать данные - составить список категорий, где кластеры данных находятся на максимальном расстоянии друг от друга.\n",
    "\n",
    "### Данные\n",
    "\n",
    "Набор данных представлен записями сделанными пользователями с Толоки.\n",
    "\n",
    "    entry - запись о трате сделанная пользователем\n",
    "    category - одна из базовых категорий, определены пользователями\n",
    "    confidence - уверенность в ответе пользователей после агрегации по методу Дэвида-Скина\n",
    "    \n",
    "### Базовые категории\n",
    "\n",
    "Ранее присвоенные пользователями категории.\n",
    "\n",
    "<details>\n",
    "<summary>Кликни чтобы раскрыть список.</summary>\n",
    "\n",
    "Housing:\n",
    "\n",
    "    Rent or mortgage payments, property taxes, HOA dues, and home repair & maintenance costs.\n",
    "\n",
    "Transportation:\n",
    "\n",
    "    Car payments, registration and DMV fees, gas, maintenance, parking, tolls, and public transit.\n",
    "\n",
    "Groceries & Dining:\n",
    "\n",
    "    Groceries,  dining out, work lunches, food delivery, baby food, pet food etc.\n",
    "\n",
    "Utilities & Phone:\n",
    "\n",
    "    Water, electricity, gas and sewage bills. Cell phone, cable, and internet expenses. Streaming services and subscriptions.\n",
    "\n",
    "Medical & Healthcare:\n",
    "\n",
    "    Out-of-pocket costs for primary care, specialty care (dermatologists, psychologists, etc.), dental care, urgent care, prescriptions etc.\n",
    "\n",
    "Recreation & Entertainment:\n",
    "\n",
    "    Concert & sporting tickets, family activities & vacations, gifts.\n",
    "\n",
    "Personal:\n",
    "\n",
    "    Gym memberships, clothes and shoes, beauty treatments, hobbies.\n",
    "\n",
    "Saving & Debt:\n",
    "\n",
    "    Credit card bills, personal loans, or student loans. Investing and saving of all kind.\n",
    "\n",
    "Miscellaneous:\n",
    "\n",
    "    All that is clearly some expense but doesn't fit into main categories.\n",
    "\n",
    "Entry is incomprehensible (категория `nonsense`):\n",
    "\n",
    "    Please mark this option if an expense note is not understandable.\n",
    "    \n",
    "</details>"
   ]
  },
  {
   "cell_type": "markdown",
   "id": "642a4ef5",
   "metadata": {},
   "source": [
    "## EDA"
   ]
  },
  {
   "cell_type": "markdown",
   "id": "ea9697c6",
   "metadata": {},
   "source": [
    "Установим дополнительную библиотеку pandas_profiling для EDA и библиотеку LightGBM."
   ]
  },
  {
   "cell_type": "code",
   "execution_count": 1,
   "id": "17ed7a1f",
   "metadata": {},
   "outputs": [],
   "source": [
    "!pip install pandas_profiling -q"
   ]
  },
  {
   "cell_type": "markdown",
   "id": "90b03321",
   "metadata": {},
   "source": [
    "Загрузка необходимых модулей."
   ]
  },
  {
   "cell_type": "code",
   "execution_count": 2,
   "id": "6c2a2e9e",
   "metadata": {},
   "outputs": [],
   "source": [
    "import pandas as pd\n",
    "import numpy as np\n",
    "import pandas_profiling\n",
    "import seaborn as sns\n",
    "import matplotlib.pyplot as plt\n",
    "from tqdm import tqdm\n",
    "from time import time\n",
    "\n",
    "import nltk\n",
    "import re\n",
    "from nltk.corpus import stopwords\n",
    "\n",
    "#nltk.download(\"stopwords\") # поддерживает удаление стоп-слов\n",
    "#nltk.download('punkt') # делит текст на список предложений\n",
    "#nltk.download('wordnet') # проводит лемматизацию\n",
    "\n",
    "from sklearn.feature_extraction.text import TfidfVectorizer\n",
    "\n",
    "from sklearn.cluster import KMeans\n",
    "from sklearn.cluster import MiniBatchKMeans\n",
    "\n",
    "from sklearn.decomposition import TruncatedSVD\n",
    "from sklearn.pipeline import make_pipeline\n",
    "from sklearn.preprocessing import Normalizer\n",
    "\n",
    "from scipy.cluster.hierarchy import dendrogram\n",
    "from sklearn.cluster import AgglomerativeClustering\n",
    "\n",
    "from sklearn.cluster import DBSCAN"
   ]
  },
  {
   "cell_type": "markdown",
   "id": "3eb38645",
   "metadata": {},
   "source": [
    "Зададим глобальные переменные."
   ]
  },
  {
   "cell_type": "code",
   "execution_count": 3,
   "id": "1b86ef8c",
   "metadata": {},
   "outputs": [],
   "source": [
    "SEED = 31416"
   ]
  },
  {
   "cell_type": "markdown",
   "id": "3f7e7a9e",
   "metadata": {},
   "source": [
    "Загрузим датасет и осмотрим данные."
   ]
  },
  {
   "cell_type": "code",
   "execution_count": 4,
   "id": "cc9dd122",
   "metadata": {},
   "outputs": [],
   "source": [
    "df = pd.read_csv('toloka_df.csv', index_col='Unnamed: 0')\n",
    "df.drop(columns='confidence', inplace=True)"
   ]
  },
  {
   "cell_type": "code",
   "execution_count": 5,
   "id": "02a01f7f",
   "metadata": {},
   "outputs": [
    {
     "name": "stdout",
     "output_type": "stream",
     "text": [
      "<class 'pandas.core.frame.DataFrame'>\n",
      "Int64Index: 11550 entries, 0 to 11549\n",
      "Data columns (total 2 columns):\n",
      " #   Column    Non-Null Count  Dtype \n",
      "---  ------    --------------  ----- \n",
      " 0   entry     11550 non-null  object\n",
      " 1   category  11550 non-null  object\n",
      "dtypes: object(2)\n",
      "memory usage: 270.7+ KB\n"
     ]
    }
   ],
   "source": [
    "df.info()"
   ]
  },
  {
   "cell_type": "code",
   "execution_count": 6,
   "id": "9e64e75b",
   "metadata": {},
   "outputs": [
    {
     "data": {
      "image/png": "[encoded data removed]",
      "text/plain": [
       "<Figure size 432x288 with 1 Axes>"
      ]
     },
     "metadata": {
      "needs_background": "light"
     },
     "output_type": "display_data"
    }
   ],
   "source": [
    "sns.countplot(data=df, y='category')\n",
    "plt.show()"
   ]
  },
  {
   "cell_type": "code",
   "execution_count": 7,
   "id": "34f0991d",
   "metadata": {},
   "outputs": [
    {
     "data": {
      "application/vnd.jupyter.widget-view+json": {
       "model_id": "731489d9354f4549a198382923f86f93",
       "version_major": 2,
       "version_minor": 0
      },
      "text/plain": [
       "Summarize dataset:   0%|          | 0/5 [00:00<?, ?it/s]"
      ]
     },
     "metadata": {},
     "output_type": "display_data"
    },
    {
     "data": {
      "application/vnd.jupyter.widget-view+json": {
       "model_id": "012a87bd3ecf4832805f4fa07657f526",
       "version_major": 2,
       "version_minor": 0
      },
      "text/plain": [
       "Generate report structure:   0%|          | 0/1 [00:00<?, ?it/s]"
      ]
     },
     "metadata": {},
     "output_type": "display_data"
    },
    {
     "data": {
      "application/vnd.jupyter.widget-view+json": {
       "model_id": "ca274068175d4b2fbb6d1e3cbc72e108",
       "version_major": 2,
       "version_minor": 0
      },
      "text/plain": [
       "Render HTML:   0%|          | 0/1 [00:00<?, ?it/s]"
      ]
     },
     "metadata": {},
     "output_type": "display_data"
    },
    {
     "data": {
      "application/vnd.jupyter.widget-view+json": {
       "model_id": "514ee702754945f583c78c97e16586f1",
       "version_major": 2,
       "version_minor": 0
      },
      "text/plain": [
       "Export report to file:   0%|          | 0/1 [00:00<?, ?it/s]"
      ]
     },
     "metadata": {},
     "output_type": "display_data"
    }
   ],
   "source": [
    "df.profile_report().to_file('toloka_report.html')"
   ]
  },
  {
   "cell_type": "markdown",
   "id": "d3751357",
   "metadata": {},
   "source": [
    "Сбросим полные дубликаты чтобы убрать bias."
   ]
  },
  {
   "cell_type": "code",
   "execution_count": 8,
   "id": "4b800ae7",
   "metadata": {},
   "outputs": [],
   "source": [
    "df.drop_duplicates(inplace=True)"
   ]
  },
  {
   "cell_type": "code",
   "execution_count": 9,
   "id": "7df86f25",
   "metadata": {},
   "outputs": [
    {
     "name": "stdout",
     "output_type": "stream",
     "text": [
      "<class 'pandas.core.frame.DataFrame'>\n",
      "Int64Index: 9497 entries, 0 to 11549\n",
      "Data columns (total 2 columns):\n",
      " #   Column    Non-Null Count  Dtype \n",
      "---  ------    --------------  ----- \n",
      " 0   entry     9497 non-null   object\n",
      " 1   category  9497 non-null   object\n",
      "dtypes: object(2)\n",
      "memory usage: 222.6+ KB\n"
     ]
    }
   ],
   "source": [
    "df.info()"
   ]
  },
  {
   "cell_type": "markdown",
   "id": "bdae831e",
   "metadata": {},
   "source": [
    "## Предобработка текста"
   ]
  },
  {
   "cell_type": "markdown",
   "id": "2cd8dfda",
   "metadata": {},
   "source": [
    "Добавим дополнительные слова в наш стоп-лист."
   ]
  },
  {
   "cell_type": "code",
   "execution_count": 10,
   "id": "a37e9963",
   "metadata": {},
   "outputs": [],
   "source": [
    "new_stopwords = [\n",
    "    'buy', 'bought', 'new', 'fee', 'purchase', 'dollar', 'expense',\n",
    "    'take', 'mom', 'dad', 'mum', 'help', 'payment'\n",
    "]\n",
    "stpwrd = nltk.corpus.stopwords.words('english')\n",
    "stpwrd.extend(new_stopwords)"
   ]
  },
  {
   "cell_type": "markdown",
   "id": "bd02b082",
   "metadata": {},
   "source": [
    "Очистим и лемматизируем наши тексты."
   ]
  },
  {
   "cell_type": "code",
   "execution_count": 11,
   "id": "4457d309",
   "metadata": {},
   "outputs": [],
   "source": [
    "lemmatize = nltk.WordNetLemmatizer()\n",
    "\n",
    "def cleaning(row):\n",
    "    text = re.sub('[^a-zA-Z]', ' ', row.entry).lower() # удаляем неалфавитные символы, приводим к нижнему регистру\n",
    "    text = nltk.word_tokenize(text, language = 'english') # токенизируем слова\n",
    "    text = [lemmatize.lemmatize(word) for word in text] # лемматирзируем слова\n",
    "    text = [word for word in text if not word in stpwrd] # фильтруем слова\n",
    "    row['entry_new'] = ' '.join(text) # соединяем слова\n",
    "    return row"
   ]
  },
  {
   "cell_type": "markdown",
   "id": "383da3ae",
   "metadata": {},
   "source": [
    "Создадим столбец с очищенными леммами."
   ]
  },
  {
   "cell_type": "code",
   "execution_count": 12,
   "id": "473386c7",
   "metadata": {},
   "outputs": [],
   "source": [
    "df = df.apply(cleaning, axis=1)"
   ]
  },
  {
   "cell_type": "markdown",
   "id": "b04544b3",
   "metadata": {},
   "source": [
    "Посмотрим на результат."
   ]
  },
  {
   "cell_type": "code",
   "execution_count": 13,
   "id": "cd495031",
   "metadata": {},
   "outputs": [
    {
     "data": {
      "text/html": [
       "<div>\n",
       "<style scoped>\n",
       "    .dataframe tbody tr th:only-of-type {\n",
       "        vertical-align: middle;\n",
       "    }\n",
       "\n",
       "    .dataframe tbody tr th {\n",
       "        vertical-align: top;\n",
       "    }\n",
       "\n",
       "    .dataframe thead th {\n",
       "        text-align: right;\n",
       "    }\n",
       "</style>\n",
       "<table border=\"1\" class=\"dataframe\">\n",
       "  <thead>\n",
       "    <tr style=\"text-align: right;\">\n",
       "      <th></th>\n",
       "      <th>entry</th>\n",
       "      <th>category</th>\n",
       "      <th>entry_new</th>\n",
       "    </tr>\n",
       "  </thead>\n",
       "  <tbody>\n",
       "    <tr>\n",
       "      <th>8892</th>\n",
       "      <td>New Phone</td>\n",
       "      <td>miscellaneous</td>\n",
       "      <td>phone</td>\n",
       "    </tr>\n",
       "    <tr>\n",
       "      <th>4897</th>\n",
       "      <td>Car fuel 20 bucks</td>\n",
       "      <td>transportation</td>\n",
       "      <td>car fuel buck</td>\n",
       "    </tr>\n",
       "    <tr>\n",
       "      <th>8073</th>\n",
       "      <td>Strawberry jam</td>\n",
       "      <td>food</td>\n",
       "      <td>strawberry jam</td>\n",
       "    </tr>\n",
       "    <tr>\n",
       "      <th>6239</th>\n",
       "      <td>eyelashes</td>\n",
       "      <td>personal</td>\n",
       "      <td>eyelash</td>\n",
       "    </tr>\n",
       "    <tr>\n",
       "      <th>8786</th>\n",
       "      <td>Buy Cat food</td>\n",
       "      <td>food</td>\n",
       "      <td>cat food</td>\n",
       "    </tr>\n",
       "  </tbody>\n",
       "</table>\n",
       "</div>"
      ],
      "text/plain": [
       "                  entry        category       entry_new\n",
       "8892          New Phone   miscellaneous           phone\n",
       "4897  Car fuel 20 bucks  transportation   car fuel buck\n",
       "8073     Strawberry jam            food  strawberry jam\n",
       "6239          eyelashes        personal         eyelash\n",
       "8786       Buy Cat food            food        cat food"
      ]
     },
     "execution_count": 13,
     "metadata": {},
     "output_type": "execute_result"
    }
   ],
   "source": [
    "df.sample(5)"
   ]
  },
  {
   "cell_type": "markdown",
   "id": "a1472cb1",
   "metadata": {},
   "source": [
    "Создадим объекты векторизатора, обучим и применим к новому столбцу стратегию \"TF-IDF\"."
   ]
  },
  {
   "cell_type": "code",
   "execution_count": 14,
   "id": "92bdac11",
   "metadata": {},
   "outputs": [],
   "source": [
    "vectorizer_w = TfidfVectorizer(stop_words=\"english\", analyzer='word', ngram_range=(1,3))\n",
    "vectorizer = TfidfVectorizer(stop_words=\"english\", analyzer='word', ngram_range=(1,1))\n",
    "vectorizer_c = TfidfVectorizer(stop_words=\"english\", analyzer='char_wb', ngram_range=(3,5))\n",
    "X_w = vectorizer_w.fit_transform(df.entry_new)\n",
    "X = vectorizer.fit_transform(df.entry_new)\n",
    "X_c = vectorizer_c.fit_transform(df.entry_new)"
   ]
  },
  {
   "cell_type": "markdown",
   "id": "fdcf048c",
   "metadata": {},
   "source": [
    "## Работа с моделями"
   ]
  },
  {
   "cell_type": "markdown",
   "id": "ca2ea91e",
   "metadata": {},
   "source": [
    "### K-means\n",
    "\n",
    "Проверим кластеризатор Kmeans. Для своей работы он требует указание количества классов, сначала проверим результат на ранее выбранном количестве."
   ]
  },
  {
   "cell_type": "code",
   "execution_count": 15,
   "id": "f900f091",
   "metadata": {},
   "outputs": [
    {
     "name": "stdout",
     "output_type": "stream",
     "text": [
      "CPU times: total: 516 ms\n",
      "Wall time: 426 ms\n"
     ]
    }
   ],
   "source": [
    "%%time\n",
    "clusters = 10\n",
    "\n",
    "minibatch_kmeans_w = MiniBatchKMeans(n_clusters=clusters, random_state=SEED)\n",
    "labels_w = minibatch_kmeans_w.fit_predict(X_w)\n",
    "minibatch_kmeans = MiniBatchKMeans(n_clusters=clusters, random_state=SEED)\n",
    "labels = minibatch_kmeans.fit_predict(X)\n",
    "minibatch_kmeans_c = MiniBatchKMeans(n_clusters=clusters, random_state=SEED)\n",
    "labels_c = minibatch_kmeans_c.fit_predict(X_c)"
   ]
  },
  {
   "cell_type": "markdown",
   "id": "47417b7d",
   "metadata": {},
   "source": [
    "Сравним присвоенные значения с теми что были присвоены людьми."
   ]
  },
  {
   "cell_type": "code",
   "execution_count": 16,
   "id": "7cc6a240",
   "metadata": {},
   "outputs": [],
   "source": [
    "df['new_w'] = labels_w\n",
    "df['new'] = labels\n",
    "df['new_c'] = labels_c"
   ]
  },
  {
   "cell_type": "code",
   "execution_count": 17,
   "id": "964372f8",
   "metadata": {
    "scrolled": false
   },
   "outputs": [
    {
     "data": {
      "image/png": "[encoded data removed]",
      "text/plain": [
       "<Figure size 1080x360 with 3 Axes>"
      ]
     },
     "metadata": {
      "needs_background": "light"
     },
     "output_type": "display_data"
    }
   ],
   "source": [
    "f, (ax1, ax2, ax3) = plt.subplots(1, 3, figsize=(15, 5))\n",
    "sns.countplot(data=df, y='new_w', ax=ax1)\n",
    "ax1.set_title('Word 1-3')\n",
    "sns.countplot(data=df, y='new', ax=ax2)\n",
    "ax2.set_title('Word 1-1')\n",
    "sns.countplot(data=df, y='new_c', ax=ax3)\n",
    "ax3.set_title('Char_wb 3-5')\n",
    "plt.show()"
   ]
  },
  {
   "cell_type": "markdown",
   "id": "1e0bda7e",
   "metadata": {},
   "source": [
    "Виден большой дисбаланс по классам, проверим ключевые слова в кластерах."
   ]
  },
  {
   "cell_type": "code",
   "execution_count": 18,
   "id": "622e1c53",
   "metadata": {},
   "outputs": [
    {
     "name": "stdout",
     "output_type": "stream",
     "text": [
      "Cluster 0: ance  ance anc nce  nce  insu insu nsur nsura uranc \n",
      "Cluster 1:  food food food  ood  foo foo ood  od   fo  dog \n",
      "Cluster 2: er  ing ng  ing   ca nt  ent  re car  car \n",
      "Cluster 3: ill  bill   bill  bil bill ill bil ll   bi ter \n",
      "Cluster 4: hone  phone phon hone pho hon one  one  phon  pho \n",
      "Cluster 5: gift  ift   gif  gift gif gift ift ft   gi day  \n",
      "Cluster 6:  sho sho  sh shoe   shoe hoe hoe  shoe oe  hoppi \n",
      "Cluster 7: ion  ion tion  tion tio on  scri crip ript cript \n",
      "Cluster 8:  ba baby  baby aby  bab bab baby  aby  by   bag  \n",
      "Cluster 9: chool schoo  scho choo scho  sch hool sch hoo hool  \n"
     ]
    }
   ],
   "source": [
    "order_centroids = minibatch_kmeans_c.cluster_centers_.argsort()[:, ::-1]\n",
    "terms = vectorizer_c.get_feature_names()\n",
    "\n",
    "for i in range(clusters):\n",
    "    print(f'Cluster {i}: ', end='')\n",
    "    for ind in order_centroids[i, :10]:\n",
    "        print(f'{terms[ind]} ', end='')\n",
    "    print()"
   ]
  },
  {
   "cell_type": "code",
   "execution_count": 19,
   "id": "ba3573a1",
   "metadata": {},
   "outputs": [
    {
     "name": "stdout",
     "output_type": "stream",
     "text": [
      "Cluster 0: transportation - 52, medical - 42, housing - 30, saving - 26, miscellaneous - 9, \n",
      "Cluster 1: food - 164, miscellaneous - 11, nonsense - 1, housing - 1, saving - 1, \n",
      "Cluster 2: food - 1715, personal - 1388, miscellaneous - 1130, housing - 665, transportation - 644, \n",
      "Cluster 3: utilities - 349, medical - 26, food - 19, housing - 14, transportation - 13, \n",
      "Cluster 4: utilities - 212, miscellaneous - 21, personal - 4, recreation - 4, saving - 4, \n",
      "Cluster 5: recreation - 121, miscellaneous - 40, personal - 17, food - 14, nonsense - 10, \n",
      "Cluster 6: personal - 124, food - 58, miscellaneous - 22, housing - 7, recreation - 6, \n",
      "Cluster 7: utilities - 126, transportation - 43, recreation - 40, miscellaneous - 30, personal - 24, \n",
      "Cluster 8: personal - 53, miscellaneous - 45, food - 32, recreation - 8, medical - 5, \n",
      "Cluster 9: miscellaneous - 82, saving - 32, personal - 31, transportation - 16, food - 9, \n"
     ]
    }
   ],
   "source": [
    "for i in range(clusters):\n",
    "    print(f'Cluster {i}: ', end='')\n",
    "    category_counts = df[df.new_c == i].category.value_counts()[:5]\n",
    "    for name, count in zip(category_counts.index, category_counts):\n",
    "        print(f'{name} - {count}, ', end='')\n",
    "    print()"
   ]
  },
  {
   "cell_type": "markdown",
   "id": "e9895f00",
   "metadata": {},
   "source": [
    "По ключевым словам видно что модель в случае со слогами смогла уловить схожие черты слов, но не смысл. Дисбаланс по классам не даёт нам возможность применять такую модель. Причина сильного дисбаланса при анализе текстов известна. Начальная точка центроидов в разряженных матрицах часто попадает в границах одного кластера, что приводит к сильному дисбалансу. Исправить можно понижением размерности.\n",
    "\n",
    "Выберем новые размерности так, чтобы они объясняли не менее 95% дисперсии исходных данных."
   ]
  },
  {
   "cell_type": "code",
   "execution_count": 20,
   "id": "ac7263a7",
   "metadata": {},
   "outputs": [],
   "source": [
    "x_w = 5000\n",
    "х = 2000\n",
    "x_c = 1750"
   ]
  },
  {
   "cell_type": "code",
   "execution_count": 21,
   "id": "1736095a",
   "metadata": {
    "scrolled": true
   },
   "outputs": [
    {
     "name": "stdout",
     "output_type": "stream",
     "text": [
      "LSA done in 207.029 s\n",
      "Explained variance of the SVD step Word 1-3: 96.7%\n",
      "Explained variance of the SVD step Word 1-1: 95.3%\n",
      "Explained variance of the SVD step Char 3-5: 95.6%\n"
     ]
    }
   ],
   "source": [
    "lsa_w = make_pipeline(TruncatedSVD(n_components=x_w), Normalizer(copy=False))\n",
    "lsa = make_pipeline(TruncatedSVD(n_components=х), Normalizer(copy=False))\n",
    "lsa_c = make_pipeline(TruncatedSVD(n_components=x_c), Normalizer(copy=False))\n",
    "t0 = time()\n",
    "X_lsa_w = lsa_w.fit_transform(X_w)\n",
    "X_lsa = lsa.fit_transform(X)\n",
    "X_lsa_c = lsa_c.fit_transform(X_c)\n",
    "explained_variance_w = lsa_w[0].explained_variance_ratio_.sum()\n",
    "explained_variance = lsa[0].explained_variance_ratio_.sum()\n",
    "explained_variance_c = lsa_c[0].explained_variance_ratio_.sum()\n",
    "\n",
    "print(f'LSA done in {time() - t0:.3f} s')\n",
    "print(f'Explained variance of the SVD step Word 1-3: {explained_variance_w * 100:.1f}%')\n",
    "print(f'Explained variance of the SVD step Word 1-1: {explained_variance * 100:.1f}%')\n",
    "print(f'Explained variance of the SVD step Char 3-5: {explained_variance_c * 100:.1f}%')"
   ]
  },
  {
   "cell_type": "code",
   "execution_count": 22,
   "id": "2f8cc092",
   "metadata": {},
   "outputs": [
    {
     "name": "stdout",
     "output_type": "stream",
     "text": [
      "CPU times: total: 4.05 s\n",
      "Wall time: 2.25 s\n"
     ]
    }
   ],
   "source": [
    "%%time\n",
    "clusters = 10\n",
    "\n",
    "minibatch_kmeans_w = MiniBatchKMeans(n_clusters=clusters, random_state=SEED)\n",
    "labels_w = minibatch_kmeans_w.fit_predict(X_lsa_w)\n",
    "minibatch_kmeans = MiniBatchKMeans(n_clusters=clusters, random_state=SEED)\n",
    "labels = minibatch_kmeans.fit_predict(X_lsa)\n",
    "minibatch_kmeans_c = MiniBatchKMeans(n_clusters=clusters, random_state=SEED)\n",
    "labels_c = minibatch_kmeans_c.fit_predict(X_lsa_c)"
   ]
  },
  {
   "cell_type": "code",
   "execution_count": 23,
   "id": "5166328f",
   "metadata": {},
   "outputs": [
    {
     "data": {
      "image/png": "[encoded data removed]",
      "text/plain": [
       "<Figure size 1080x360 with 3 Axes>"
      ]
     },
     "metadata": {
      "needs_background": "light"
     },
     "output_type": "display_data"
    }
   ],
   "source": [
    "df['new_w'] = labels_w\n",
    "df['new'] = labels\n",
    "df['new_c'] = labels_c\n",
    "\n",
    "f, (ax1, ax2, ax3) = plt.subplots(1, 3, figsize=(15, 5))\n",
    "sns.countplot(data=df, y='new_w', ax=ax1)\n",
    "ax1.set_title('Word 1-3')\n",
    "sns.countplot(data=df, y='new', ax=ax2)\n",
    "ax2.set_title('Word 1-1')\n",
    "sns.countplot(data=df, y='new_c', ax=ax3)\n",
    "ax3.set_title('Char_wb 3-5')\n",
    "plt.show()"
   ]
  },
  {
   "cell_type": "markdown",
   "id": "4a0f84a3",
   "metadata": {},
   "source": [
    "Посмотрим на ключевые слова."
   ]
  },
  {
   "cell_type": "code",
   "execution_count": 24,
   "id": "ff33d99c",
   "metadata": {},
   "outputs": [
    {
     "name": "stdout",
     "output_type": "stream",
     "text": [
      "Cluster 0: shopping nail grocery polish naira ksh clothes house monthly carefour \n",
      "Cluster 1: school food cat dog pet supply kid child son book \n",
      "Cluster 2: car insurance fuel health egg maintenance rental life wash renewal \n",
      "Cluster 3: gift hair internet gas book lunch service baby house monthly \n",
      "Cluster 4: phone case cell mobile charger repair airtime cover screen plan \n",
      "Cluster 5: water bottle bottled drinking pipe electricity mineral utility sparkling ksh \n",
      "Cluster 6: shoe birthday repair buying kid fuel cake paper present gift \n",
      "Cluster 7: electricity rent house month ksh monthly paid car pay apartment \n",
      "Cluster 8: grocery ticket store credit airtime movie card concert food flight \n",
      "Cluster 9: subscription netflix tv monthly cable gym spotify internet disney amazon \n"
     ]
    }
   ],
   "source": [
    "original_space_centroids = lsa[0].inverse_transform(minibatch_kmeans.cluster_centers_)\n",
    "order_centroids = original_space_centroids.argsort()[:, ::-1]\n",
    "terms = vectorizer.get_feature_names()\n",
    "\n",
    "for i in range(clusters):\n",
    "    print(f'Cluster {i}: ', end='')\n",
    "    for ind in order_centroids[i, :10]:\n",
    "        print(f'{terms[ind]} ', end='')\n",
    "    print()"
   ]
  },
  {
   "cell_type": "code",
   "execution_count": 25,
   "id": "2640f1d6",
   "metadata": {},
   "outputs": [
    {
     "name": "stdout",
     "output_type": "stream",
     "text": [
      "Cluster 0: personal - 53, food - 52, miscellaneous - 17, housing - 6, nonsense - 3, \n",
      "Cluster 1: food - 159, miscellaneous - 90, personal - 31, saving - 30, transportation - 16, \n",
      "Cluster 2: transportation - 285, medical - 38, saving - 32, miscellaneous - 12, housing - 9, \n",
      "Cluster 3: food - 1563, personal - 1397, miscellaneous - 1156, recreation - 617, utilities - 576, \n",
      "Cluster 4: utilities - 181, miscellaneous - 16, saving - 4, nonsense - 3, personal - 2, \n",
      "Cluster 5: utilities - 82, food - 35, miscellaneous - 8, housing - 8, nonsense - 5, \n",
      "Cluster 6: personal - 151, recreation - 110, miscellaneous - 98, food - 77, housing - 65, \n",
      "Cluster 7: housing - 104, utilities - 92, transportation - 14, nonsense - 2, saving - 2, \n",
      "Cluster 8: food - 124, recreation - 49, transportation - 22, miscellaneous - 1, nonsense - 1, \n",
      "Cluster 9: utilities - 120, recreation - 21, personal - 8, miscellaneous - 4, transportation - 2, \n"
     ]
    }
   ],
   "source": [
    "for i in range(clusters):\n",
    "    print(f'Cluster {i}: ', end='')\n",
    "    category_counts = df[df.new == i].category.value_counts()[:5]\n",
    "    for name, count in zip(category_counts.index, category_counts):\n",
    "        print(f'{name} - {count}, ', end='')\n",
    "    print()"
   ]
  },
  {
   "cell_type": "markdown",
   "id": "7b0386b0",
   "metadata": {},
   "source": [
    "Из распределения ответов кластеризатора видно что ответы модели сильно отличаются от ответов людей. Только 7 категория совпала почти полностью с исходной `utilities`.\n",
    "\n",
    "Для кластеризатора K-means есть метод определения оптимального количества кластеров - \"метод локтя\". Он заключается в итеративном нахождении инерции (сумма квадратов дистанций от образца до центра кластера) и вычерчивания графика количество_кластеров - инерция. Излом на графике показывает оптимальное количество кластеров."
   ]
  },
  {
   "cell_type": "code",
   "execution_count": 26,
   "id": "46357a86",
   "metadata": {},
   "outputs": [
    {
     "name": "stderr",
     "output_type": "stream",
     "text": [
      "progress: 100%|████████████████████████████████████████████████████████████████████████| 99/99 [00:21<00:00,  4.58it/s]"
     ]
    },
    {
     "name": "stdout",
     "output_type": "stream",
     "text": [
      "CPU times: total: 29.5 s\n",
      "Wall time: 21.6 s\n"
     ]
    },
    {
     "name": "stderr",
     "output_type": "stream",
     "text": [
      "\n"
     ]
    }
   ],
   "source": [
    "%%time\n",
    "inertia = []\n",
    "for k in tqdm(range(1, 100), 'progress'):\n",
    "    kmeans = MiniBatchKMeans(n_clusters=k, random_state=SEED).fit(X)\n",
    "    inertia.append(np.sqrt(kmeans.inertia_))"
   ]
  },
  {
   "cell_type": "code",
   "execution_count": 27,
   "id": "74382f67",
   "metadata": {},
   "outputs": [
    {
     "data": {
      "image/png": "[encoded data removed]",
      "text/plain": [
       "<Figure size 1152x360 with 1 Axes>"
      ]
     },
     "metadata": {
      "needs_background": "light"
     },
     "output_type": "display_data"
    }
   ],
   "source": [
    "fig = plt.figure(figsize=(16, 5))\n",
    "plt.plot(range(1, 100), inertia[:99], marker=\"s\")\n",
    "plt.xlabel('$k$')\n",
    "plt.ylabel('$J(C_k)$')\n",
    "plt.xticks(np.arange(0, 101, 2), rotation=90)\n",
    "plt.grid()\n",
    "plt.show()"
   ]
  },
  {
   "cell_type": "markdown",
   "id": "1b27fb8d",
   "metadata": {},
   "source": [
    "То же самое но для датасета с уменьшенной размерностью, из n-грам."
   ]
  },
  {
   "cell_type": "code",
   "execution_count": 28,
   "id": "2cd3e431",
   "metadata": {},
   "outputs": [
    {
     "name": "stderr",
     "output_type": "stream",
     "text": [
      "progress: 100%|████████████████████████████████████████████████████████████████████████| 99/99 [01:15<00:00,  1.31it/s]"
     ]
    },
    {
     "name": "stdout",
     "output_type": "stream",
     "text": [
      "CPU times: total: 2min 57s\n",
      "Wall time: 1min 15s\n"
     ]
    },
    {
     "name": "stderr",
     "output_type": "stream",
     "text": [
      "\n"
     ]
    }
   ],
   "source": [
    "%%time\n",
    "inertia = []\n",
    "for k in tqdm(range(1, 100), 'progress'):\n",
    "    kmeans = MiniBatchKMeans(n_clusters=k, random_state=SEED).fit(X_lsa_c)\n",
    "    inertia.append(np.sqrt(kmeans.inertia_))"
   ]
  },
  {
   "cell_type": "code",
   "execution_count": 29,
   "id": "85a8a753",
   "metadata": {},
   "outputs": [
    {
     "data": {
      "image/png": "[encoded data removed]",
      "text/plain": [
       "<Figure size 1152x360 with 1 Axes>"
      ]
     },
     "metadata": {
      "needs_background": "light"
     },
     "output_type": "display_data"
    }
   ],
   "source": [
    "fig = plt.figure(figsize=(16, 5))\n",
    "plt.plot(range(1, 100), inertia[:99], marker=\"s\")\n",
    "plt.xlabel('$k$')\n",
    "plt.ylabel('$J(C_k)$')\n",
    "plt.xticks(np.arange(0, 101, 2), rotation=90)\n",
    "plt.grid()\n",
    "plt.show()"
   ]
  },
  {
   "cell_type": "markdown",
   "id": "12a7cd7c",
   "metadata": {},
   "source": [
    "К сожалению, мы видим что значения инерции далеки от 0. Ни оригинальные данные, ни данные с уменьшением размерности не подходят близко к оси J=0 (что говорит о невозможности однозначно разделить кластера, они сильно пересекаются). На данных видны изломы на 16 кластерах, проверим эту точку."
   ]
  },
  {
   "cell_type": "code",
   "execution_count": 30,
   "id": "14ea1a7d",
   "metadata": {},
   "outputs": [
    {
     "name": "stdout",
     "output_type": "stream",
     "text": [
      "CPU times: total: 4.88 s\n",
      "Wall time: 2.37 s\n"
     ]
    }
   ],
   "source": [
    "%%time\n",
    "clusters = 16\n",
    "\n",
    "minibatch_kmeans_w = MiniBatchKMeans(n_clusters=clusters, random_state=SEED)\n",
    "labels_w = minibatch_kmeans_w.fit_predict(X_lsa_w)\n",
    "minibatch_kmeans = MiniBatchKMeans(n_clusters=clusters, random_state=SEED)\n",
    "labels = minibatch_kmeans.fit_predict(X_lsa)\n",
    "minibatch_kmeans_c = MiniBatchKMeans(n_clusters=clusters, random_state=SEED)\n",
    "labels_c = minibatch_kmeans_c.fit_predict(X_lsa_c)"
   ]
  },
  {
   "cell_type": "code",
   "execution_count": 31,
   "id": "54723ea4",
   "metadata": {},
   "outputs": [
    {
     "data": {
      "image/png": "[encoded data removed]",
      "text/plain": [
       "<Figure size 1080x360 with 3 Axes>"
      ]
     },
     "metadata": {
      "needs_background": "light"
     },
     "output_type": "display_data"
    }
   ],
   "source": [
    "df['new_w'] = labels_w\n",
    "df['new'] = labels\n",
    "df['new_c'] = labels_c\n",
    "\n",
    "f, (ax1, ax2, ax3) = plt.subplots(1, 3, figsize=(15, 5))\n",
    "sns.countplot(data=df, y='new_w', ax=ax1)\n",
    "ax1.set_title('Word 1-3')\n",
    "sns.countplot(data=df, y='new', ax=ax2)\n",
    "ax2.set_title('Word 1-1')\n",
    "sns.countplot(data=df, y='new_c', ax=ax3)\n",
    "ax3.set_title('Char_wb 3-5')\n",
    "plt.show()"
   ]
  },
  {
   "cell_type": "markdown",
   "id": "443ff23f",
   "metadata": {},
   "source": [
    "Посмотрим на ключевые слова."
   ]
  },
  {
   "cell_type": "code",
   "execution_count": 32,
   "id": "4564ac7e",
   "metadata": {},
   "outputs": [
    {
     "name": "stdout",
     "output_type": "stream",
     "text": [
      "Cluster 0: shopping transport cable fuel fare notebook taxi \n",
      "Cluster 1: hair book gas subscription repair house ticket \n",
      "Cluster 2: car fuel car fuel car wash wash fuel car car rental \n",
      "Cluster 3: school kid school kid school supply son book supply \n",
      "Cluster 4: sugar tin sugar tin sugar kg buying sugar cup sugar white sugar \n",
      "Cluster 5: insurance car insurance car health insurance health life life insurance \n",
      "Cluster 6: internet internet bundle bundle internet subscription internet ksh internet service subscription \n",
      "Cluster 7: grocery grocery shopping shopping grocery store store grocery shopping ksh shopping ksh \n",
      "Cluster 8: gasoline car gasoline gasoline car car jewellery girlfriend farm equipment gasoline farm \n",
      "Cluster 9: food dog dog food cat cat food pet pet food \n",
      "Cluster 10: shoe tuition laundry toothpaste mobile vacation rice \n",
      "Cluster 11: lunch restaurant school lunch lunch box lunch restaurant box lunch family \n",
      "Cluster 12: clothes baby clothes clothes amazon baby amazon clothes childrens detergent clothes \n",
      "Cluster 13: lunch kfc lunch lunch cafe restaurant lunch lunch canteen lunch money lunch university \n",
      "Cluster 14: milk vegetable tv subscription tv subscription vegetable week week \n",
      "Cluster 15: phone water electricity birthday gift airtime birthday gift \n"
     ]
    }
   ],
   "source": [
    "original_space_centroids = lsa_w[0].inverse_transform(minibatch_kmeans_w.cluster_centers_)\n",
    "order_centroids = original_space_centroids.argsort()[:, ::-1]\n",
    "terms = vectorizer_w.get_feature_names()\n",
    "\n",
    "for i in range(clusters):\n",
    "    print(f'Cluster {i}: ', end='')\n",
    "    for ind in order_centroids[i, :7]:\n",
    "        print(f'{terms[ind]} ', end='')\n",
    "    print()"
   ]
  },
  {
   "cell_type": "code",
   "execution_count": 33,
   "id": "a09aedbb",
   "metadata": {},
   "outputs": [
    {
     "name": "stdout",
     "output_type": "stream",
     "text": [
      "Cluster 0: transportation - 130, utilities - 41, miscellaneous - 27, personal - 25, food - 22, \n",
      "Cluster 1: food - 1519, personal - 1435, miscellaneous - 1200, recreation - 769, housing - 694, \n",
      "Cluster 2: transportation - 236, saving - 4, miscellaneous - 3, housing - 2, personal - 1, \n",
      "Cluster 3: miscellaneous - 76, personal - 30, saving - 28, transportation - 11, nonsense - 6, \n",
      "Cluster 4: food - 13, miscellaneous - 1, \n",
      "Cluster 5: medical - 37, transportation - 31, saving - 24, miscellaneous - 7, housing - 6, \n",
      "Cluster 6: utilities - 76, \n",
      "Cluster 7: food - 126, \n",
      "Cluster 8: transportation - 9, medical - 1, \n",
      "Cluster 9: food - 148, miscellaneous - 10, nonsense - 1, housing - 1, saving - 1, \n",
      "Cluster 10: personal - 128, miscellaneous - 43, saving - 10, food - 8, nonsense - 6, \n",
      "Cluster 11: food - 39, personal - 1, nonsense - 1, miscellaneous - 1, recreation - 1, \n",
      "Cluster 12: personal - 20, miscellaneous - 2, \n",
      "Cluster 13: food - 17, housing - 1, \n",
      "Cluster 14: food - 84, utilities - 19, recreation - 2, miscellaneous - 1, \n",
      "Cluster 15: utilities - 336, food - 32, miscellaneous - 31, recreation - 21, nonsense - 7, \n"
     ]
    }
   ],
   "source": [
    "for i in range(clusters):\n",
    "    print(f'Cluster {i}: ', end='')\n",
    "    category_counts = df[df.new_w == i].category.value_counts()[:5]\n",
    "    for name, count in zip(category_counts.index, category_counts):\n",
    "        print(f'{name} - {count}, ', end='')\n",
    "    print()"
   ]
  },
  {
   "cell_type": "markdown",
   "id": "5e57d201",
   "metadata": {},
   "source": [
    "#### Выводы\n",
    "\n",
    "Мы рассмотрели самый популярный алгоритм кластеризации K-Means.\n",
    "\n",
    "При применении на разряженных данных (текст) мы столкнулись с известной проблемой инициализации координат центроидов, которую получилось частично решить с помощью понижения размерности (LSA).\n",
    "\n",
    "Построили графики зависимости инерции от количества кластеров, но, к сожалению, даже по ним видно что кластера получаются с сильным наложением. Ни исходное количество кластеров 10, ни излом найденный на графике инерции - 16 кластеров не дают хорошего разделения и возможности идентифицировать категории.\n",
    "\n",
    "Т.о. можно заключить что разделение основанное на случайном выборе положения центроидов и последующей коррекции не позволяет хорошо разделить наши данные. Попробуем другие подходы."
   ]
  },
  {
   "cell_type": "markdown",
   "id": "4c923bc4",
   "metadata": {},
   "source": [
    "### Agglomerative clustering\n",
    "\n",
    "Другим подходом к определению кластеров является Agglomerative clustering. Суть его в том что изначально каждый объект в датасете становится отдельным кластером, далее после сортировки по взаимному расстоянию между парами кластеров мы объединяем ближайшие пары кластеров в родительский кластер и т.д.\n",
    "\n",
    "Попробуем стратегию с полной связью - максимальная дистанция между всеми вхождениями двух кластеров."
   ]
  },
  {
   "cell_type": "code",
   "execution_count": 34,
   "id": "57766b49",
   "metadata": {},
   "outputs": [
    {
     "name": "stdout",
     "output_type": "stream",
     "text": [
      "CPU times: total: 1min 27s\n",
      "Wall time: 1min 27s\n"
     ]
    }
   ],
   "source": [
    "%%time\n",
    "model = AgglomerativeClustering(distance_threshold=0, n_clusters=None, compute_distances=True, linkage='complete')\n",
    "model = model.fit(X.toarray())"
   ]
  },
  {
   "cell_type": "code",
   "execution_count": 35,
   "id": "39f24769",
   "metadata": {},
   "outputs": [],
   "source": [
    "def plot_dendrogram(model, **kwargs):\n",
    "    # Create linkage matrix and then plot the dendrogram\n",
    "\n",
    "    # create the counts of samples under each node\n",
    "    counts = np.zeros(model.children_.shape[0])\n",
    "    n_samples = len(model.labels_)\n",
    "    for i, merge in enumerate(model.children_):\n",
    "        current_count = 0\n",
    "        for child_idx in merge:\n",
    "            if child_idx < n_samples:\n",
    "                current_count += 1  # leaf node\n",
    "            else:\n",
    "                current_count += counts[child_idx - n_samples]\n",
    "        counts[i] = current_count\n",
    "\n",
    "    linkage_matrix = np.column_stack(\n",
    "        [model.children_, model.distances_, counts]\n",
    "    ).astype(float)\n",
    "\n",
    "    # Plot the corresponding dendrogram\n",
    "    dendrogram(linkage_matrix, **kwargs)"
   ]
  },
  {
   "cell_type": "code",
   "execution_count": 36,
   "id": "cb7d2b13",
   "metadata": {
    "scrolled": false
   },
   "outputs": [
    {
     "data": {
      "image/png": "[encoded data removed]",
      "text/plain": [
       "<Figure size 1152x216 with 1 Axes>"
      ]
     },
     "metadata": {
      "needs_background": "light"
     },
     "output_type": "display_data"
    }
   ],
   "source": [
    "fig = plt.figure(figsize=(16, 3))\n",
    "plt.title('Hierarchical Clustering Dendrogram')\n",
    "# plot the top three levels of the dendrogram\n",
    "plot_dendrogram(model, truncate_mode='level', orientation='top', p=8, leaf_font_size=10)\n",
    "plt.xlabel('Number of points in node (or index of point if no parenthesis).')\n",
    "plt.grid()\n",
    "plt.show()"
   ]
  },
  {
   "cell_type": "markdown",
   "id": "71488519",
   "metadata": {},
   "source": [
    "По дендрограмме видно, что даже при количестве кластеров больше 100, основная часть данных (6514) всё ещё не разделена и находится в отдельной ветке. Попробуем с уменьшенными размерностями."
   ]
  },
  {
   "cell_type": "code",
   "execution_count": 37,
   "id": "cba5f6c9",
   "metadata": {},
   "outputs": [
    {
     "name": "stdout",
     "output_type": "stream",
     "text": [
      "CPU times: total: 2min 20s\n",
      "Wall time: 2min 20s\n"
     ]
    }
   ],
   "source": [
    "%%time\n",
    "model = AgglomerativeClustering(distance_threshold=0, n_clusters=None, compute_distances=True, linkage='complete')\n",
    "model = model.fit(X_lsa_w)"
   ]
  },
  {
   "cell_type": "code",
   "execution_count": 38,
   "id": "c9b3d1a2",
   "metadata": {
    "scrolled": false
   },
   "outputs": [
    {
     "data": {
      "image/png": "[encoded data removed]",
      "text/plain": [
       "<Figure size 1152x216 with 1 Axes>"
      ]
     },
     "metadata": {
      "needs_background": "light"
     },
     "output_type": "display_data"
    }
   ],
   "source": [
    "fig = plt.figure(figsize=(16, 3))\n",
    "plt.title('Hierarchical Clustering Dendrogram')\n",
    "# plot the top three levels of the dendrogram\n",
    "plot_dendrogram(model, truncate_mode='level', orientation='top', p=5, leaf_font_size=10)\n",
    "plt.xlabel('Number of points in node (or index of point if no parenthesis).')\n",
    "plt.grid()\n",
    "plt.show()"
   ]
  },
  {
   "cell_type": "markdown",
   "id": "99356d72",
   "metadata": {},
   "source": [
    "Данные распределены лучше, посмотрим на качество."
   ]
  },
  {
   "cell_type": "code",
   "execution_count": 39,
   "id": "f9d98392",
   "metadata": {},
   "outputs": [
    {
     "name": "stdout",
     "output_type": "stream",
     "text": [
      "CPU times: total: 2min 18s\n",
      "Wall time: 2min 18s\n"
     ]
    }
   ],
   "source": [
    "%%time\n",
    "model = AgglomerativeClustering(distance_threshold=1.425, n_clusters=None, compute_distances=True, linkage='complete')\n",
    "labels = model.fit_predict(X_lsa_w)"
   ]
  },
  {
   "cell_type": "code",
   "execution_count": 40,
   "id": "254260b3",
   "metadata": {},
   "outputs": [
    {
     "data": {
      "text/plain": [
       "15"
      ]
     },
     "execution_count": 40,
     "metadata": {},
     "output_type": "execute_result"
    }
   ],
   "source": [
    "model.n_clusters_"
   ]
  },
  {
   "cell_type": "code",
   "execution_count": 41,
   "id": "fc084e2b",
   "metadata": {},
   "outputs": [
    {
     "data": {
      "image/png": "[encoded data removed]",
      "text/plain": [
       "<Figure size 1080x360 with 1 Axes>"
      ]
     },
     "metadata": {
      "needs_background": "light"
     },
     "output_type": "display_data"
    }
   ],
   "source": [
    "df['new_w'] = labels\n",
    "\n",
    "fig = plt.figure(figsize=(15, 5))\n",
    "sns.countplot(data=df, y='new_w')\n",
    "plt.show()"
   ]
  },
  {
   "cell_type": "markdown",
   "id": "947ffeb7",
   "metadata": {},
   "source": [
    "Посмотрим на ключевые слова и категории."
   ]
  },
  {
   "cell_type": "code",
   "execution_count": 42,
   "id": "3c49a597",
   "metadata": {},
   "outputs": [
    {
     "name": "stdout",
     "output_type": "stream",
     "text": [
      "Cluster 0: food - 246, personal - 165, utilities - 150, miscellaneous - 114, recreation - 69, \n",
      "Cluster 1: miscellaneous - 186, food - 129, recreation - 101, personal - 100, utilities - 70, \n",
      "Cluster 2: food - 174, personal - 137, miscellaneous - 100, utilities - 64, recreation - 36, \n",
      "Cluster 3: food - 150, miscellaneous - 144, personal - 141, housing - 113, utilities - 110, \n",
      "Cluster 4: food - 212, miscellaneous - 108, recreation - 92, personal - 78, utilities - 59, \n",
      "Cluster 5: personal - 104, transportation - 69, housing - 66, utilities - 64, food - 55, \n",
      "Cluster 6: food - 158, transportation - 125, personal - 106, miscellaneous - 101, housing - 94, \n",
      "Cluster 7: utilities - 224, personal - 99, miscellaneous - 85, food - 75, transportation - 62, \n",
      "Cluster 8: food - 160, personal - 126, miscellaneous - 75, recreation - 50, housing - 49, \n",
      "Cluster 9: personal - 74, food - 73, medical - 66, miscellaneous - 55, transportation - 50, \n",
      "Cluster 10: food - 94, personal - 86, miscellaneous - 76, saving - 52, recreation - 48, \n",
      "Cluster 11: food - 161, personal - 130, miscellaneous - 94, medical - 30, nonsense - 26, \n",
      "Cluster 12: personal - 106, food - 103, utilities - 89, miscellaneous - 75, recreation - 42, \n",
      "Cluster 13: personal - 90, food - 84, transportation - 84, miscellaneous - 49, recreation - 44, \n",
      "Cluster 14: food - 138, personal - 105, miscellaneous - 90, recreation - 63, utilities - 54, \n"
     ]
    }
   ],
   "source": [
    "for i in range(model.n_clusters_):\n",
    "    print(f'Cluster {i}: ', end='')\n",
    "    category_counts = df[df.new_w == i].category.value_counts()[:5]\n",
    "    for name, count in zip(category_counts.index, category_counts):\n",
    "        print(f'{name} - {count}, ', end='')\n",
    "    print()"
   ]
  },
  {
   "cell_type": "code",
   "execution_count": 43,
   "id": "efa9cde0",
   "metadata": {},
   "outputs": [
    {
     "data": {
      "text/html": [
       "<div>\n",
       "<style scoped>\n",
       "    .dataframe tbody tr th:only-of-type {\n",
       "        vertical-align: middle;\n",
       "    }\n",
       "\n",
       "    .dataframe tbody tr th {\n",
       "        vertical-align: top;\n",
       "    }\n",
       "\n",
       "    .dataframe thead th {\n",
       "        text-align: right;\n",
       "    }\n",
       "</style>\n",
       "<table border=\"1\" class=\"dataframe\">\n",
       "  <thead>\n",
       "    <tr style=\"text-align: right;\">\n",
       "      <th></th>\n",
       "      <th>entry</th>\n",
       "      <th>category</th>\n",
       "      <th>entry_new</th>\n",
       "      <th>new_w</th>\n",
       "      <th>new</th>\n",
       "      <th>new_c</th>\n",
       "    </tr>\n",
       "  </thead>\n",
       "  <tbody>\n",
       "    <tr>\n",
       "      <th>806</th>\n",
       "      <td>Ice-cream is 6000 naira</td>\n",
       "      <td>food</td>\n",
       "      <td>ice cream naira</td>\n",
       "      <td>6</td>\n",
       "      <td>7</td>\n",
       "      <td>9</td>\n",
       "    </tr>\n",
       "    <tr>\n",
       "      <th>2620</th>\n",
       "      <td>workers in the cottage</td>\n",
       "      <td>housing</td>\n",
       "      <td>worker cottage</td>\n",
       "      <td>6</td>\n",
       "      <td>7</td>\n",
       "      <td>9</td>\n",
       "    </tr>\n",
       "    <tr>\n",
       "      <th>10446</th>\n",
       "      <td>Buy a new dog collar</td>\n",
       "      <td>miscellaneous</td>\n",
       "      <td>dog collar</td>\n",
       "      <td>6</td>\n",
       "      <td>7</td>\n",
       "      <td>9</td>\n",
       "    </tr>\n",
       "    <tr>\n",
       "      <th>7528</th>\n",
       "      <td>pantalon</td>\n",
       "      <td>nonsense</td>\n",
       "      <td>pantalon</td>\n",
       "      <td>6</td>\n",
       "      <td>7</td>\n",
       "      <td>9</td>\n",
       "    </tr>\n",
       "    <tr>\n",
       "      <th>2641</th>\n",
       "      <td>Paid mortgage</td>\n",
       "      <td>housing</td>\n",
       "      <td>paid mortgage</td>\n",
       "      <td>6</td>\n",
       "      <td>7</td>\n",
       "      <td>9</td>\n",
       "    </tr>\n",
       "    <tr>\n",
       "      <th>2826</th>\n",
       "      <td>Zip lining</td>\n",
       "      <td>recreation</td>\n",
       "      <td>zip lining</td>\n",
       "      <td>6</td>\n",
       "      <td>7</td>\n",
       "      <td>8</td>\n",
       "    </tr>\n",
       "    <tr>\n",
       "      <th>7944</th>\n",
       "      <td>house cleaning</td>\n",
       "      <td>housing</td>\n",
       "      <td>house cleaning</td>\n",
       "      <td>6</td>\n",
       "      <td>7</td>\n",
       "      <td>8</td>\n",
       "    </tr>\n",
       "    <tr>\n",
       "      <th>8937</th>\n",
       "      <td>Necktie</td>\n",
       "      <td>miscellaneous</td>\n",
       "      <td>necktie</td>\n",
       "      <td>6</td>\n",
       "      <td>7</td>\n",
       "      <td>9</td>\n",
       "    </tr>\n",
       "    <tr>\n",
       "      <th>6784</th>\n",
       "      <td>Fabric conditioner</td>\n",
       "      <td>food</td>\n",
       "      <td>fabric conditioner</td>\n",
       "      <td>6</td>\n",
       "      <td>7</td>\n",
       "      <td>4</td>\n",
       "    </tr>\n",
       "    <tr>\n",
       "      <th>4218</th>\n",
       "      <td>Utilities</td>\n",
       "      <td>utilities</td>\n",
       "      <td>utility</td>\n",
       "      <td>6</td>\n",
       "      <td>7</td>\n",
       "      <td>9</td>\n",
       "    </tr>\n",
       "  </tbody>\n",
       "</table>\n",
       "</div>"
      ],
      "text/plain": [
       "                         entry       category           entry_new  new_w  new  \\\n",
       "806    Ice-cream is 6000 naira           food     ice cream naira      6    7   \n",
       "2620    workers in the cottage        housing      worker cottage      6    7   \n",
       "10446     Buy a new dog collar  miscellaneous          dog collar      6    7   \n",
       "7528                  pantalon       nonsense            pantalon      6    7   \n",
       "2641             Paid mortgage        housing       paid mortgage      6    7   \n",
       "2826                Zip lining     recreation          zip lining      6    7   \n",
       "7944            house cleaning        housing      house cleaning      6    7   \n",
       "8937                   Necktie  miscellaneous             necktie      6    7   \n",
       "6784       Fabric conditioner            food  fabric conditioner      6    7   \n",
       "4218                 Utilities      utilities             utility      6    7   \n",
       "\n",
       "       new_c  \n",
       "806        9  \n",
       "2620       9  \n",
       "10446      9  \n",
       "7528       9  \n",
       "2641       9  \n",
       "2826       8  \n",
       "7944       8  \n",
       "8937       9  \n",
       "6784       4  \n",
       "4218       9  "
      ]
     },
     "execution_count": 43,
     "metadata": {},
     "output_type": "execute_result"
    }
   ],
   "source": [
    "df[df.new_w == 6].sample(10)"
   ]
  },
  {
   "cell_type": "markdown",
   "id": "13b85603",
   "metadata": {},
   "source": [
    "К сожалению, даже на редких категориях не прослеживается логическая связь между объектами в кластерах. Попробуем альтернативную связь для оценки внутри алгоритма. `ward` старается минимизировать дисперсию внутри дочернего кластера при объединении двух родительских кластеров."
   ]
  },
  {
   "cell_type": "code",
   "execution_count": 44,
   "id": "70d2a2cc",
   "metadata": {},
   "outputs": [
    {
     "name": "stdout",
     "output_type": "stream",
     "text": [
      "CPU times: total: 1min 30s\n",
      "Wall time: 1min 30s\n"
     ]
    }
   ],
   "source": [
    "%%time\n",
    "model = AgglomerativeClustering(distance_threshold=0, n_clusters=None, compute_distances=True, linkage='ward')\n",
    "model = model.fit(X.toarray())"
   ]
  },
  {
   "cell_type": "code",
   "execution_count": 45,
   "id": "12c7beaf",
   "metadata": {
    "scrolled": false
   },
   "outputs": [
    {
     "data": {
      "image/png": "[encoded data removed]",
      "text/plain": [
       "<Figure size 1152x216 with 1 Axes>"
      ]
     },
     "metadata": {
      "needs_background": "light"
     },
     "output_type": "display_data"
    }
   ],
   "source": [
    "fig = plt.figure(figsize=(16, 3))\n",
    "plt.title('Hierarchical Clustering Dendrogram')\n",
    "# plot the top three levels of the dendrogram\n",
    "plot_dendrogram(model, truncate_mode='level', orientation='top', p=7, leaf_font_size=10)\n",
    "plt.xlabel('Number of points in node (or index of point if no parenthesis).')\n",
    "plt.grid()\n",
    "plt.show()"
   ]
  },
  {
   "cell_type": "markdown",
   "id": "0b9c1634",
   "metadata": {},
   "source": [
    "С данным способом объединения кластеров мы видим аналогичную проблему - бОльшая часть данных (8368) строк попали в один кластер, что говорит о близости этих векторов и для этой меры также. Попробуем также поработать с пониженными размерностями."
   ]
  },
  {
   "cell_type": "code",
   "execution_count": 46,
   "id": "deb1115d",
   "metadata": {},
   "outputs": [
    {
     "name": "stdout",
     "output_type": "stream",
     "text": [
      "CPU times: total: 52.3 s\n",
      "Wall time: 52.5 s\n"
     ]
    }
   ],
   "source": [
    "%%time\n",
    "model = AgglomerativeClustering(distance_threshold=0, n_clusters=None, compute_distances=True, linkage='ward')\n",
    "model = model.fit(X_lsa_c)"
   ]
  },
  {
   "cell_type": "code",
   "execution_count": 47,
   "id": "6100fa5a",
   "metadata": {
    "scrolled": false
   },
   "outputs": [
    {
     "data": {
      "image/png": "[encoded data removed]",
      "text/plain": [
       "<Figure size 1152x216 with 1 Axes>"
      ]
     },
     "metadata": {
      "needs_background": "light"
     },
     "output_type": "display_data"
    }
   ],
   "source": [
    "fig = plt.figure(figsize=(16, 3))\n",
    "plt.title('Hierarchical Clustering Dendrogram')\n",
    "# plot the top three levels of the dendrogram\n",
    "plot_dendrogram(model, truncate_mode='level', orientation='top', p=5, leaf_font_size=10)\n",
    "plt.xlabel('Number of points in node (or index of point if no parenthesis).')\n",
    "plt.grid()\n",
    "plt.show()"
   ]
  },
  {
   "cell_type": "markdown",
   "id": "03a98b42",
   "metadata": {},
   "source": [
    "Подберём \"разумное\" количество кластеров."
   ]
  },
  {
   "cell_type": "code",
   "execution_count": 48,
   "id": "afe85ca0",
   "metadata": {},
   "outputs": [
    {
     "name": "stdout",
     "output_type": "stream",
     "text": [
      "CPU times: total: 53.9 s\n",
      "Wall time: 54.3 s\n"
     ]
    }
   ],
   "source": [
    "%%time\n",
    "model = AgglomerativeClustering(distance_threshold=7, n_clusters=None, compute_distances=True, linkage='ward')\n",
    "labels = model.fit_predict(X_lsa_c)"
   ]
  },
  {
   "cell_type": "code",
   "execution_count": 49,
   "id": "dfb9f0c5",
   "metadata": {},
   "outputs": [
    {
     "data": {
      "text/plain": [
       "32"
      ]
     },
     "execution_count": 49,
     "metadata": {},
     "output_type": "execute_result"
    }
   ],
   "source": [
    "model.n_clusters_"
   ]
  },
  {
   "cell_type": "code",
   "execution_count": 50,
   "id": "19fb4da4",
   "metadata": {},
   "outputs": [
    {
     "data": {
      "image/png": "[encoded data removed]",
      "text/plain": [
       "<Figure size 1080x360 with 1 Axes>"
      ]
     },
     "metadata": {
      "needs_background": "light"
     },
     "output_type": "display_data"
    }
   ],
   "source": [
    "df['new_c'] = labels\n",
    "\n",
    "fig = plt.figure(figsize=(15, 5))\n",
    "sns.countplot(data=df, y='new_c')\n",
    "plt.show()"
   ]
  },
  {
   "cell_type": "markdown",
   "id": "265bfc78",
   "metadata": {},
   "source": [
    "Посмотрим на ключевые слова и категории."
   ]
  },
  {
   "cell_type": "code",
   "execution_count": 51,
   "id": "98f1aec7",
   "metadata": {},
   "outputs": [
    {
     "name": "stdout",
     "output_type": "stream",
     "text": [
      "Cluster 0: food - 1590, personal - 1297, miscellaneous - 1093, recreation - 582, housing - 520, \n",
      "Cluster 1: utilities - 162, miscellaneous - 19, recreation - 5, saving - 5, personal - 4, \n",
      "Cluster 2: transportation - 56, personal - 36, miscellaneous - 34, housing - 34, utilities - 10, \n",
      "Cluster 3: medical - 67, \n",
      "Cluster 4: transportation - 57, utilities - 34, food - 28, miscellaneous - 4, housing - 2, \n",
      "Cluster 5: housing - 87, transportation - 29, utilities - 19, saving - 11, nonsense - 8, \n",
      "Cluster 6: personal - 73, housing - 22, utilities - 11, transportation - 9, miscellaneous - 8, \n",
      "Cluster 7: personal - 57, miscellaneous - 10, nonsense - 2, medical - 1, \n",
      "Cluster 8: food - 59, transportation - 1, nonsense - 1, recreation - 1, \n",
      "Cluster 9: recreation - 86, miscellaneous - 26, food - 18, personal - 16, saving - 4, \n",
      "Cluster 10: utilities - 145, recreation - 36, personal - 13, miscellaneous - 13, medical - 6, \n",
      "Cluster 11: food - 13, personal - 13, miscellaneous - 11, housing - 6, nonsense - 2, \n",
      "Cluster 12: medical - 35, saving - 23, transportation - 22, housing - 6, miscellaneous - 5, \n",
      "Cluster 13: transportation - 86, recreation - 1, \n",
      "Cluster 14: food - 31, utilities - 23, miscellaneous - 3, \n",
      "Cluster 15: utilities - 129, miscellaneous - 2, housing - 1, saving - 1, \n",
      "Cluster 16: food - 42, personal - 18, miscellaneous - 6, housing - 5, nonsense - 2, \n",
      "Cluster 17: housing - 27, transportation - 17, medical - 3, utilities - 2, miscellaneous - 1, \n",
      "Cluster 18: food - 74, miscellaneous - 11, medical - 2, utilities - 1, nonsense - 1, \n",
      "Cluster 19: personal - 37, recreation - 1, \n",
      "Cluster 20: miscellaneous - 47, saving - 19, personal - 17, transportation - 9, utilities - 4, \n",
      "Cluster 21: miscellaneous - 17, saving - 14, personal - 4, nonsense - 3, utilities - 1, \n",
      "Cluster 22: miscellaneous - 19, utilities - 10, personal - 5, nonsense - 3, saving - 2, \n",
      "Cluster 23: utilities - 58, food - 5, housing - 3, nonsense - 1, \n",
      "Cluster 24: food - 38, personal - 1, housing - 1, nonsense - 1, miscellaneous - 1, \n",
      "Cluster 25: utilities - 69, \n",
      "Cluster 26: miscellaneous - 61, personal - 37, recreation - 21, utilities - 6, nonsense - 6, \n",
      "Cluster 27: food - 88, \n",
      "Cluster 28: utilities - 36, recreation - 1, \n",
      "Cluster 29: transportation - 51, utilities - 1, \n",
      "Cluster 30: recreation - 69, transportation - 29, personal - 16, food - 12, miscellaneous - 8, \n",
      "Cluster 31: saving - 29, utilities - 4, transportation - 1, \n"
     ]
    }
   ],
   "source": [
    "for i in range(model.n_clusters_):\n",
    "    print(f'Cluster {i}: ', end='')\n",
    "    category_counts = df[df.new_c == i].category.value_counts()[:5]\n",
    "    for name, count in zip(category_counts.index, category_counts):\n",
    "        print(f'{name} - {count}, ', end='')\n",
    "    print()"
   ]
  },
  {
   "cell_type": "code",
   "execution_count": 52,
   "id": "fdb6ec56",
   "metadata": {},
   "outputs": [
    {
     "data": {
      "text/html": [
       "<div>\n",
       "<style scoped>\n",
       "    .dataframe tbody tr th:only-of-type {\n",
       "        vertical-align: middle;\n",
       "    }\n",
       "\n",
       "    .dataframe tbody tr th {\n",
       "        vertical-align: top;\n",
       "    }\n",
       "\n",
       "    .dataframe thead th {\n",
       "        text-align: right;\n",
       "    }\n",
       "</style>\n",
       "<table border=\"1\" class=\"dataframe\">\n",
       "  <thead>\n",
       "    <tr style=\"text-align: right;\">\n",
       "      <th></th>\n",
       "      <th>entry</th>\n",
       "      <th>category</th>\n",
       "      <th>entry_new</th>\n",
       "      <th>new_w</th>\n",
       "      <th>new</th>\n",
       "      <th>new_c</th>\n",
       "    </tr>\n",
       "  </thead>\n",
       "  <tbody>\n",
       "    <tr>\n",
       "      <th>7217</th>\n",
       "      <td>school lunch 2000 tl</td>\n",
       "      <td>food</td>\n",
       "      <td>school lunch tl</td>\n",
       "      <td>0</td>\n",
       "      <td>10</td>\n",
       "      <td>24</td>\n",
       "    </tr>\n",
       "    <tr>\n",
       "      <th>763</th>\n",
       "      <td>Lunch 450</td>\n",
       "      <td>food</td>\n",
       "      <td>lunch</td>\n",
       "      <td>0</td>\n",
       "      <td>10</td>\n",
       "      <td>24</td>\n",
       "    </tr>\n",
       "    <tr>\n",
       "      <th>2793</th>\n",
       "      <td>Kids lunch box $7</td>\n",
       "      <td>food</td>\n",
       "      <td>kid lunch box</td>\n",
       "      <td>12</td>\n",
       "      <td>10</td>\n",
       "      <td>24</td>\n",
       "    </tr>\n",
       "    <tr>\n",
       "      <th>8505</th>\n",
       "      <td>Lunch 600</td>\n",
       "      <td>food</td>\n",
       "      <td>lunch</td>\n",
       "      <td>0</td>\n",
       "      <td>10</td>\n",
       "      <td>24</td>\n",
       "    </tr>\n",
       "    <tr>\n",
       "      <th>3075</th>\n",
       "      <td>Paid for son's lunch</td>\n",
       "      <td>personal</td>\n",
       "      <td>paid son lunch</td>\n",
       "      <td>11</td>\n",
       "      <td>10</td>\n",
       "      <td>24</td>\n",
       "    </tr>\n",
       "    <tr>\n",
       "      <th>8740</th>\n",
       "      <td>Lunch 3</td>\n",
       "      <td>food</td>\n",
       "      <td>lunch</td>\n",
       "      <td>0</td>\n",
       "      <td>10</td>\n",
       "      <td>24</td>\n",
       "    </tr>\n",
       "    <tr>\n",
       "      <th>3643</th>\n",
       "      <td>Lunch 200</td>\n",
       "      <td>food</td>\n",
       "      <td>lunch</td>\n",
       "      <td>0</td>\n",
       "      <td>10</td>\n",
       "      <td>24</td>\n",
       "    </tr>\n",
       "    <tr>\n",
       "      <th>3542</th>\n",
       "      <td>Lunch expenses of the month</td>\n",
       "      <td>food</td>\n",
       "      <td>lunch month</td>\n",
       "      <td>0</td>\n",
       "      <td>10</td>\n",
       "      <td>24</td>\n",
       "    </tr>\n",
       "    <tr>\n",
       "      <th>8044</th>\n",
       "      <td>lunchwithgf</td>\n",
       "      <td>food</td>\n",
       "      <td>lunchwithgf</td>\n",
       "      <td>11</td>\n",
       "      <td>7</td>\n",
       "      <td>24</td>\n",
       "    </tr>\n",
       "    <tr>\n",
       "      <th>7776</th>\n",
       "      <td>Lunch out ksh1600</td>\n",
       "      <td>food</td>\n",
       "      <td>lunch ksh</td>\n",
       "      <td>0</td>\n",
       "      <td>10</td>\n",
       "      <td>24</td>\n",
       "    </tr>\n",
       "  </tbody>\n",
       "</table>\n",
       "</div>"
      ],
      "text/plain": [
       "                             entry  category        entry_new  new_w  new  \\\n",
       "7217          school lunch 2000 tl      food  school lunch tl      0   10   \n",
       "763                      Lunch 450      food            lunch      0   10   \n",
       "2793             Kids lunch box $7      food    kid lunch box     12   10   \n",
       "8505                     Lunch 600      food            lunch      0   10   \n",
       "3075         Paid for son's lunch   personal   paid son lunch     11   10   \n",
       "8740                       Lunch 3      food            lunch      0   10   \n",
       "3643                     Lunch 200      food            lunch      0   10   \n",
       "3542  Lunch expenses of the month       food      lunch month      0   10   \n",
       "8044                   lunchwithgf      food      lunchwithgf     11    7   \n",
       "7776             Lunch out ksh1600      food        lunch ksh      0   10   \n",
       "\n",
       "      new_c  \n",
       "7217     24  \n",
       "763      24  \n",
       "2793     24  \n",
       "8505     24  \n",
       "3075     24  \n",
       "8740     24  \n",
       "3643     24  \n",
       "3542     24  \n",
       "8044     24  \n",
       "7776     24  "
      ]
     },
     "execution_count": 52,
     "metadata": {},
     "output_type": "execute_result"
    }
   ],
   "source": [
    "df[df.new_c == 24].sample(10)"
   ]
  },
  {
   "cell_type": "markdown",
   "id": "b30f492b",
   "metadata": {},
   "source": [
    "#### Выводы\n",
    "\n",
    "Алгоритм Agglomerate Clustering позволяет увидеть визуальное распределение кластеров и пути их объединения с помощью дендрограмм и представляет интересный инструмент для исследования возможных кластеров.\n",
    "\n",
    "В случае с нашими данными наиболее популярный способ поиска родительских кластеров для объединения `ward` не позволяет отделить бОльшую часть данных. Связь на основе максимальной дистанции между объединяемыми кластерами `complete` позволяет равномерно разделить данные, но полученные таким образом кластеры не имеют смысла с точки зрения \"бизнес\"-задачи.\n",
    "\n",
    "Рассмотрим модель DBSCAN."
   ]
  },
  {
   "cell_type": "markdown",
   "id": "eda75c0c",
   "metadata": {},
   "source": [
    "### DBSCAN\n",
    "\n",
    "Принцип работы основан на поиске зон с высокой и низкой плотностью точек. Посмотрим на работу алгоритма на исходных данных."
   ]
  },
  {
   "cell_type": "code",
   "execution_count": 53,
   "id": "605611d7",
   "metadata": {},
   "outputs": [
    {
     "name": "stdout",
     "output_type": "stream",
     "text": [
      "CPU times: total: 36.7 s\n",
      "Wall time: 7.3 s\n"
     ]
    }
   ],
   "source": [
    "%%time\n",
    "model = DBSCAN(eps=.1, min_samples=25, metric='euclidean', n_jobs=-1)\n",
    "labels = model.fit_predict(X.toarray())"
   ]
  },
  {
   "cell_type": "code",
   "execution_count": 54,
   "id": "2b931e3e",
   "metadata": {},
   "outputs": [
    {
     "data": {
      "text/plain": [
       "10"
      ]
     },
     "execution_count": 54,
     "metadata": {},
     "output_type": "execute_result"
    }
   ],
   "source": [
    "n_clusters_ = len(set(labels)) - (1 if -1 in labels else 0)\n",
    "n_clusters_"
   ]
  },
  {
   "cell_type": "markdown",
   "id": "4be78ab0",
   "metadata": {},
   "source": [
    "Посмотрим на отчёт по классификации."
   ]
  },
  {
   "cell_type": "code",
   "execution_count": 55,
   "id": "0e85c2d9",
   "metadata": {},
   "outputs": [
    {
     "data": {
      "image/png": "[encoded data removed]",
      "text/plain": [
       "<Figure size 1080x360 with 1 Axes>"
      ]
     },
     "metadata": {
      "needs_background": "light"
     },
     "output_type": "display_data"
    }
   ],
   "source": [
    "df['new'] = labels\n",
    "\n",
    "fig = plt.figure(figsize=(15, 5))\n",
    "sns.countplot(data=df, y='new')\n",
    "plt.show()"
   ]
  },
  {
   "cell_type": "markdown",
   "id": "baa6f31a",
   "metadata": {},
   "source": [
    "Посмотрим на ключевые слова и категории."
   ]
  },
  {
   "cell_type": "code",
   "execution_count": 56,
   "id": "7e38cf71",
   "metadata": {},
   "outputs": [
    {
     "name": "stdout",
     "output_type": "stream",
     "text": [
      "Cluster 0: food - 49, \n",
      "Cluster 1: utilities - 50, \n",
      "Cluster 2: transportation - 36, \n",
      "Cluster 3: utilities - 43, personal - 1, housing - 1, miscellaneous - 1, \n",
      "Cluster 4: personal - 25, recreation - 1, \n",
      "Cluster 5: housing - 24, utilities - 1, transportation - 1, \n",
      "Cluster 6: utilities - 46, food - 4, housing - 3, nonsense - 1, \n",
      "Cluster 7: transportation - 15, utilities - 11, \n",
      "Cluster 8: utilities - 32, \n",
      "Cluster 9: miscellaneous - 13, saving - 9, utilities - 3, personal - 1, \n"
     ]
    }
   ],
   "source": [
    "for i in range(n_clusters_):\n",
    "    print(f'Cluster {i}: ', end='')\n",
    "    category_counts = df[df['new'] == i].category.value_counts()[:5]\n",
    "    for name, count in zip(category_counts.index, category_counts):\n",
    "        print(f'{name} - {count}, ', end='')\n",
    "    print()"
   ]
  },
  {
   "cell_type": "code",
   "execution_count": 57,
   "id": "2457f0f2",
   "metadata": {
    "scrolled": true
   },
   "outputs": [
    {
     "data": {
      "text/html": [
       "<div>\n",
       "<style scoped>\n",
       "    .dataframe tbody tr th:only-of-type {\n",
       "        vertical-align: middle;\n",
       "    }\n",
       "\n",
       "    .dataframe tbody tr th {\n",
       "        vertical-align: top;\n",
       "    }\n",
       "\n",
       "    .dataframe thead th {\n",
       "        text-align: right;\n",
       "    }\n",
       "</style>\n",
       "<table border=\"1\" class=\"dataframe\">\n",
       "  <thead>\n",
       "    <tr style=\"text-align: right;\">\n",
       "      <th></th>\n",
       "      <th>entry</th>\n",
       "      <th>category</th>\n",
       "      <th>entry_new</th>\n",
       "      <th>new_w</th>\n",
       "      <th>new</th>\n",
       "      <th>new_c</th>\n",
       "    </tr>\n",
       "  </thead>\n",
       "  <tbody>\n",
       "    <tr>\n",
       "      <th>10122</th>\n",
       "      <td>Phone bill 77</td>\n",
       "      <td>utilities</td>\n",
       "      <td>phone bill</td>\n",
       "      <td>7</td>\n",
       "      <td>3</td>\n",
       "      <td>1</td>\n",
       "    </tr>\n",
       "    <tr>\n",
       "      <th>8158</th>\n",
       "      <td>phone top up</td>\n",
       "      <td>utilities</td>\n",
       "      <td>phone top</td>\n",
       "      <td>7</td>\n",
       "      <td>3</td>\n",
       "      <td>1</td>\n",
       "    </tr>\n",
       "    <tr>\n",
       "      <th>917</th>\n",
       "      <td>phone 25</td>\n",
       "      <td>utilities</td>\n",
       "      <td>phone</td>\n",
       "      <td>7</td>\n",
       "      <td>3</td>\n",
       "      <td>1</td>\n",
       "    </tr>\n",
       "    <tr>\n",
       "      <th>133</th>\n",
       "      <td>Phone bill</td>\n",
       "      <td>utilities</td>\n",
       "      <td>phone bill</td>\n",
       "      <td>7</td>\n",
       "      <td>3</td>\n",
       "      <td>1</td>\n",
       "    </tr>\n",
       "    <tr>\n",
       "      <th>1540</th>\n",
       "      <td>Phone Bill</td>\n",
       "      <td>utilities</td>\n",
       "      <td>phone bill</td>\n",
       "      <td>7</td>\n",
       "      <td>3</td>\n",
       "      <td>1</td>\n",
       "    </tr>\n",
       "    <tr>\n",
       "      <th>1375</th>\n",
       "      <td>Phone bill</td>\n",
       "      <td>utilities</td>\n",
       "      <td>phone bill</td>\n",
       "      <td>7</td>\n",
       "      <td>3</td>\n",
       "      <td>1</td>\n",
       "    </tr>\n",
       "    <tr>\n",
       "      <th>3013</th>\n",
       "      <td>Phone</td>\n",
       "      <td>utilities</td>\n",
       "      <td>phone</td>\n",
       "      <td>7</td>\n",
       "      <td>3</td>\n",
       "      <td>1</td>\n",
       "    </tr>\n",
       "    <tr>\n",
       "      <th>9201</th>\n",
       "      <td>New phone 3000</td>\n",
       "      <td>utilities</td>\n",
       "      <td>phone</td>\n",
       "      <td>7</td>\n",
       "      <td>3</td>\n",
       "      <td>1</td>\n",
       "    </tr>\n",
       "    <tr>\n",
       "      <th>2161</th>\n",
       "      <td>New phone payment</td>\n",
       "      <td>utilities</td>\n",
       "      <td>phone</td>\n",
       "      <td>7</td>\n",
       "      <td>3</td>\n",
       "      <td>1</td>\n",
       "    </tr>\n",
       "    <tr>\n",
       "      <th>7128</th>\n",
       "      <td>Phone bill 25</td>\n",
       "      <td>utilities</td>\n",
       "      <td>phone bill</td>\n",
       "      <td>7</td>\n",
       "      <td>3</td>\n",
       "      <td>1</td>\n",
       "    </tr>\n",
       "  </tbody>\n",
       "</table>\n",
       "</div>"
      ],
      "text/plain": [
       "                   entry   category   entry_new  new_w  new  new_c\n",
       "10122      Phone bill 77  utilities  phone bill      7    3      1\n",
       "8158        phone top up  utilities   phone top      7    3      1\n",
       "917             phone 25  utilities       phone      7    3      1\n",
       "133           Phone bill  utilities  phone bill      7    3      1\n",
       "1540          Phone Bill  utilities  phone bill      7    3      1\n",
       "1375         Phone bill   utilities  phone bill      7    3      1\n",
       "3013              Phone   utilities       phone      7    3      1\n",
       "9201      New phone 3000  utilities       phone      7    3      1\n",
       "2161   New phone payment  utilities       phone      7    3      1\n",
       "7128       Phone bill 25  utilities  phone bill      7    3      1"
      ]
     },
     "execution_count": 57,
     "metadata": {},
     "output_type": "execute_result"
    }
   ],
   "source": [
    "df[df['new'] == 3].sample(10)"
   ]
  },
  {
   "cell_type": "markdown",
   "id": "b896a7b5",
   "metadata": {},
   "source": [
    "С метрикой в виде Евклидова расстояния модель записывает неразделимое облако точек в категорию `шум` или -1, остальные же категории оказались хорошо разделены и легко интерпретируемы, хотя мы и потеряли бОльшую часть данных. Попробуем провести аналогичный тест с данными уменьшенной размерности."
   ]
  },
  {
   "cell_type": "code",
   "execution_count": 58,
   "id": "c5562bf8",
   "metadata": {},
   "outputs": [
    {
     "name": "stdout",
     "output_type": "stream",
     "text": [
      "CPU times: total: 22.2 s\n",
      "Wall time: 4.98 s\n"
     ]
    }
   ],
   "source": [
    "%%time\n",
    "model = DBSCAN(eps=.1, min_samples=25, metric='euclidean', n_jobs=-1)\n",
    "labels = model.fit_predict(X_lsa_c)"
   ]
  },
  {
   "cell_type": "code",
   "execution_count": 59,
   "id": "d4bda9b1",
   "metadata": {},
   "outputs": [
    {
     "data": {
      "text/plain": [
       "7"
      ]
     },
     "execution_count": 59,
     "metadata": {},
     "output_type": "execute_result"
    }
   ],
   "source": [
    "n_clusters_ = len(set(labels)) - (1 if -1 in labels else 0)\n",
    "n_clusters_"
   ]
  },
  {
   "cell_type": "markdown",
   "id": "aa105555",
   "metadata": {},
   "source": [
    "Посмотрим на отчёт по классификации."
   ]
  },
  {
   "cell_type": "code",
   "execution_count": 60,
   "id": "94010613",
   "metadata": {},
   "outputs": [
    {
     "data": {
      "image/png": "[encoded data removed]",
      "text/plain": [
       "<Figure size 1080x360 with 1 Axes>"
      ]
     },
     "metadata": {
      "needs_background": "light"
     },
     "output_type": "display_data"
    }
   ],
   "source": [
    "df['new_c'] = labels\n",
    "\n",
    "fig = plt.figure(figsize=(15, 5))\n",
    "sns.countplot(data=df, y='new_c')\n",
    "plt.show()"
   ]
  },
  {
   "cell_type": "markdown",
   "id": "d53dca12",
   "metadata": {},
   "source": [
    "Посмотрим на ключевые слова и категории."
   ]
  },
  {
   "cell_type": "code",
   "execution_count": 61,
   "id": "90314f7d",
   "metadata": {},
   "outputs": [
    {
     "name": "stdout",
     "output_type": "stream",
     "text": [
      "Cluster 0: food - 47, \n",
      "Cluster 1: transportation - 36, \n",
      "Cluster 2: utilities - 33, \n",
      "Cluster 3: personal - 25, recreation - 1, \n",
      "Cluster 4: housing - 24, utilities - 1, transportation - 1, \n",
      "Cluster 5: utilities - 36, housing - 1, \n",
      "Cluster 6: miscellaneous - 12, saving - 9, utilities - 3, personal - 1, \n"
     ]
    }
   ],
   "source": [
    "for i in range(n_clusters_):\n",
    "    print(f'Cluster {i}: ', end='')\n",
    "    category_counts = df[df['new_c'] == i].category.value_counts()[:5]\n",
    "    for name, count in zip(category_counts.index, category_counts):\n",
    "        print(f'{name} - {count}, ', end='')\n",
    "    print()"
   ]
  },
  {
   "cell_type": "code",
   "execution_count": 62,
   "id": "ec9b2169",
   "metadata": {
    "scrolled": true
   },
   "outputs": [
    {
     "data": {
      "text/html": [
       "<div>\n",
       "<style scoped>\n",
       "    .dataframe tbody tr th:only-of-type {\n",
       "        vertical-align: middle;\n",
       "    }\n",
       "\n",
       "    .dataframe tbody tr th {\n",
       "        vertical-align: top;\n",
       "    }\n",
       "\n",
       "    .dataframe thead th {\n",
       "        text-align: right;\n",
       "    }\n",
       "</style>\n",
       "<table border=\"1\" class=\"dataframe\">\n",
       "  <thead>\n",
       "    <tr style=\"text-align: right;\">\n",
       "      <th></th>\n",
       "      <th>entry</th>\n",
       "      <th>category</th>\n",
       "      <th>entry_new</th>\n",
       "      <th>new_w</th>\n",
       "      <th>new</th>\n",
       "      <th>new_c</th>\n",
       "    </tr>\n",
       "  </thead>\n",
       "  <tbody>\n",
       "    <tr>\n",
       "      <th>3856</th>\n",
       "      <td>Bought a new shoe</td>\n",
       "      <td>personal</td>\n",
       "      <td>shoe</td>\n",
       "      <td>8</td>\n",
       "      <td>4</td>\n",
       "      <td>3</td>\n",
       "    </tr>\n",
       "    <tr>\n",
       "      <th>6540</th>\n",
       "      <td>shoes</td>\n",
       "      <td>personal</td>\n",
       "      <td>shoe</td>\n",
       "      <td>8</td>\n",
       "      <td>4</td>\n",
       "      <td>3</td>\n",
       "    </tr>\n",
       "    <tr>\n",
       "      <th>7387</th>\n",
       "      <td>Shoes - 3200</td>\n",
       "      <td>personal</td>\n",
       "      <td>shoe</td>\n",
       "      <td>8</td>\n",
       "      <td>4</td>\n",
       "      <td>3</td>\n",
       "    </tr>\n",
       "    <tr>\n",
       "      <th>6674</th>\n",
       "      <td>Shoe purchase</td>\n",
       "      <td>personal</td>\n",
       "      <td>shoe</td>\n",
       "      <td>8</td>\n",
       "      <td>4</td>\n",
       "      <td>3</td>\n",
       "    </tr>\n",
       "    <tr>\n",
       "      <th>3261</th>\n",
       "      <td>Shoes 45$</td>\n",
       "      <td>personal</td>\n",
       "      <td>shoe</td>\n",
       "      <td>8</td>\n",
       "      <td>4</td>\n",
       "      <td>3</td>\n",
       "    </tr>\n",
       "    <tr>\n",
       "      <th>33</th>\n",
       "      <td>New shoes 15$</td>\n",
       "      <td>personal</td>\n",
       "      <td>shoe</td>\n",
       "      <td>8</td>\n",
       "      <td>4</td>\n",
       "      <td>3</td>\n",
       "    </tr>\n",
       "    <tr>\n",
       "      <th>432</th>\n",
       "      <td>New shoes</td>\n",
       "      <td>personal</td>\n",
       "      <td>shoe</td>\n",
       "      <td>8</td>\n",
       "      <td>4</td>\n",
       "      <td>3</td>\n",
       "    </tr>\n",
       "    <tr>\n",
       "      <th>8639</th>\n",
       "      <td>Bought shoes</td>\n",
       "      <td>personal</td>\n",
       "      <td>shoe</td>\n",
       "      <td>8</td>\n",
       "      <td>4</td>\n",
       "      <td>3</td>\n",
       "    </tr>\n",
       "    <tr>\n",
       "      <th>1485</th>\n",
       "      <td>Shoes</td>\n",
       "      <td>personal</td>\n",
       "      <td>shoe</td>\n",
       "      <td>8</td>\n",
       "      <td>4</td>\n",
       "      <td>3</td>\n",
       "    </tr>\n",
       "    <tr>\n",
       "      <th>6381</th>\n",
       "      <td>New shoe</td>\n",
       "      <td>personal</td>\n",
       "      <td>shoe</td>\n",
       "      <td>8</td>\n",
       "      <td>4</td>\n",
       "      <td>3</td>\n",
       "    </tr>\n",
       "  </tbody>\n",
       "</table>\n",
       "</div>"
      ],
      "text/plain": [
       "                  entry  category entry_new  new_w  new  new_c\n",
       "3856  Bought a new shoe  personal      shoe      8    4      3\n",
       "6540              shoes  personal      shoe      8    4      3\n",
       "7387       Shoes - 3200  personal      shoe      8    4      3\n",
       "6674      Shoe purchase  personal      shoe      8    4      3\n",
       "3261          Shoes 45$  personal      shoe      8    4      3\n",
       "33        New shoes 15$  personal      shoe      8    4      3\n",
       "432          New shoes   personal      shoe      8    4      3\n",
       "8639       Bought shoes  personal      shoe      8    4      3\n",
       "1485              Shoes  personal      shoe      8    4      3\n",
       "6381           New shoe  personal      shoe      8    4      3"
      ]
     },
     "execution_count": 62,
     "metadata": {},
     "output_type": "execute_result"
    }
   ],
   "source": [
    "df[df['new_c'] == 3].sample(10)"
   ]
  },
  {
   "cell_type": "markdown",
   "id": "19de8137",
   "metadata": {},
   "source": [
    "Полностью аналогичные результаты. Попробуем другую метрику расстояния."
   ]
  },
  {
   "cell_type": "code",
   "execution_count": 63,
   "id": "9019d77b",
   "metadata": {},
   "outputs": [
    {
     "name": "stderr",
     "output_type": "stream",
     "text": [
      "C:\\Users\\User\\anaconda3\\envs\\practicum\\lib\\site-packages\\sklearn\\metrics\\pairwise.py:1776: DataConversionWarning: Data was converted to boolean for metric jaccard\n",
      "  warnings.warn(msg, DataConversionWarning)\n"
     ]
    },
    {
     "name": "stdout",
     "output_type": "stream",
     "text": [
      "CPU times: total: 11min 11s\n",
      "Wall time: 1min 34s\n"
     ]
    }
   ],
   "source": [
    "%%time\n",
    "model = DBSCAN(eps=.1, min_samples=25, metric='jaccard', n_jobs=-1)\n",
    "labels = model.fit_predict(X.toarray())"
   ]
  },
  {
   "cell_type": "code",
   "execution_count": 64,
   "id": "c21a5da9",
   "metadata": {},
   "outputs": [
    {
     "data": {
      "text/plain": [
       "10"
      ]
     },
     "execution_count": 64,
     "metadata": {},
     "output_type": "execute_result"
    }
   ],
   "source": [
    "n_clusters_ = len(set(labels)) - (1 if -1 in labels else 0)\n",
    "n_clusters_"
   ]
  },
  {
   "cell_type": "code",
   "execution_count": 65,
   "id": "6f5aeac3",
   "metadata": {},
   "outputs": [
    {
     "data": {
      "text/plain": [
       "array([-1, -1,  0, ..., -1, -1, -1], dtype=int64)"
      ]
     },
     "execution_count": 65,
     "metadata": {},
     "output_type": "execute_result"
    }
   ],
   "source": [
    "labels"
   ]
  },
  {
   "cell_type": "markdown",
   "id": "57efc602",
   "metadata": {},
   "source": [
    "Посмотрим на отчёт по классификации."
   ]
  },
  {
   "cell_type": "code",
   "execution_count": 66,
   "id": "64e0e103",
   "metadata": {},
   "outputs": [
    {
     "data": {
      "image/png": "[encoded data removed]",
      "text/plain": [
       "<Figure size 1080x360 with 1 Axes>"
      ]
     },
     "metadata": {
      "needs_background": "light"
     },
     "output_type": "display_data"
    }
   ],
   "source": [
    "df['new'] = labels\n",
    "\n",
    "fig = plt.figure(figsize=(15, 5))\n",
    "sns.countplot(data=df, y='new')\n",
    "plt.show()"
   ]
  },
  {
   "cell_type": "markdown",
   "id": "701a52a0",
   "metadata": {},
   "source": [
    "Посмотрим на ключевые слова и категории."
   ]
  },
  {
   "cell_type": "code",
   "execution_count": 67,
   "id": "5ab27209",
   "metadata": {},
   "outputs": [
    {
     "name": "stdout",
     "output_type": "stream",
     "text": [
      "Cluster 0: food - 49, \n",
      "Cluster 1: utilities - 50, \n",
      "Cluster 2: transportation - 36, \n",
      "Cluster 3: utilities - 43, personal - 1, housing - 1, miscellaneous - 1, \n",
      "Cluster 4: personal - 25, recreation - 1, \n",
      "Cluster 5: housing - 24, utilities - 1, transportation - 1, \n",
      "Cluster 6: utilities - 46, food - 4, housing - 3, nonsense - 1, \n",
      "Cluster 7: transportation - 15, utilities - 11, \n",
      "Cluster 8: utilities - 32, \n",
      "Cluster 9: miscellaneous - 13, saving - 9, utilities - 3, personal - 1, \n"
     ]
    }
   ],
   "source": [
    "for i in range(n_clusters_):\n",
    "    print(f'Cluster {i}: ', end='')\n",
    "    category_counts = df[df['new'] == i].category.value_counts()[:5]\n",
    "    for name, count in zip(category_counts.index, category_counts):\n",
    "        print(f'{name} - {count}, ', end='')\n",
    "    print()"
   ]
  },
  {
   "cell_type": "code",
   "execution_count": 68,
   "id": "9e690118",
   "metadata": {
    "scrolled": true
   },
   "outputs": [
    {
     "data": {
      "text/html": [
       "<div>\n",
       "<style scoped>\n",
       "    .dataframe tbody tr th:only-of-type {\n",
       "        vertical-align: middle;\n",
       "    }\n",
       "\n",
       "    .dataframe tbody tr th {\n",
       "        vertical-align: top;\n",
       "    }\n",
       "\n",
       "    .dataframe thead th {\n",
       "        text-align: right;\n",
       "    }\n",
       "</style>\n",
       "<table border=\"1\" class=\"dataframe\">\n",
       "  <thead>\n",
       "    <tr style=\"text-align: right;\">\n",
       "      <th></th>\n",
       "      <th>entry</th>\n",
       "      <th>category</th>\n",
       "      <th>entry_new</th>\n",
       "      <th>new_w</th>\n",
       "      <th>new</th>\n",
       "      <th>new_c</th>\n",
       "    </tr>\n",
       "  </thead>\n",
       "  <tbody>\n",
       "    <tr>\n",
       "      <th>565</th>\n",
       "      <td>phone bill 40</td>\n",
       "      <td>utilities</td>\n",
       "      <td>phone bill</td>\n",
       "      <td>7</td>\n",
       "      <td>3</td>\n",
       "      <td>-1</td>\n",
       "    </tr>\n",
       "    <tr>\n",
       "      <th>8695</th>\n",
       "      <td>Phone bills - Rs 6500</td>\n",
       "      <td>utilities</td>\n",
       "      <td>phone bill r</td>\n",
       "      <td>7</td>\n",
       "      <td>3</td>\n",
       "      <td>-1</td>\n",
       "    </tr>\n",
       "    <tr>\n",
       "      <th>2114</th>\n",
       "      <td>phone bills</td>\n",
       "      <td>utilities</td>\n",
       "      <td>phone bill</td>\n",
       "      <td>7</td>\n",
       "      <td>3</td>\n",
       "      <td>-1</td>\n",
       "    </tr>\n",
       "    <tr>\n",
       "      <th>5640</th>\n",
       "      <td>phone 10</td>\n",
       "      <td>utilities</td>\n",
       "      <td>phone</td>\n",
       "      <td>7</td>\n",
       "      <td>3</td>\n",
       "      <td>-1</td>\n",
       "    </tr>\n",
       "    <tr>\n",
       "      <th>7128</th>\n",
       "      <td>Phone bill 25</td>\n",
       "      <td>utilities</td>\n",
       "      <td>phone bill</td>\n",
       "      <td>7</td>\n",
       "      <td>3</td>\n",
       "      <td>-1</td>\n",
       "    </tr>\n",
       "    <tr>\n",
       "      <th>548</th>\n",
       "      <td>phone bill 35</td>\n",
       "      <td>utilities</td>\n",
       "      <td>phone bill</td>\n",
       "      <td>7</td>\n",
       "      <td>3</td>\n",
       "      <td>-1</td>\n",
       "    </tr>\n",
       "    <tr>\n",
       "      <th>34</th>\n",
       "      <td>Phone bill 45$</td>\n",
       "      <td>utilities</td>\n",
       "      <td>phone bill</td>\n",
       "      <td>7</td>\n",
       "      <td>3</td>\n",
       "      <td>-1</td>\n",
       "    </tr>\n",
       "    <tr>\n",
       "      <th>6861</th>\n",
       "      <td>Phone bill 65</td>\n",
       "      <td>utilities</td>\n",
       "      <td>phone bill</td>\n",
       "      <td>7</td>\n",
       "      <td>3</td>\n",
       "      <td>-1</td>\n",
       "    </tr>\n",
       "    <tr>\n",
       "      <th>8892</th>\n",
       "      <td>New Phone</td>\n",
       "      <td>miscellaneous</td>\n",
       "      <td>phone</td>\n",
       "      <td>7</td>\n",
       "      <td>3</td>\n",
       "      <td>-1</td>\n",
       "    </tr>\n",
       "    <tr>\n",
       "      <th>5865</th>\n",
       "      <td>phone bill $65</td>\n",
       "      <td>utilities</td>\n",
       "      <td>phone bill</td>\n",
       "      <td>7</td>\n",
       "      <td>3</td>\n",
       "      <td>-1</td>\n",
       "    </tr>\n",
       "  </tbody>\n",
       "</table>\n",
       "</div>"
      ],
      "text/plain": [
       "                      entry       category     entry_new  new_w  new  new_c\n",
       "565           phone bill 40      utilities    phone bill      7    3     -1\n",
       "8695  Phone bills - Rs 6500      utilities  phone bill r      7    3     -1\n",
       "2114            phone bills      utilities    phone bill      7    3     -1\n",
       "5640               phone 10      utilities         phone      7    3     -1\n",
       "7128          Phone bill 25      utilities    phone bill      7    3     -1\n",
       "548           phone bill 35      utilities    phone bill      7    3     -1\n",
       "34           Phone bill 45$      utilities    phone bill      7    3     -1\n",
       "6861          Phone bill 65      utilities    phone bill      7    3     -1\n",
       "8892              New Phone  miscellaneous         phone      7    3     -1\n",
       "5865         phone bill $65      utilities    phone bill      7    3     -1"
      ]
     },
     "execution_count": 68,
     "metadata": {},
     "output_type": "execute_result"
    }
   ],
   "source": [
    "df[df['new'] == 3].sample(10)"
   ]
  },
  {
   "cell_type": "markdown",
   "id": "97645852",
   "metadata": {},
   "source": [
    "#### Выводы\n",
    "\n",
    "В нашем случае, когда основная часть данных представляет собой плотное облако точек, даже такой мощный инструмент как DBSCAN смог лишь отбросив бОльшую часть данных как шум, кластеризовать оставшиеся."
   ]
  },
  {
   "cell_type": "markdown",
   "id": "f3ba27f9",
   "metadata": {},
   "source": [
    "## Заключение\n",
    "\n",
    "В данной работе мы изучили популярные модели машинного обучения в задаче кластеризации.\n",
    "\n",
    "Данные были предобработаны без отбрасывания категорий.\n",
    "\n",
    "Были применены три стратегии векторизации при помощи **TfIdfVectorizer**'а. Отдельные слова, группы от 1 до 3 слов, н-граммы от 3 до 5 символов.\n",
    "\n",
    "Также, для работы с некоторыми моделями был использован метод **TruncatedSVD** для понижения размерности до той степени, при которой объясняется по крайней мере 95% дисперсии исходных данных.\n",
    "\n",
    "Были исследованы модели **K-means**, **Agglomerative Clustering** и **DBSCAN**.\n",
    "\n",
    "Для модели **K-means** мы получили сильный дисбаланс классов, несмотря на применение техники понижения размерности. При этом ни в одной категории мы не наблюдали приличного совпадения кластеризации алгоритмом с кластеризацией пользователями.\n",
    "\n",
    "Также был опробован метод поиска оптимального количества кластеров через исследование графика инерции, но и он не дал положительных результатов - график оказался практически линейным, без выраженных экстремумов.\n",
    "\n",
    "Алгоритм **Agglomerate Clustering** позволяет увидеть визуальное распределение кластеров и пути их объединения с помощью дендрограмм и представляет интересный инструмент для исследования возможных кластеров.\n",
    "\n",
    "В случае с нашими данными наиболее популярный способ поиска родительских кластеров для объединения `ward` не позволяет отделить бОльшую часть данных. Связь на основе максимальной дистанции между объединяемыми кластерами `complete` позволяет равномерно разделить данные, но полученные таким образом кластеры не имеют смысла с точки зрения \"бизнес\"-задачи.\n",
    "\n",
    "Последним исследованным алгоитмом стал **DBSCAN**. Мы исследовали разные метрики расстояний с данным алгоритмом и он смог хорошо кластеризовать часть данных, но лишь при условии записи большинства данных в \"шум\".\n",
    "\n",
    "На основе наблюдений полученных в ходе данной работы можно сделать вывод о том что представленные данные слишком плотно пересекаются и модели машинной кластеризации не подходят для решения задачи разделения без разметки данных вручную.\n",
    "\n",
    "Также можно заключить что с представленными данными методы векторизации н-грамм из слов и отдельных слов не имеют принципиальной разницы, в то время как н-граммы из букв позволяют чуть лучше разделить данные.\n",
    "\n",
    "Понижение размерности позволяет ускорить все модели, а также несколько улучишь некоторые (K-means) из них, но не позволяет достичь лучшего разделения данных."
   ]
  }
 ],
 "metadata": {
  "kernelspec": {
   "display_name": "Python 3 (ipykernel)",
   "language": "python",
   "name": "python3"
  },
  "language_info": {
   "codemirror_mode": {
    "name": "ipython",
    "version": 3
   },
   "file_extension": ".py",
   "mimetype": "text/x-python",
   "name": "python",
   "nbconvert_exporter": "python",
   "pygments_lexer": "ipython3",
   "version": "3.9.13"
  },
  "toc": {
   "base_numbering": 1,
   "nav_menu": {},
   "number_sections": true,
   "sideBar": true,
   "skip_h1_title": false,
   "title_cell": "Table of Contents",
   "title_sidebar": "Contents",
   "toc_cell": false,
   "toc_position": {
    "height": "calc(100% - 180px)",
    "left": "10px",
    "top": "150px",
    "width": "384px"
   },
   "toc_section_display": true,
   "toc_window_display": true
  }
 },
 "nbformat": 4,
 "nbformat_minor": 5
}
